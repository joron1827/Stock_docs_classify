{
 "cells": [
  {
   "cell_type": "code",
   "execution_count": 3,
   "id": "5b2389ef-fce8-4130-841f-100a05d265ea",
   "metadata": {},
   "outputs": [],
   "source": [
    "from pyspark import SparkConf, SparkContext\n",
    "from pyspark.sql import SparkSession\n",
    "from pyspark.sql.functions import input_file_name\n",
    "\n",
    "conf = (SparkConf().setMaster(\"k8s://https://192.168.219.100:6443\") # Your master address name\n",
    "        .set(\"spark.kubernetes.container.image\", \"joron1827/pyspark:v2\") # Spark image name\n",
    "        .set(\"spark.driver.port\", \"2222\") # Needs to match svc\n",
    "        .set(\"spark.driver.blockManager.port\", \"7777\")\n",
    "        .set(\"spark.driver.host\", \"driver-service.jupyterhub.svc.cluster.local\") # Needs to match svc\n",
    "        .set(\"spark.driver.bindAddress\", \"0.0.0.0\")\n",
    "        .set(\"spark.kubernetes.namespace\", \"spark\")\n",
    "        .set(\"spark.kubernetes.authenticate.driver.serviceAccountName\", \"spark\")\n",
    "        .set(\"spark.kubernetes.authenticate.serviceAccountName\", \"spark\")\n",
    "        .set(\"spark.executor.instances\", \"4\")\n",
    "        .set(\"spark.kubernetes.container.image.pullPolicy\", \"IfNotPresent\")\n",
    "        .set(\"spark.app.name\", \"joronSpark\")\n",
    "        .set(\"spark.executor.cores\", \"4\")\n",
    "        .set(\"spark.executor.memory\", \"16g\"))\n",
    "\n"
   ]
  },
  {
   "cell_type": "code",
   "execution_count": 4,
   "id": "3ddcdb70-c555-4e10-a255-09d00faa208b",
   "metadata": {},
   "outputs": [],
   "source": [
    "\n",
    "spark = SparkSession.builder.config(conf=conf).getOrCreate()\n",
    "\n",
    "import time\n",
    "\n",
    "time.sleep(10)"
   ]
  },
  {
   "cell_type": "code",
   "execution_count": 5,
   "id": "e684cc79-08e3-4970-8580-9a32f9946b4f",
   "metadata": {},
   "outputs": [
    {
     "name": "stderr",
     "output_type": "stream",
     "text": [
      "[Stage 1:>                                                          (0 + 1) / 1]\r"
     ]
    },
    {
     "name": "stdout",
     "output_type": "stream",
     "text": [
      "+------+----------+------------------------------------+----------+----------------------------+\n",
      "|  code|      date|                               title|New_Column|                      tokens|\n",
      "+------+----------+------------------------------------+----------+----------------------------+\n",
      "|005930|2023-04-06|                              여러분|         1|                          []|\n",
      "|005930|2023-04-06|      나라가  공매도  개망조 들었다 |         1|[나라, 공매도, 개, 망조, ...|\n",
      "|005930|2023-04-06|       삼성전자 직원 분의  감축 단행|         1|[삼성, 직원, 분, 감축, 단행]|\n",
      "|005930|2023-04-06|                    분위기 좋고 좋고|         1|        [분위기, 좋고, 좋고]|\n",
      "|005930|2023-04-06|        삼성전자는 허구한날 왜이래요|         1|  [성, 는, 허구, 한, 날, 요]|\n",
      "|005930|2023-04-06|                         공매도 전자|         1|                    [공매도]|\n",
      "|005930|2023-04-06|외국인 선물매도 조 넘은거 처음보는데|         1|[외국인, 선물, 매도, 조, ...|\n",
      "|005930|2023-04-06|                    순종 못해 망했다|         1|      [순종, 못, 해, 망했다]|\n",
      "|005930|2023-04-06|                      삼성전자 분기 |         1|                [삼성, 분기]|\n",
      "|005930|2023-04-06|                  공매도 잘 생각해라|         1|    [공매도, 잘, 생각, 해라]|\n",
      "|005930|2023-04-06|                     내일 천원 이상 |         1|                [내일, 천원]|\n",
      "|005930|2023-04-06|            감산 안하다고 뻘짓하더니|         1|[감산, 안, 하다고, 뻘, 짓...|\n",
      "|005930|2023-04-06|                              성렬아|         1|                      [성렬]|\n",
      "|005930|2023-04-06|                       삼전만 문젠가|         1|          [삼전, 만, 문, 젠]|\n",
      "|005930|2023-04-06|           윤성렬 경제외교는 잘 하네|         1|[윤성렬, 경, 외교, 는, 잘...|\n",
      "|005930|2023-04-06|                     떨어진다 흐아앙|         1|        [떨어진다, 흐, 아앙]|\n",
      "|005930|2023-04-06|이젠 삼전보단 에코가 더 안전종목이군|         1|[젠, 삼전, 보단, 에코, 더...|\n",
      "|005930|2023-04-06|                          꼴통전자  |         1|                  [꼴, 통전]|\n",
      "|005930|2023-04-06|                        개 언론 조심|         1|            [개, 언론, 조심]|\n",
      "|005930|2023-04-06|                          리세션온다|         1|            [리, 세션, 온다]|\n",
      "+------+----------+------------------------------------+----------+----------------------------+\n",
      "only showing top 20 rows\n",
      "\n"
     ]
    },
    {
     "name": "stderr",
     "output_type": "stream",
     "text": [
      "                                                                                \r"
     ]
    }
   ],
   "source": [
    "save_path = \"hdfs://192.168.219.121:9000/crawling_stock_text_merge/text_tokens_label.parquet\"\n",
    "\n",
    "tokenized_df = spark.read.parquet(save_path)\n",
    "tokenized_df.show()\n"
   ]
  },
  {
   "cell_type": "code",
   "execution_count": 4,
   "id": "196fedb7-80e2-4360-8ac0-f2855b68dc19",
   "metadata": {},
   "outputs": [
    {
     "name": "stderr",
     "output_type": "stream",
     "text": [
      "[Stage 2:>                                                          (0 + 1) / 1]\r"
     ]
    },
    {
     "name": "stdout",
     "output_type": "stream",
     "text": [
      "+------+----------+------------------------------------+----------+------------------------------+\n",
      "|  code|      date|                               title|New_Column|                        tokens|\n",
      "+------+----------+------------------------------------+----------+------------------------------+\n",
      "|015760|2022-05-30|    이리저리 아무리 생각을 해 보아도|         1|[이리저리, 아무리, 생각, 해...|\n",
      "|015760|2022-05-30|    이리저리 아무리 생각을 해 보아도|         1|[이리저리, 아무리, 생각, 해...|\n",
      "|015760|2022-05-30|                  최순실때 만 갔으니|         1|    [최, 순, 실때, 만, 갔으니]|\n",
      "|015760|2022-05-30|어디에도 전기요금 동결 이야기 없는데|         1|[에도, 전기요금, 동결, 이야...|\n",
      "|015760|2022-05-30|                    매출은 오르는데 |         1|          [매출, 은, 오르는데]|\n",
      "|015760|2022-05-30|                         당분간 하락|         1|                [당분간, 하락]|\n",
      "|015760|2022-05-30|         죄인이처럼 나라 망치지 말자|         1|  [죄인, 처럼, 나라, 망치, ...|\n",
      "|015760|2022-05-30|              공매도 배 증가전날대비|         1|[공매도, 배, 증가, 전날, 대비]|\n",
      "|015760|2022-05-30|                   오늘 용돈 받았다 |         1|          [오늘, 용돈, 받았다]|\n",
      "|015760|2022-05-30| 어차피 개미털려면 가두리양식이 최고|         1|[어차피, 개미, 털려면, 가두...|\n",
      "|015760|2022-05-30|                       한전 상폐해라|         1|          [한전, 상, 폐해, 라]|\n",
      "|015760|2022-05-30|                        신용군담보군|         1|          [신용, 군, 담보, 군]|\n",
      "|015760|2022-05-30| 초밥맨 코데즈컴바인 월 일 억 부동산|         1| [초밥, 맨, 코데즈, 컴바인,...|\n",
      "|015760|2022-05-30|                                부터|         1|                            []|\n",
      "|015760|2022-05-30|      전쟁이 나면 누가 죽창을 드는가|         1|  [전쟁, 나면, 누가, 죽창, ...|\n",
      "|015760|2022-05-30|                    돌아온 설사 타임|         1|                [돌아온, 타임]|\n",
      "|015760|2022-05-30|                           설사 타임|         1|                        [타임]|\n",
      "|015760|2022-05-30|한전없애고산자부와 군이 직접운용해라|         1| [한전, 없애고, 산자부, 군,...|\n",
      "|015760|2022-05-30|                         최근 쥴리가|         1|                  [최근, 쥴리]|\n",
      "|015760|2022-05-30|  삭제된 게시물의 답글우리 문재인...|         1|  [삭제, 된, 게시, 물의, 답...|\n",
      "+------+----------+------------------------------------+----------+------------------------------+\n",
      "only showing top 20 rows\n",
      "\n"
     ]
    },
    {
     "name": "stderr",
     "output_type": "stream",
     "text": [
      "                                                                                \r"
     ]
    }
   ],
   "source": [
    "from pyspark.sql.functions import when\n",
    "\n",
    "# New_Column 값이 1인 행을 제외하고, 0과 2인 값을 가진 행을 선택하여 새로운 DataFrame 생성\n",
    "tokenized_df = tokenized_df.filter((tokenized_df.New_Column == 0) | (tokenized_df.New_Column == 2))\n",
    "\n",
    "# New_Column 값이 2인 경우 1로 변경\n",
    "tokenized_df = tokenized_df.withColumn(\"New_Column\", when(tokenized_df.New_Column == 2, 1).otherwise(tokenized_df.New_Column))\n",
    "tokenized_df.show()"
   ]
  },
  {
   "cell_type": "code",
   "execution_count": 10,
   "id": "071966e6-c988-42d6-84d2-4fee1290f67d",
   "metadata": {},
   "outputs": [
    {
     "name": "stderr",
     "output_type": "stream",
     "text": [
      "                                                                                \r"
     ]
    },
    {
     "name": "stdout",
     "output_type": "stream",
     "text": [
      "+------+------+\n",
      "|code  |count |\n",
      "+------+------+\n",
      "|008930|34078 |\n",
      "|074610|177066|\n",
      "|100090|27385 |\n",
      "|011690|11710 |\n",
      "|011930|99120 |\n",
      "|009830|165706|\n",
      "|000020|80445 |\n",
      "|010820|54389 |\n",
      "|013570|10990 |\n",
      "|002630|42588 |\n",
      "|006980|21811 |\n",
      "|033250|26475 |\n",
      "|006380|10077 |\n",
      "|336370|17547 |\n",
      "|001060|26895 |\n",
      "|012690|51741 |\n",
      "|000520|23097 |\n",
      "|019170|931209|\n",
      "|001360|127742|\n",
      "|001440|153849|\n",
      "+------+------+\n",
      "only showing top 20 rows\n",
      "\n"
     ]
    },
    {
     "data": {
      "image/png": "[encoded data removed]",
      "text/plain": [
       "<Figure size 640x480 with 1 Axes>"
      ]
     },
     "metadata": {},
     "output_type": "display_data"
    }
   ],
   "source": [
    "from pyspark.sql.functions import count\n",
    "\n",
    "# 코드별로 행의 개수 세기\n",
    "code_counts = tokenized_df.groupBy('code').agg(count('*').alias('count'))\n",
    "\n",
    "# 결과 출력\n",
    "code_counts.show(truncate=False)\n",
    "\n",
    "code_counts_pandas = code_counts.toPandas()\n",
    "\n",
    "\n",
    "import matplotlib.pyplot as plt\n",
    "\n",
    "# 내림차순으로 정렬\n",
    "sorted_code_counts = code_counts_pandas.sort_values('count', ascending=False)\n",
    "\n",
    "# 히스토그램 그리기\n",
    "plt.bar(sorted_code_counts['code'], sorted_code_counts['count'])\n",
    "plt.xlabel('Code')\n",
    "plt.ylabel('Count')\n",
    "plt.title('Code Counts')\n",
    "\n",
    "# x축 레이블 설정\n",
    "num_ticks = 10  # 표기할 x축 레이블 개수\n",
    "step = len(sorted_code_counts) // num_ticks\n",
    "x_ticks = sorted_code_counts.iloc[::step]['code']  # 일정 간격으로 x축 레이블 선택\n",
    "plt.xticks(x_ticks, rotation=90)\n",
    "\n",
    "# y축 범위 설정\n",
    "max_count = sorted_code_counts['count'].max()  # 최대 count 값\n",
    "plt.ylim(0, 500000)  # 0부터 최대 count 값까지의 범위로 설정\n",
    "\n",
    "plt.show()\n"
   ]
  },
  {
   "cell_type": "code",
   "execution_count": 7,
   "id": "d7e746ef-434d-4c2d-b1cb-35656ffd9c74",
   "metadata": {},
   "outputs": [
    {
     "name": "stderr",
     "output_type": "stream",
     "text": [
      "                                                                                \r"
     ]
    },
    {
     "name": "stdout",
     "output_type": "stream",
     "text": [
      "Label: 1, Count: 92779\n",
      "Label: 0, Count: 51847\n"
     ]
    },
    {
     "name": "stderr",
     "output_type": "stream",
     "text": [
      "[Stage 17:>                                                         (0 + 1) / 1]\r"
     ]
    },
    {
     "name": "stdout",
     "output_type": "stream",
     "text": [
      "+------+-----+\n",
      "|code  |count|\n",
      "+------+-----+\n",
      "|000020|200  |\n",
      "|000040|200  |\n",
      "|000050|49   |\n",
      "|000070|131  |\n",
      "|000075|5    |\n",
      "|000080|200  |\n",
      "|000087|14   |\n",
      "|000100|200  |\n",
      "|000105|113  |\n",
      "|000120|193  |\n",
      "|000140|33   |\n",
      "|000145|200  |\n",
      "|000150|200  |\n",
      "|000155|200  |\n",
      "|000157|50   |\n",
      "|000180|175  |\n",
      "|000210|200  |\n",
      "|000215|40   |\n",
      "|000220|200  |\n",
      "|000225|200  |\n",
      "+------+-----+\n",
      "only showing top 20 rows\n",
      "\n"
     ]
    },
    {
     "name": "stderr",
     "output_type": "stream",
     "text": [
      "                                                                                \r"
     ]
    }
   ],
   "source": [
    "from pyspark.sql.functions import col, row_number\n",
    "from pyspark.sql import Window\n",
    "\n",
    "# 라벨 컬럼의 이름\n",
    "label_column = \"New_Column\"\n",
    "\n",
    "# 코드별 데이터 개수 확인\n",
    "code_counts = tokenized_df.groupBy(\"code\").count()\n",
    "\n",
    "# 최소 데이터 개수 확인\n",
    "min_count = code_counts.agg({\"count\": \"min\"}).collect()[0][0]\n",
    "target_count = min_count * 200    # 최소 개수의 절반을 유지하고자 함\n",
    "\n",
    "# 최소 개수의 절반 이상을 유지하도록 샘플링\n",
    "window_spec = Window.partitionBy(\"code\").orderBy(\"date\")  # date 컬럼을 기준으로 정렬\n",
    "balanced_df = tokenized_df.withColumn(\"row_num\", row_number().over(window_spec)).where(col(\"row_num\") <= target_count).drop(\"row_num\")\n",
    "\n",
    "# 각 코드별로 샘플링된 데이터 개수 확인\n",
    "balanced_counts = balanced_df.groupBy(label_column).count().collect()\n",
    "\n",
    "# 결과 출력\n",
    "for row in balanced_counts:\n",
    "    label = row[label_column]\n",
    "    count = row[\"count\"]\n",
    "    print(f\"Label: {label}, Count: {count}\")\n",
    "\n",
    "    \n",
    "from pyspark.sql.functions import count\n",
    "\n",
    "# 코드별로 행의 개수 세기\n",
    "code_counts = balanced_df.groupBy('code').agg(count('*').alias('count'))\n",
    "\n",
    "# 결과 출력\n",
    "code_counts.show(truncate=False)\n",
    "\n"
   ]
  },
  {
   "cell_type": "code",
   "execution_count": 8,
   "id": "12f06790-8d10-4250-8620-17ec391b2633",
   "metadata": {},
   "outputs": [
    {
     "name": "stderr",
     "output_type": "stream",
     "text": [
      "                                                                                \r"
     ]
    },
    {
     "name": "stdout",
     "output_type": "stream",
     "text": [
      "+------+----------+--------------------------------------+----------+------------------------------+\n",
      "|  code|      date|                                 title|New_Column|                        tokens|\n",
      "+------+----------+--------------------------------------+----------+------------------------------+\n",
      "|000020|2017-06-09|                          이게 뭡니까 |         1|                [게, 뭡, 니까]|\n",
      "|000020|2017-09-01|                           불개미 비상|         1|                [불개미, 비상]|\n",
      "|000020|2017-11-23|                                  나도|         1|                        [나도]|\n",
      "|000020|2017-11-23|                  지금 다 파시는분들은|         1|  [지금, 다, 파시, 는, 분, 은]|\n",
      "|000020|2017-11-23|                   기간조정 구간입니다|         1|    [기간, 조정, 구간, 입니다]|\n",
      "|000020|2017-12-13|                    징글징글허다  동화|         0|        [징글징글, 허다, 동화]|\n",
      "|000020|2017-12-26|                    애처롭기 짝이 없군|         0|          [애처롭기, 짝, 없군]|\n",
      "|000020|2018-05-14|         이회사는 이사 수집이 취미인가|         0|  [회사, 는, 이사, 수집, 취...|\n",
      "|000020|2018-05-14|                       실적 올라왔네요|         0|            [실적, 올라왔네요]|\n",
      "|000020|2018-07-04|                                동화사|         0|                      [동화사]|\n",
      "|000020|2018-10-30|                        원 위대함 시작|         0|            [원, 위대함, 시작]|\n",
      "|000020|2018-10-30|        아파트대출 주식투자자들 어쩌나|         0|[아파트, 대출, 주식, 투자자...|\n",
      "|000020|2019-08-07|                          내가예언하지|         0|                [내, 예언, 지]|\n",
      "|000020|2019-08-07|                    오늘 왜 오른건가요|         0|        [오늘, 오른, 건가, 요]|\n",
      "|000020|2019-08-07|           방금 순간 내리꽂은거는 머져|         0|[방금, 순간, 내리, 꽂은거는...|\n",
      "|000020|2019-09-11|    오늘도 작전세력끼리 주고받고 하...|         0|  [오늘, 도, 작전, 세력, 끼...|\n",
      "|000020|2019-09-11|                                가보자|         0|                      [가보자]|\n",
      "|000020|2020-02-28|                          년박아둘게요|         0|                [박아, 둘게요]|\n",
      "|000020|2020-02-28|원 간다고했습니다지난글보기 정독하세요|         0|  [원, 간다, 고, 했습니다, ...|\n",
      "|000020|2020-02-28|         근데 동화약품 부채표 마스크는|         0| [근데, 동화약품, 부채, 표,...|\n",
      "+------+----------+--------------------------------------+----------+------------------------------+\n",
      "only showing top 20 rows\n",
      "\n"
     ]
    },
    {
     "name": "stderr",
     "output_type": "stream",
     "text": [
      "[Stage 29:>                                                         (0 + 1) / 1]\r"
     ]
    },
    {
     "name": "stdout",
     "output_type": "stream",
     "text": [
      "Label: 1, Count: 51992\n",
      "Label: 0, Count: 51847\n"
     ]
    },
    {
     "name": "stderr",
     "output_type": "stream",
     "text": [
      "                                                                                \r"
     ]
    }
   ],
   "source": [
    "from pyspark.sql.functions import col\n",
    "\n",
    "# 코드 알려주시면 코드에 맞게 조정 가능합니다.\n",
    "code_column = \"code\"\n",
    "label_column = \"New_Column\"\n",
    "\n",
    "# 라벨별로 데이터 개수를 확인합니다.\n",
    "label_counts = balanced_df.groupBy(label_column).count().collect()\n",
    "label_counts = {row[label_column]: row[\"count\"] for row in label_counts}\n",
    "\n",
    "# 가장 적은 개수의 데이터를 기준으로 샘플링 비율을 설정합니다.\n",
    "min_count = min(label_counts.values())\n",
    "sampling_rates = {label: min_count / count for label, count in label_counts.items()}\n",
    "\n",
    "# 샘플링 비율을 기준으로 데이터를 샘플링합니다.\n",
    "sampled_df = balanced_df.sampleBy(label_column, fractions=sampling_rates, seed=42)\n",
    "\n",
    "# 샘플링된 데이터를 확인합니다.\n",
    "sampled_df.show()\n",
    "\n",
    "\n",
    "from pyspark.sql.functions import col\n",
    "\n",
    "# 라벨 컬럼의 이름\n",
    "label_column = \"New_Column\"\n",
    "\n",
    "# 각 라벨별로 샘플링된 데이터 개수를 확인\n",
    "sampled_counts = sampled_df.groupBy(label_column).count().collect()\n",
    "\n",
    "# 결과 출력\n",
    "for row in sampled_counts:\n",
    "    label = row[label_column]\n",
    "    count = row[\"count\"]\n",
    "    print(f\"Label: {label}, Count: {count}\")"
   ]
  },
  {
   "cell_type": "code",
   "execution_count": 9,
   "id": "0bdb1c71-7358-43cf-84a0-fd3d8ec5a15a",
   "metadata": {},
   "outputs": [
    {
     "name": "stderr",
     "output_type": "stream",
     "text": [
      "[Stage 35:>                                                         (0 + 1) / 1]\r"
     ]
    },
    {
     "name": "stdout",
     "output_type": "stream",
     "text": [
      "+------+-----+\n",
      "|code  |count|\n",
      "+------+-----+\n",
      "|000020|123  |\n",
      "|000040|146  |\n",
      "|000050|36   |\n",
      "|000070|102  |\n",
      "|000075|2    |\n",
      "|000080|160  |\n",
      "|000087|9    |\n",
      "|000100|152  |\n",
      "|000105|62   |\n",
      "|000120|174  |\n",
      "|000140|22   |\n",
      "|000145|118  |\n",
      "|000150|166  |\n",
      "|000155|118  |\n",
      "|000157|40   |\n",
      "|000180|137  |\n",
      "|000210|123  |\n",
      "|000215|23   |\n",
      "|000220|126  |\n",
      "|000225|107  |\n",
      "+------+-----+\n",
      "only showing top 20 rows\n",
      "\n"
     ]
    },
    {
     "name": "stderr",
     "output_type": "stream",
     "text": [
      "                                                                                \r"
     ]
    }
   ],
   "source": [
    "from pyspark.sql.functions import count\n",
    "\n",
    "# 코드별로 행의 개수 세기\n",
    "code_counts = sampled_df.groupBy('code').agg(count('*').alias('count'))\n",
    "\n",
    "# 결과 출력\n",
    "code_counts.show(truncate=False)"
   ]
  },
  {
   "cell_type": "code",
   "execution_count": 10,
   "id": "7e0b47e7-c5ae-41cb-a943-4c5557d4ef2b",
   "metadata": {},
   "outputs": [
    {
     "name": "stderr",
     "output_type": "stream",
     "text": [
      "                                                                                \r"
     ]
    },
    {
     "data": {
      "image/png": "[encoded data removed]",
      "text/plain": [
       "<Figure size 1000x500 with 1 Axes>"
      ]
     },
     "metadata": {},
     "output_type": "display_data"
    }
   ],
   "source": [
    "\"/home/jovyan/\"\n",
    "\n",
    "import matplotlib.pyplot as plt\n",
    "from wordcloud import WordCloud\n",
    "from matplotlib import font_manager\n",
    "\n",
    "# 한글 폰트 경로 및 이름 지정\n",
    "font_path = \"/home/jovyan/gulim.ttc\" # 실제 폰트 파일의 경로로 수정\n",
    "font_name = \"gulim.ttc\"  # 설치된 폰트의 이름으로 수정\n",
    "\n",
    "# WordCloud에 한글 폰트 적용\n",
    "font_manager.fontManager.addfont(font_path)\n",
    "plt.rcParams[\"font.family\"] = font_name\n",
    "\n",
    "\n",
    "import matplotlib.pyplot as plt\n",
    "from wordcloud import WordCloud\n",
    "from pyspark.sql.functions import collect_list\n",
    "\n",
    "# 데이터프레임에서 문자열 컬럼 추출\n",
    "text_data = sampled_df.filter(sampled_df.New_Column == 0).select(\"tokens\").rdd.flatMap(lambda x: x[0]).collect()\n",
    "\n",
    "# 문자열 데이터를 공백으로 결합하여 단일 문자열 생성\n",
    "text = \" \".join(text_data)\n",
    "\n",
    "# WordCloud 생성\n",
    "wordcloud = WordCloud(font_path=font_path, width=800, height=400, background_color=\"white\").generate(text)\n",
    "\n",
    "# WordCloud를 plot으로 시각화\n",
    "plt.figure(figsize=(10, 5))\n",
    "plt.imshow(wordcloud, interpolation=\"bilinear\")\n",
    "plt.axis(\"off\")\n",
    "plt.show()"
   ]
  },
  {
   "cell_type": "code",
   "execution_count": 11,
   "id": "469958a7-d935-4a40-a85c-a048f577aa9d",
   "metadata": {},
   "outputs": [
    {
     "name": "stderr",
     "output_type": "stream",
     "text": [
      "                                                                                \r"
     ]
    },
    {
     "data": {
      "image/png": "[encoded data removed]",
      "text/plain": [
       "<Figure size 1000x500 with 1 Axes>"
      ]
     },
     "metadata": {},
     "output_type": "display_data"
    }
   ],
   "source": [
    "\"/home/jovyan/\"\n",
    "\n",
    "import matplotlib.pyplot as plt\n",
    "from wordcloud import WordCloud\n",
    "from matplotlib import font_manager\n",
    "\n",
    "# 한글 폰트 경로 및 이름 지정\n",
    "font_path = \"/home/jovyan/gulim.ttc\" # 실제 폰트 파일의 경로로 수정\n",
    "font_name = \"gulim.ttc\"  # 설치된 폰트의 이름으로 수정\n",
    "\n",
    "# WordCloud에 한글 폰트 적용\n",
    "font_manager.fontManager.addfont(font_path)\n",
    "plt.rcParams[\"font.family\"] = font_name\n",
    "\n",
    "\n",
    "import matplotlib.pyplot as plt\n",
    "from wordcloud import WordCloud\n",
    "from pyspark.sql.functions import collect_list\n",
    "\n",
    "# 데이터프레임에서 문자열 컬럼 추출\n",
    "text_data = sampled_df.filter(sampled_df.New_Column == 1).select(\"tokens\").rdd.flatMap(lambda x: x[0]).collect()\n",
    "\n",
    "# 문자열 데이터를 공백으로 결합하여 단일 문자열 생성\n",
    "text = \" \".join(text_data)\n",
    "\n",
    "# WordCloud 생성\n",
    "wordcloud = WordCloud(font_path=font_path, width=800, height=400, background_color=\"white\").generate(text)\n",
    "\n",
    "# WordCloud를 plot으로 시각화\n",
    "plt.figure(figsize=(10, 5))\n",
    "plt.imshow(wordcloud, interpolation=\"bilinear\")\n",
    "plt.axis(\"off\")\n",
    "plt.show()"
   ]
  },
  {
   "cell_type": "code",
   "execution_count": 32,
   "id": "797b0d35-f534-46e5-8146-ceefb7d1decf",
   "metadata": {},
   "outputs": [],
   "source": [
    "## 중복열 제거\n",
    "## 최빈도 단어 제거\n",
    "## tfidf 만약 max_df와 같은 기능을 적용하고 싶다면, 스파크에서 직접 해당 기능을 구현해야 합니다. \n",
    "## 예를 들어, pyspark.ml.feature.CountVectorizer를 사용하여 단어의 빈도를 계산한 다음, \n",
    "## 해당 단어의 빈도가 일정 값 이상인 경우 필터링하는 작업을 추가할 수 있습니다. 이후에 IDF를 적용하여 역문서 빈도를 계산합니다.\n",
    "## null 값 제거\n",
    "## 로지스틱, 의사결정트리, SVM, 랜덤포레스트, multinomial NB "
   ]
  },
  {
   "cell_type": "code",
   "execution_count": 6,
   "id": "a0cf9791-3052-482c-8262-bd6fbaa2f0f4",
   "metadata": {},
   "outputs": [
    {
     "name": "stderr",
     "output_type": "stream",
     "text": [
      "                                                                                \r"
     ]
    },
    {
     "name": "stdout",
     "output_type": "stream",
     "text": [
      "['은', '오늘', '는', '다', '도', '주', '만', '원', '된', '삭제', '게시', '물의', '한', '주식', '매수', '답글', '개미', 'ㅋㅋ', '고', '개', '안', '상', '라', '대', '내일', '만원', '내', '요', '시', '이다']\n"
     ]
    },
    {
     "name": "stderr",
     "output_type": "stream",
     "text": [
      "[Stage 5:>                                                          (0 + 1) / 1]\r"
     ]
    },
    {
     "name": "stdout",
     "output_type": "stream",
     "text": [
      "+------+----------+------------------------------------+----------+----------------------------+----------------------------+\n",
      "|  code|      date|                               title|New_Column|                      tokens|             filtered_tokens|\n",
      "+------+----------+------------------------------------+----------+----------------------------+----------------------------+\n",
      "|005930|2023-04-06|                              여러분|         1|                          []|                          []|\n",
      "|005930|2023-04-06|      나라가  공매도  개망조 들었다 |         1|[나라, 공매도, 개, 망조, ...|[나라, 공매도, 망조, 들었다]|\n",
      "|005930|2023-04-06|       삼성전자 직원 분의  감축 단행|         1|[삼성, 직원, 분, 감축, 단행]|[삼성, 직원, 분, 감축, 단행]|\n",
      "|005930|2023-04-06|                    분위기 좋고 좋고|         1|        [분위기, 좋고, 좋고]|        [분위기, 좋고, 좋고]|\n",
      "|005930|2023-04-06|        삼성전자는 허구한날 왜이래요|         1|  [성, 는, 허구, 한, 날, 요]|              [성, 허구, 날]|\n",
      "|005930|2023-04-06|                         공매도 전자|         1|                    [공매도]|                    [공매도]|\n",
      "|005930|2023-04-06|외국인 선물매도 조 넘은거 처음보는데|         1|[외국인, 선물, 매도, 조, ...|[외국인, 선물, 매도, 조, ...|\n",
      "|005930|2023-04-06|                    순종 못해 망했다|         1|      [순종, 못, 해, 망했다]|      [순종, 못, 해, 망했다]|\n",
      "|005930|2023-04-06|                      삼성전자 분기 |         1|                [삼성, 분기]|                [삼성, 분기]|\n",
      "|005930|2023-04-06|                  공매도 잘 생각해라|         1|    [공매도, 잘, 생각, 해라]|    [공매도, 잘, 생각, 해라]|\n",
      "|005930|2023-04-06|                     내일 천원 이상 |         1|                [내일, 천원]|                      [천원]|\n",
      "|005930|2023-04-06|            감산 안하다고 뻘짓하더니|         1|[감산, 안, 하다고, 뻘, 짓...|[감산, 하다고, 뻘, 짓하더니]|\n",
      "|005930|2023-04-06|                              성렬아|         1|                      [성렬]|                      [성렬]|\n",
      "|005930|2023-04-06|                       삼전만 문젠가|         1|          [삼전, 만, 문, 젠]|              [삼전, 문, 젠]|\n",
      "|005930|2023-04-06|           윤성렬 경제외교는 잘 하네|         1|[윤성렬, 경, 외교, 는, 잘...|[윤성렬, 경, 외교, 잘, 하네]|\n",
      "|005930|2023-04-06|                     떨어진다 흐아앙|         1|        [떨어진다, 흐, 아앙]|        [떨어진다, 흐, 아앙]|\n",
      "|005930|2023-04-06|이젠 삼전보단 에코가 더 안전종목이군|         1|[젠, 삼전, 보단, 에코, 더...|[젠, 삼전, 보단, 에코, 더...|\n",
      "|005930|2023-04-06|                          꼴통전자  |         1|                  [꼴, 통전]|                  [꼴, 통전]|\n",
      "|005930|2023-04-06|                        개 언론 조심|         1|            [개, 언론, 조심]|                [언론, 조심]|\n",
      "|005930|2023-04-06|                          리세션온다|         1|            [리, 세션, 온다]|            [리, 세션, 온다]|\n",
      "+------+----------+------------------------------------+----------+----------------------------+----------------------------+\n",
      "only showing top 20 rows\n",
      "\n"
     ]
    },
    {
     "name": "stderr",
     "output_type": "stream",
     "text": [
      "                                                                                \r"
     ]
    }
   ],
   "source": [
    "from pyspark.sql.functions import explode, col, array_except, array, lit, udf\n",
    "from pyspark.sql.types import ArrayType, StringType\n",
    "\n",
    "# 단어별 빈도수 계산\n",
    "word_counts = tokenized_df.select(explode('tokens').alias('word')).groupBy('word').count()\n",
    "\n",
    "# 빈도수로 내림차순 정렬하여 상위 30개 단어 추출\n",
    "top_words = word_counts.orderBy(col('count').desc()).limit(30)\n",
    "\n",
    "# 상위 30개 단어 리스트 추출\n",
    "top_words_list = [row.word for row in top_words.collect()]\n",
    "\n",
    "print(top_words_list)\n",
    "# Define the UDF to filter out words in top_words_list\n",
    "filter_words = udf(lambda tokens: [word for word in tokens if word not in top_words_list], ArrayType(StringType()))\n",
    "\n",
    "# Add a new column 'filtered_tokens' with only the words present in top_words_list\n",
    "filtered_df = tokenized_df.withColumn('filtered_tokens', filter_words(col('tokens')))\n",
    "\n",
    "filtered_df.show()\n"
   ]
  },
  {
   "cell_type": "code",
   "execution_count": 5,
   "id": "a88acf34-6208-470d-826b-57a8ae53014e",
   "metadata": {},
   "outputs": [
    {
     "name": "stdout",
     "output_type": "stream",
     "text": [
      "root\n",
      " |-- code: string (nullable = true)\n",
      " |-- date: date (nullable = true)\n",
      " |-- title: string (nullable = true)\n",
      " |-- New_Column: integer (nullable = true)\n",
      " |-- tokens: array (nullable = true)\n",
      " |    |-- element: string (containsNull = true)\n",
      " |-- filtered_tokens: array (nullable = true)\n",
      " |    |-- element: string (containsNull = true)\n",
      "\n"
     ]
    }
   ],
   "source": [
    "filtered_df.printSchema()"
   ]
  },
  {
   "cell_type": "code",
   "execution_count": null,
   "id": "bc486ac0-0f07-4c6c-b5ad-37c82e6b03ce",
   "metadata": {},
   "outputs": [
    {
     "name": "stderr",
     "output_type": "stream",
     "text": [
      "----------------------------------------                                        \n",
      "Exception occurred during processing of request from ('127.0.0.1', 47812)\n"
     ]
    }
   ],
   "source": [
    "import matplotlib.pyplot as plt\n",
    "from wordcloud import WordCloud\n",
    "from matplotlib import font_manager\n",
    "\n",
    "# 한글 폰트 경로 및 이름 지정\n",
    "font_path = \"/home/jovyan/gulim.ttc\" # 실제 폰트 파일의 경로로 수정\n",
    "font_name = \"gulim.ttc\"  # 설치된 폰트의 이름으로 수정\n",
    "\n",
    "# WordCloud에 한글 폰트 적용\n",
    "font_manager.fontManager.addfont(font_path)\n",
    "plt.rcParams[\"font.family\"] = font_name\n",
    "\n",
    "\n",
    "import matplotlib.pyplot as plt\n",
    "from wordcloud import WordCloud\n",
    "from pyspark.sql.functions import collect_list\n",
    "\n",
    "# 데이터프레임에서 문자열 컬럼 추출\n",
    "text_data = filtered_df.select(\"filtered_tokens\").rdd.flatMap(lambda x: x[0]).collect()\n",
    "\n",
    "# 문자열 데이터를 공백으로 결합하여 단일 문자열 생성\n",
    "text = \" \".join(text_data)\n",
    "\n",
    "# WordCloud 생성\n",
    "wordcloud = WordCloud(font_path=font_path, width=800, height=400, background_color=\"white\").generate(text)\n",
    "\n",
    "# WordCloud를 plot으로 시각화\n",
    "plt.figure(figsize=(10, 5))\n",
    "plt.imshow(wordcloud, interpolation=\"bilinear\")\n",
    "plt.axis(\"off\")\n",
    "plt.show()"
   ]
  },
  {
   "cell_type": "code",
   "execution_count": 7,
   "id": "a60afbb5-dc98-43b5-bcd8-a8764c55ebf3",
   "metadata": {},
   "outputs": [
    {
     "name": "stderr",
     "output_type": "stream",
     "text": [
      "                                                                                \r"
     ]
    },
    {
     "name": "stdout",
     "output_type": "stream",
     "text": [
      "+------+----------+----------------------------+----------+----------------------------+----------------------------+\n",
      "|  code|      date|                       title|New_Column|                      tokens|             filtered_tokens|\n",
      "+------+----------+----------------------------+----------+----------------------------+----------------------------+\n",
      "|013700|2020-01-29|                         ...|         1|                        [쌩]|                        [쌩]|\n",
      "|034730|2023-02-15|                         ...|         1|                [치는, 회사]|                [치는, 회사]|\n",
      "|005690|2018-06-10|                         ...|         1|                    [파미셀]|                    [파미셀]|\n",
      "|066570|2020-10-14|                        매동|         1|                        [동]|                        [동]|\n",
      "|092220|2018-08-26|                       잠...|         1|                [들렸다, 팁]|                [들렸다, 팁]|\n",
      "|095720|2019-12-30|                 업종비교...|         1|          [업종, 비교, 최저]|          [업종, 비교, 최저]|\n",
      "|039130|2019-06-25|                          ㅈ|         1|                        [ㅈ]|                        [ㅈ]|\n",
      "|007160|2017-12-27|                 니   니  니|         0|                [니, 니, 니]|                [니, 니, 니]|\n",
      "|003060|2019-12-10|                    상갔는데|         1|                [상, 갔는데]|                    [갔는데]|\n",
      "|002210|2018-09-17|                절 취 선 ...|         1|                [절, 취, 선]|                [절, 취, 선]|\n",
      "|002880|2021-04-19|                        대유|         1|                      [대유]|                      [대유]|\n",
      "|066570|2020-08-13|                        매동|         1|                        [동]|                        [동]|\n",
      "|005935|2021-04-07|          삼위일체  개아가뤼|         1|      [삼위일체, 개아가, 뤼]|      [삼위일체, 개아가, 뤼]|\n",
      "|003480|2019-01-30|                      아이디|         1|                    [아이디]|                    [아이디]|\n",
      "|019440|2021-05-03|              올해  배당 ...|         1|      [올해, 배당, 줄까, 요]|          [올해, 배당, 줄까]|\n",
      "|007460|2019-11-26|                        혹시|         1|                          []|                          []|\n",
      "|033180|2020-01-16|           ㅋㅋ 나알바 이...|         1|[ㅋㅋ, 알바, 이마, 써, 붙...|[알바, 이마, 써, 붙이, 알...|\n",
      "|101530|2018-09-11|              냄비 속 개구리|         1|          [냄비, 속, 개구리]|          [냄비, 속, 개구리]|\n",
      "|006800|2021-05-20|          레버리지 확인 요망|         1|      [레버리지, 확인, 요망]|      [레버리지, 확인, 요망]|\n",
      "|052690|2023-03-07|          서태지와 아이들...|         1|        [서태지, 함께한, 속]|        [서태지, 함께한, 속]|\n",
      "+------+----------+----------------------------+----------+----------------------------+----------------------------+\n",
      "only showing top 20 rows\n",
      "\n"
     ]
    },
    {
     "name": "stderr",
     "output_type": "stream",
     "text": [
      "                                                                                \r"
     ]
    },
    {
     "data": {
      "text/plain": [
       "20460078"
      ]
     },
     "execution_count": 7,
     "metadata": {},
     "output_type": "execute_result"
    }
   ],
   "source": [
    "filtered_df = filtered_df.dropDuplicates([\"title\",\"tokens\"])\n",
    "filtered_df.show()\n",
    "filtered_df.count()"
   ]
  },
  {
   "cell_type": "code",
   "execution_count": 9,
   "id": "95824175-a505-448c-ac2a-e88c5a36af7b",
   "metadata": {},
   "outputs": [
    {
     "name": "stderr",
     "output_type": "stream",
     "text": [
      "                                                                                \r"
     ]
    },
    {
     "name": "stdout",
     "output_type": "stream",
     "text": [
      "+------+----------+----------------------------+----------+----------------------------+----------------------------+\n",
      "|  code|      date|                       title|New_Column|                      tokens|             filtered_tokens|\n",
      "+------+----------+----------------------------+----------+----------------------------+----------------------------+\n",
      "|013700|2020-01-29|                         ...|         1|                        [쌩]|                        [쌩]|\n",
      "|034730|2023-02-15|                         ...|         1|                [치는, 회사]|                [치는, 회사]|\n",
      "|005690|2018-06-10|                         ...|         1|                    [파미셀]|                    [파미셀]|\n",
      "|066570|2020-10-14|                        매동|         1|                        [동]|                        [동]|\n",
      "|092220|2018-08-26|                       잠...|         1|                [들렸다, 팁]|                [들렸다, 팁]|\n",
      "|095720|2019-12-30|                 업종비교...|         1|          [업종, 비교, 최저]|          [업종, 비교, 최저]|\n",
      "|039130|2019-06-25|                          ㅈ|         1|                        [ㅈ]|                        [ㅈ]|\n",
      "|007160|2017-12-27|                 니   니  니|         0|                [니, 니, 니]|                [니, 니, 니]|\n",
      "|003060|2019-12-10|                    상갔는데|         1|                [상, 갔는데]|                    [갔는데]|\n",
      "|002210|2018-09-17|                절 취 선 ...|         1|                [절, 취, 선]|                [절, 취, 선]|\n",
      "|002880|2021-04-19|                        대유|         1|                      [대유]|                      [대유]|\n",
      "|066570|2020-08-13|                        매동|         1|                        [동]|                        [동]|\n",
      "|005935|2021-04-07|          삼위일체  개아가뤼|         1|      [삼위일체, 개아가, 뤼]|      [삼위일체, 개아가, 뤼]|\n",
      "|003480|2019-01-30|                      아이디|         1|                    [아이디]|                    [아이디]|\n",
      "|019440|2021-05-03|              올해  배당 ...|         1|      [올해, 배당, 줄까, 요]|          [올해, 배당, 줄까]|\n",
      "|033180|2020-01-16|           ㅋㅋ 나알바 이...|         1|[ㅋㅋ, 알바, 이마, 써, 붙...|[알바, 이마, 써, 붙이, 알...|\n",
      "|101530|2018-09-11|              냄비 속 개구리|         1|          [냄비, 속, 개구리]|          [냄비, 속, 개구리]|\n",
      "|006800|2021-05-20|          레버리지 확인 요망|         1|      [레버리지, 확인, 요망]|      [레버리지, 확인, 요망]|\n",
      "|052690|2023-03-07|          서태지와 아이들...|         1|        [서태지, 함께한, 속]|        [서태지, 함께한, 속]|\n",
      "|006490|2018-07-05|             아침  빅   뉴스|         1|            [아침, 빅, 뉴스]|            [아침, 빅, 뉴스]|\n",
      "+------+----------+----------------------------+----------+----------------------------+----------------------------+\n",
      "only showing top 20 rows\n",
      "\n"
     ]
    },
    {
     "name": "stderr",
     "output_type": "stream",
     "text": [
      "[Stage 29:======================================================> (49 + 1) / 50]\r"
     ]
    },
    {
     "name": "stdout",
     "output_type": "stream",
     "text": [
      "root\n",
      " |-- code: string (nullable = true)\n",
      " |-- date: date (nullable = true)\n",
      " |-- title: string (nullable = true)\n",
      " |-- New_Column: integer (nullable = true)\n",
      " |-- tokens: array (nullable = true)\n",
      " |    |-- element: string (containsNull = true)\n",
      " |-- filtered_tokens: array (nullable = true)\n",
      " |    |-- element: string (containsNull = true)\n",
      "\n"
     ]
    },
    {
     "name": "stderr",
     "output_type": "stream",
     "text": [
      "                                                                                \r"
     ]
    }
   ],
   "source": [
    "from pyspark.sql.types import BooleanType\n",
    "\n",
    "\n",
    "# UDF 정의\n",
    "def is_empty_string(value):\n",
    "    return len(value) == 0\n",
    "\n",
    "# UDF 등록\n",
    "is_empty_string_udf = udf(is_empty_string, BooleanType())\n",
    "\n",
    "# filtered_tokens 컬럼의 빈 문자열을 결측치로 간주하여 제거\n",
    "df_filtered = filtered_df.filter(~is_empty_string_udf(col(\"filtered_tokens\")))\n",
    "\n",
    "# 결과 출력\n",
    "df_filtered.show()\n",
    "df_filtered.count()\n",
    "df_filtered.printSchema()\n",
    "\n",
    "\n"
   ]
  },
  {
   "cell_type": "code",
   "execution_count": 16,
   "id": "c0c33750-340f-4d9f-9e12-1a7572ce6d07",
   "metadata": {},
   "outputs": [
    {
     "name": "stderr",
     "output_type": "stream",
     "text": [
      "[Stage 187:===================================================>   (17 + 1) / 18]\r"
     ]
    },
    {
     "name": "stdout",
     "output_type": "stream",
     "text": [
      "23/06/13 12:24:33 WARN DAGScheduler: Broadcasting large task binary with size 4.1 MiB\n"
     ]
    },
    {
     "name": "stderr",
     "output_type": "stream",
     "text": [
      "[Stage 189:>                                                        (0 + 1) / 1]\r"
     ]
    },
    {
     "name": "stdout",
     "output_type": "stream",
     "text": [
      "+------+----------+----------------------------+----------+----------------------------+----------------------------+--------------------+--------------------+\n",
      "|  code|      date|                       title|New_Column|                      tokens|             filtered_tokens|                  tf|               tfidf|\n",
      "+------+----------+----------------------------+----------+----------------------------+----------------------------+--------------------+--------------------+\n",
      "|013700|2020-01-29|                         ...|         1|                        [쌩]|                        [쌩]|(262144,[120796],...|(262144,[120796],...|\n",
      "|034730|2023-02-15|                         ...|         1|                [치는, 회사]|                [치는, 회사]|(262144,[95366,14...|(262144,[95366,14...|\n",
      "|005690|2018-06-10|                         ...|         1|                    [파미셀]|                    [파미셀]|(262144,[165727],...|(262144,[165727],...|\n",
      "|066570|2020-10-14|                        매동|         1|                        [동]|                        [동]|(262144,[126370],...|(262144,[126370],...|\n",
      "|092220|2018-08-26|                       잠...|         1|                [들렸다, 팁]|                [들렸다, 팁]|(262144,[146941,1...|(262144,[146941,1...|\n",
      "|095720|2019-12-30|                 업종비교...|         1|          [업종, 비교, 최저]|          [업종, 비교, 최저]|(262144,[113533,2...|(262144,[113533,2...|\n",
      "|039130|2019-06-25|                          ㅈ|         1|                        [ㅈ]|                        [ㅈ]|(262144,[22267],[...|(262144,[22267],[...|\n",
      "|007160|2017-12-27|                 니   니  니|         0|                [니, 니, 니]|                [니, 니, 니]|(262144,[201984],...|(262144,[201984],...|\n",
      "|003060|2019-12-10|                    상갔는데|         1|                [상, 갔는데]|                    [갔는데]|(262144,[246803],...|(262144,[246803],...|\n",
      "|002210|2018-09-17|                절 취 선 ...|         1|                [절, 취, 선]|                [절, 취, 선]|(262144,[64318,14...|(262144,[64318,14...|\n",
      "|002880|2021-04-19|                        대유|         1|                      [대유]|                      [대유]|(262144,[105637],...|(262144,[105637],...|\n",
      "|066570|2020-08-13|                        매동|         1|                        [동]|                        [동]|(262144,[126370],...|(262144,[126370],...|\n",
      "|005935|2021-04-07|          삼위일체  개아가뤼|         1|      [삼위일체, 개아가, 뤼]|      [삼위일체, 개아가, 뤼]|(262144,[116532,1...|(262144,[116532,1...|\n",
      "|003480|2019-01-30|                      아이디|         1|                    [아이디]|                    [아이디]|(262144,[205431],...|(262144,[205431],...|\n",
      "|019440|2021-05-03|              올해  배당 ...|         1|      [올해, 배당, 줄까, 요]|          [올해, 배당, 줄까]|(262144,[190904,2...|(262144,[190904,2...|\n",
      "|033180|2020-01-16|           ㅋㅋ 나알바 이...|         1|[ㅋㅋ, 알바, 이마, 써, 붙...|[알바, 이마, 써, 붙이, 알...|(262144,[53154,94...|(262144,[53154,94...|\n",
      "|101530|2018-09-11|              냄비 속 개구리|         1|          [냄비, 속, 개구리]|          [냄비, 속, 개구리]|(262144,[63231,14...|(262144,[63231,14...|\n",
      "|006800|2021-05-20|          레버리지 확인 요망|         1|      [레버리지, 확인, 요망]|      [레버리지, 확인, 요망]|(262144,[55684,81...|(262144,[55684,81...|\n",
      "|052690|2023-03-07|          서태지와 아이들...|         1|        [서태지, 함께한, 속]|        [서태지, 함께한, 속]|(262144,[124840,1...|(262144,[124840,1...|\n",
      "|006490|2018-07-05|             아침  빅   뉴스|         1|            [아침, 빅, 뉴스]|            [아침, 빅, 뉴스]|(262144,[78799,14...|(262144,[78799,14...|\n",
      "+------+----------+----------------------------+----------+----------------------------+----------------------------+--------------------+--------------------+\n",
      "only showing top 20 rows\n",
      "\n"
     ]
    },
    {
     "name": "stderr",
     "output_type": "stream",
     "text": [
      "                                                                                \r"
     ]
    },
    {
     "ename": "AttributeError",
     "evalue": "'PipelineModel' object has no attribute 'idf'",
     "output_type": "error",
     "traceback": [
      "\u001b[0;31m---------------------------------------------------------------------------\u001b[0m",
      "\u001b[0;31mAttributeError\u001b[0m                            Traceback (most recent call last)",
      "Cell \u001b[0;32mIn [16], line 18\u001b[0m\n\u001b[1;32m     15\u001b[0m \u001b[38;5;66;03m# 결과 출력\u001b[39;00m\n\u001b[1;32m     16\u001b[0m transformed_data\u001b[38;5;241m.\u001b[39mshow()\n\u001b[0;32m---> 18\u001b[0m vocabulary \u001b[38;5;241m=\u001b[39m \u001b[43mmodel\u001b[49m\u001b[38;5;241;43m.\u001b[39;49m\u001b[43midf\u001b[49m\u001b[38;5;241m.\u001b[39mtoArray()\n\u001b[1;32m     20\u001b[0m \u001b[38;5;66;03m# 단어별 중요도 출력\u001b[39;00m\n\u001b[1;32m     21\u001b[0m \u001b[38;5;28;01mfor\u001b[39;00m i, word \u001b[38;5;129;01min\u001b[39;00m \u001b[38;5;28menumerate\u001b[39m(cv_model\u001b[38;5;241m.\u001b[39mvocabulary):\n",
      "\u001b[0;31mAttributeError\u001b[0m: 'PipelineModel' object has no attribute 'idf'"
     ]
    }
   ],
   "source": [
    "from pyspark.ml.feature import HashingTF, IDF\n",
    "from pyspark.ml import Pipeline\n",
    "\n",
    "# TF-IDF 벡터화를 위한 단계\n",
    "hashingTF = HashingTF(inputCol=\"filtered_tokens\", outputCol=\"tf\")\n",
    "idf = IDF(inputCol=\"tf\", outputCol=\"tfidf\", minDocFreq=3)  # min_df 값 설정\n",
    "\n",
    "# 파이프라인 구성\n",
    "pipeline = Pipeline(stages=[hashingTF, idf])\n",
    "\n",
    "# 데이터 학습 및 변환\n",
    "model = pipeline.fit(df_filtered)\n",
    "transformed_data = model.transform(df_filtered)\n",
    "\n",
    "# 결과 출력\n",
    "transformed_data.show()"
   ]
  },
  {
   "cell_type": "code",
   "execution_count": 42,
   "id": "8b9883d1-2ff1-49c5-85dd-3809d54ade37",
   "metadata": {},
   "outputs": [
    {
     "name": "stderr",
     "output_type": "stream",
     "text": [
      "                                                                                \r"
     ]
    },
    {
     "name": "stdout",
     "output_type": "stream",
     "text": [
      "23/06/04 06:55:52 WARN TaskSetManager: Stage 35 contains a task of very large size (4184 KiB). The maximum recommended task size is 1000 KiB.\n"
     ]
    },
    {
     "name": "stderr",
     "output_type": "stream",
     "text": [
      "                                                                                \r"
     ]
    }
   ],
   "source": [
    "model.save(\"hdfs://192.168.219.121:9000/crawling_stock_text_merge/hashing_idf_model\")"
   ]
  },
  {
   "cell_type": "code",
   "execution_count": null,
   "id": "762bb7e7-04b0-402b-9906-6774e909ceb6",
   "metadata": {},
   "outputs": [],
   "source": [
    "from pyspark.ml.feature import HashingTF, IDF\n",
    "from pyspark.sql.functions import col\n",
    "from pyspark.ml.feature import CountVectorizer\n",
    "\n",
    "sampled_data = df_filtered.orderBy(rand()).limit(300000)\n",
    "\n",
    "# CountVectorizer를 사용하여 단어 인덱스 생성\n",
    "cv = CountVectorizer(inputCol=\"filtered_tokens\", outputCol=\"tf\")\n",
    "cv_model = cv.fit(sampled_data)\n",
    "tf_vector = cv_model.transform(sampled_data)\n",
    "\n",
    "# IDF를 사용하여 단어별 중요도 계산\n",
    "idf = IDF(inputCol=\"tf\", outputCol=\"tfidf\", minDocFreq=3)  # min_df 값 설정\n",
    "idf_model = idf.fit(tf_vector)\n",
    "tfidf_vector = idf_model.transform(tf_vector)\n",
    "\n",
    "# 단어와 해당 단어의 인덱스 매핑 얻기\n",
    "vocabulary = cv_model.vocabulary\n",
    "\n",
    "# 라벨에 따라 필터링하여 데이터 생성\n",
    "label_0_data = tfidf_vector.filter(col(\"New_Column\") == 0)\n",
    "label_1_data = tfidf_vector.filter(col(\"New_Column\") == 1)\n",
    "label_2_data = tfidf_vector.filter(col(\"New_Column\") == 2)\n",
    "\n",
    "# 각 라벨에 대한 단어별 중요도 출력\n",
    "for i, word in enumerate(vocabulary):\n",
    "    word_importance_0 = label_0_data.select(\"tfidf\").rdd.flatMap(lambda x: x[0].toArray()).collect()[i]\n",
    "    word_importance_1 = label_1_data.select(\"tfidf\").rdd.flatMap(lambda x: x[0].toArray()).collect()[i]\n",
    "    word_importance_2 = label_2_data.select(\"tfidf\").rdd.flatMap(lambda x: x[0].toArray()).collect()[i]\n",
    "    \n",
    "    print(\"Word:\", word)\n",
    "    print(\"Label 0 Importance:\", word_importance_0)\n",
    "    print(\"Label 1 Importance:\", word_importance_1)\n",
    "    print(\"Label 2 Importance:\", word_importance_2)\n",
    "    print(\"---\")\n"
   ]
  },
  {
   "cell_type": "code",
   "execution_count": null,
   "id": "edffd89b-65b2-47e7-b181-eab0c299350f",
   "metadata": {},
   "outputs": [
    {
     "name": "stderr",
     "output_type": "stream",
     "text": [
      "[Stage 35:====================================================>   (17 + 1) / 18]\r"
     ]
    },
    {
     "name": "stdout",
     "output_type": "stream",
     "text": [
      "23/06/04 20:27:58 WARN DAGScheduler: Broadcasting large task binary with size 4.1 MiB\n"
     ]
    },
    {
     "name": "stderr",
     "output_type": "stream",
     "text": [
      "[Stage 37:=====================================================>  (48 + 2) / 50]\r"
     ]
    },
    {
     "name": "stdout",
     "output_type": "stream",
     "text": [
      "23/06/04 20:28:10 WARN DAGScheduler: Broadcasting large task binary with size 4.1 MiB\n"
     ]
    },
    {
     "name": "stderr",
     "output_type": "stream",
     "text": [
      "                                                                                \r"
     ]
    },
    {
     "name": "stdout",
     "output_type": "stream",
     "text": [
      "23/06/04 20:28:11 WARN DAGScheduler: Broadcasting large task binary with size 4.1 MiB\n"
     ]
    },
    {
     "name": "stderr",
     "output_type": "stream",
     "text": [
      "[Stage 40:=====================================================>  (48 + 2) / 50]\r"
     ]
    },
    {
     "name": "stdout",
     "output_type": "stream",
     "text": [
      "23/06/04 20:28:22 WARN DAGScheduler: Broadcasting large task binary with size 4.1 MiB\n",
      "23/06/04 20:28:22 WARN InstanceBuilder$NativeBLAS: Failed to load implementation from:dev.ludovic.netlib.blas.JNIBLAS\n",
      "23/06/04 20:28:22 WARN InstanceBuilder$NativeBLAS: Failed to load implementation from:dev.ludovic.netlib.blas.ForeignLinkerBLAS\n"
     ]
    },
    {
     "name": "stderr",
     "output_type": "stream",
     "text": [
      "                                                                                \r"
     ]
    },
    {
     "name": "stdout",
     "output_type": "stream",
     "text": [
      "23/06/04 20:28:23 WARN BLAS: Failed to load implementation from: com.github.fommil.netlib.NativeSystemBLAS\n",
      "23/06/04 20:28:23 WARN BLAS: Failed to load implementation from: com.github.fommil.netlib.NativeRefBLAS\n",
      "23/06/04 20:28:23 WARN DAGScheduler: Broadcasting large task binary with size 4.1 MiB\n",
      "23/06/04 20:28:23 WARN DAGScheduler: Broadcasting large task binary with size 4.1 MiB\n",
      "23/06/04 20:28:24 WARN DAGScheduler: Broadcasting large task binary with size 4.1 MiB\n",
      "23/06/04 20:28:24 WARN DAGScheduler: Broadcasting large task binary with size 4.1 MiB\n",
      "23/06/04 20:28:25 WARN DAGScheduler: Broadcasting large task binary with size 4.1 MiB\n",
      "23/06/04 20:28:25 WARN DAGScheduler: Broadcasting large task binary with size 4.1 MiB\n",
      "23/06/04 20:28:26 WARN DAGScheduler: Broadcasting large task binary with size 4.1 MiB\n"
     ]
    },
    {
     "name": "stderr",
     "output_type": "stream",
     "text": [
      "[Stage 52:====================================================>   (47 + 3) / 50]\r"
     ]
    },
    {
     "name": "stdout",
     "output_type": "stream",
     "text": [
      "23/06/04 20:28:29 WARN DAGScheduler: Broadcasting large task binary with size 4.1 MiB\n"
     ]
    },
    {
     "name": "stderr",
     "output_type": "stream",
     "text": [
      "                                                                                \r"
     ]
    },
    {
     "name": "stdout",
     "output_type": "stream",
     "text": [
      "23/06/04 20:28:37 WARN DAGScheduler: Broadcasting large task binary with size 4.1 MiB\n",
      "23/06/04 20:28:37 WARN DAGScheduler: Broadcasting large task binary with size 4.1 MiB\n",
      "23/06/04 20:28:38 WARN DAGScheduler: Broadcasting large task binary with size 4.1 MiB\n"
     ]
    },
    {
     "name": "stderr",
     "output_type": "stream",
     "text": [
      "[Stage 58:======================================================> (49 + 1) / 50]\r"
     ]
    },
    {
     "name": "stdout",
     "output_type": "stream",
     "text": [
      "23/06/04 20:28:47 WARN DAGScheduler: Broadcasting large task binary with size 4.1 MiB\n"
     ]
    },
    {
     "name": "stderr",
     "output_type": "stream",
     "text": [
      "                                                                                \r"
     ]
    },
    {
     "name": "stdout",
     "output_type": "stream",
     "text": [
      "23/06/04 20:28:48 WARN DAGScheduler: Broadcasting large task binary with size 4.1 MiB\n",
      "23/06/04 20:28:48 WARN DAGScheduler: Broadcasting large task binary with size 4.1 MiB\n",
      "23/06/04 20:28:49 WARN DAGScheduler: Broadcasting large task binary with size 4.1 MiB\n"
     ]
    },
    {
     "name": "stderr",
     "output_type": "stream",
     "text": [
      "[Stage 64:=============================================>          (41 + 4) / 50]\r"
     ]
    },
    {
     "name": "stdout",
     "output_type": "stream",
     "text": [
      "23/06/04 20:28:51 WARN DAGScheduler: Broadcasting large task binary with size 4.1 MiB\n"
     ]
    },
    {
     "name": "stderr",
     "output_type": "stream",
     "text": [
      "                                                                                \r"
     ]
    },
    {
     "name": "stdout",
     "output_type": "stream",
     "text": [
      "23/06/04 20:28:51 WARN DAGScheduler: Broadcasting large task binary with size 4.1 MiB\n",
      "23/06/04 20:28:52 WARN DAGScheduler: Broadcasting large task binary with size 4.1 MiB\n",
      "23/06/04 20:28:52 WARN DAGScheduler: Broadcasting large task binary with size 4.1 MiB\n",
      "23/06/04 20:28:52 WARN DAGScheduler: Broadcasting large task binary with size 4.1 MiB\n",
      "23/06/04 20:28:53 WARN DAGScheduler: Broadcasting large task binary with size 4.1 MiB\n"
     ]
    },
    {
     "name": "stderr",
     "output_type": "stream",
     "text": [
      "[Stage 73:======================================================> (49 + 1) / 50]\r"
     ]
    },
    {
     "name": "stdout",
     "output_type": "stream",
     "text": [
      "23/06/04 20:28:55 WARN DAGScheduler: Broadcasting large task binary with size 4.1 MiB\n"
     ]
    },
    {
     "name": "stderr",
     "output_type": "stream",
     "text": [
      "                                                                                \r"
     ]
    },
    {
     "name": "stdout",
     "output_type": "stream",
     "text": [
      "23/06/04 20:28:56 WARN DAGScheduler: Broadcasting large task binary with size 4.1 MiB\n"
     ]
    },
    {
     "name": "stderr",
     "output_type": "stream",
     "text": [
      "[Stage 76:=====================================================>  (48 + 2) / 50]\r"
     ]
    },
    {
     "name": "stdout",
     "output_type": "stream",
     "text": [
      "23/06/04 20:29:01 WARN DAGScheduler: Broadcasting large task binary with size 4.1 MiB\n"
     ]
    },
    {
     "name": "stderr",
     "output_type": "stream",
     "text": [
      "                                                                                \r"
     ]
    },
    {
     "name": "stdout",
     "output_type": "stream",
     "text": [
      "23/06/04 20:29:02 WARN DAGScheduler: Broadcasting large task binary with size 4.1 MiB\n",
      "23/06/04 20:29:02 WARN DAGScheduler: Broadcasting large task binary with size 4.1 MiB\n",
      "23/06/04 20:29:03 WARN DAGScheduler: Broadcasting large task binary with size 4.1 MiB\n",
      "23/06/04 20:29:03 WARN DAGScheduler: Broadcasting large task binary with size 4.1 MiB\n",
      "23/06/04 20:29:04 WARN DAGScheduler: Broadcasting large task binary with size 4.1 MiB\n",
      "23/06/04 20:29:04 WARN DAGScheduler: Broadcasting large task binary with size 4.1 MiB\n",
      "23/06/04 20:29:05 WARN DAGScheduler: Broadcasting large task binary with size 4.1 MiB\n",
      "23/06/04 20:29:05 WARN DAGScheduler: Broadcasting large task binary with size 4.1 MiB\n",
      "23/06/04 20:29:06 WARN DAGScheduler: Broadcasting large task binary with size 4.1 MiB\n",
      "23/06/04 20:29:06 WARN DAGScheduler: Broadcasting large task binary with size 4.1 MiB\n",
      "23/06/04 20:29:06 WARN DAGScheduler: Broadcasting large task binary with size 4.1 MiB\n"
     ]
    },
    {
     "name": "stderr",
     "output_type": "stream",
     "text": [
      "[Stage 94:======================================================> (49 + 1) / 50]\r"
     ]
    },
    {
     "name": "stdout",
     "output_type": "stream",
     "text": [
      "23/06/04 20:29:12 WARN DAGScheduler: Broadcasting large task binary with size 4.1 MiB\n"
     ]
    },
    {
     "name": "stderr",
     "output_type": "stream",
     "text": [
      "                                                                                \r"
     ]
    },
    {
     "name": "stdout",
     "output_type": "stream",
     "text": [
      "23/06/04 20:29:12 WARN DAGScheduler: Broadcasting large task binary with size 4.1 MiB\n",
      "23/06/04 20:29:12 WARN DAGScheduler: Broadcasting large task binary with size 4.1 MiB\n",
      "23/06/04 20:29:13 WARN DAGScheduler: Broadcasting large task binary with size 4.1 MiB\n",
      "23/06/04 20:29:14 WARN DAGScheduler: Broadcasting large task binary with size 4.1 MiB\n",
      "23/06/04 20:29:14 WARN DAGScheduler: Broadcasting large task binary with size 4.1 MiB\n",
      "23/06/04 20:29:14 WARN DAGScheduler: Broadcasting large task binary with size 4.1 MiB\n",
      "23/06/04 20:29:15 WARN DAGScheduler: Broadcasting large task binary with size 4.1 MiB\n",
      "23/06/04 20:29:15 WARN DAGScheduler: Broadcasting large task binary with size 4.1 MiB\n",
      "23/06/04 20:29:16 WARN DAGScheduler: Broadcasting large task binary with size 4.1 MiB\n",
      "23/06/04 20:29:16 WARN DAGScheduler: Broadcasting large task binary with size 4.1 MiB\n",
      "23/06/04 20:29:17 WARN DAGScheduler: Broadcasting large task binary with size 4.1 MiB\n",
      "23/06/04 20:29:17 WARN DAGScheduler: Broadcasting large task binary with size 4.1 MiB\n",
      "23/06/04 20:29:17 WARN DAGScheduler: Broadcasting large task binary with size 4.1 MiB\n",
      "23/06/04 20:29:18 WARN DAGScheduler: Broadcasting large task binary with size 4.1 MiB\n",
      "23/06/04 20:29:18 WARN DAGScheduler: Broadcasting large task binary with size 4.1 MiB\n",
      "23/06/04 20:29:19 WARN DAGScheduler: Broadcasting large task binary with size 4.1 MiB\n",
      "23/06/04 20:29:19 WARN DAGScheduler: Broadcasting large task binary with size 4.1 MiB\n",
      "23/06/04 20:29:20 WARN DAGScheduler: Broadcasting large task binary with size 4.1 MiB\n",
      "23/06/04 20:29:20 WARN DAGScheduler: Broadcasting large task binary with size 4.1 MiB\n",
      "23/06/04 20:29:20 WARN DAGScheduler: Broadcasting large task binary with size 4.1 MiB\n",
      "23/06/04 20:29:21 WARN DAGScheduler: Broadcasting large task binary with size 4.1 MiB\n",
      "23/06/04 20:29:21 WARN DAGScheduler: Broadcasting large task binary with size 4.1 MiB\n",
      "23/06/04 20:29:22 WARN DAGScheduler: Broadcasting large task binary with size 4.1 MiB\n",
      "23/06/04 20:29:22 WARN DAGScheduler: Broadcasting large task binary with size 4.1 MiB\n",
      "23/06/04 20:29:23 WARN DAGScheduler: Broadcasting large task binary with size 4.1 MiB\n",
      "23/06/04 20:29:23 WARN DAGScheduler: Broadcasting large task binary with size 4.1 MiB\n",
      "23/06/04 20:29:24 WARN DAGScheduler: Broadcasting large task binary with size 4.1 MiB\n",
      "23/06/04 20:29:24 WARN DAGScheduler: Broadcasting large task binary with size 4.1 MiB\n",
      "23/06/04 20:29:24 WARN DAGScheduler: Broadcasting large task binary with size 4.1 MiB\n",
      "23/06/04 20:29:25 WARN DAGScheduler: Broadcasting large task binary with size 4.1 MiB\n",
      "23/06/04 20:29:25 WARN DAGScheduler: Broadcasting large task binary with size 4.1 MiB\n",
      "23/06/04 20:29:26 WARN DAGScheduler: Broadcasting large task binary with size 4.1 MiB\n",
      "23/06/04 20:29:26 WARN DAGScheduler: Broadcasting large task binary with size 4.1 MiB\n",
      "23/06/04 20:29:26 WARN DAGScheduler: Broadcasting large task binary with size 4.1 MiB\n",
      "23/06/04 20:29:27 WARN DAGScheduler: Broadcasting large task binary with size 4.1 MiB\n",
      "23/06/04 20:29:27 WARN DAGScheduler: Broadcasting large task binary with size 4.1 MiB\n",
      "23/06/04 20:29:28 WARN DAGScheduler: Broadcasting large task binary with size 4.1 MiB\n",
      "23/06/04 20:29:28 WARN DAGScheduler: Broadcasting large task binary with size 4.1 MiB\n",
      "23/06/04 20:29:29 WARN DAGScheduler: Broadcasting large task binary with size 4.1 MiB\n",
      "23/06/04 20:29:29 WARN DAGScheduler: Broadcasting large task binary with size 4.1 MiB\n"
     ]
    },
    {
     "name": "stderr",
     "output_type": "stream",
     "text": [
      "                                                                                \r"
     ]
    },
    {
     "name": "stdout",
     "output_type": "stream",
     "text": [
      "23/06/04 20:29:30 WARN DAGScheduler: Broadcasting large task binary with size 4.1 MiB\n",
      "23/06/04 20:29:30 WARN DAGScheduler: Broadcasting large task binary with size 4.1 MiB\n",
      "23/06/04 20:29:31 WARN DAGScheduler: Broadcasting large task binary with size 4.1 MiB\n",
      "23/06/04 20:29:31 WARN DAGScheduler: Broadcasting large task binary with size 4.1 MiB\n",
      "23/06/04 20:29:32 WARN DAGScheduler: Broadcasting large task binary with size 4.1 MiB\n",
      "23/06/04 20:29:32 WARN DAGScheduler: Broadcasting large task binary with size 4.1 MiB\n",
      "23/06/04 20:29:32 WARN DAGScheduler: Broadcasting large task binary with size 4.1 MiB\n",
      "23/06/04 20:29:33 WARN DAGScheduler: Broadcasting large task binary with size 4.1 MiB\n",
      "23/06/04 20:29:33 WARN DAGScheduler: Broadcasting large task binary with size 4.1 MiB\n",
      "23/06/04 20:29:34 WARN DAGScheduler: Broadcasting large task binary with size 4.1 MiB\n",
      "23/06/04 20:29:34 WARN DAGScheduler: Broadcasting large task binary with size 4.1 MiB\n",
      "23/06/04 20:29:35 WARN DAGScheduler: Broadcasting large task binary with size 4.1 MiB\n",
      "23/06/04 20:29:35 WARN DAGScheduler: Broadcasting large task binary with size 4.1 MiB\n",
      "23/06/04 20:29:35 WARN DAGScheduler: Broadcasting large task binary with size 4.1 MiB\n",
      "23/06/04 20:29:36 WARN DAGScheduler: Broadcasting large task binary with size 4.1 MiB\n",
      "23/06/04 20:29:36 WARN DAGScheduler: Broadcasting large task binary with size 4.1 MiB\n",
      "23/06/04 20:29:37 WARN DAGScheduler: Broadcasting large task binary with size 4.1 MiB\n",
      "23/06/04 20:29:37 WARN DAGScheduler: Broadcasting large task binary with size 4.1 MiB\n",
      "23/06/04 20:29:38 WARN DAGScheduler: Broadcasting large task binary with size 4.1 MiB\n"
     ]
    },
    {
     "name": "stderr",
     "output_type": "stream",
     "text": [
      "[Stage 184:=================================================>     (45 + 4) / 50]\r"
     ]
    },
    {
     "name": "stdout",
     "output_type": "stream",
     "text": [
      "23/06/04 20:29:43 WARN DAGScheduler: Broadcasting large task binary with size 4.1 MiB\n"
     ]
    },
    {
     "name": "stderr",
     "output_type": "stream",
     "text": [
      "                                                                                \r"
     ]
    },
    {
     "name": "stdout",
     "output_type": "stream",
     "text": [
      "23/06/04 20:29:44 WARN DAGScheduler: Broadcasting large task binary with size 4.1 MiB\n",
      "23/06/04 20:29:44 WARN DAGScheduler: Broadcasting large task binary with size 4.1 MiB\n",
      "23/06/04 20:29:44 WARN DAGScheduler: Broadcasting large task binary with size 4.1 MiB\n",
      "23/06/04 20:29:45 WARN DAGScheduler: Broadcasting large task binary with size 4.1 MiB\n",
      "23/06/04 20:29:45 WARN DAGScheduler: Broadcasting large task binary with size 4.1 MiB\n",
      "23/06/04 20:29:46 WARN DAGScheduler: Broadcasting large task binary with size 4.1 MiB\n",
      "23/06/04 20:29:46 WARN DAGScheduler: Broadcasting large task binary with size 4.1 MiB\n",
      "23/06/04 20:29:46 WARN DAGScheduler: Broadcasting large task binary with size 4.1 MiB\n",
      "23/06/04 20:29:47 WARN DAGScheduler: Broadcasting large task binary with size 4.1 MiB\n",
      "23/06/04 20:29:47 WARN DAGScheduler: Broadcasting large task binary with size 4.1 MiB\n",
      "23/06/04 20:29:48 WARN DAGScheduler: Broadcasting large task binary with size 4.1 MiB\n",
      "23/06/04 20:29:48 WARN DAGScheduler: Broadcasting large task binary with size 4.1 MiB\n",
      "23/06/04 20:29:49 WARN DAGScheduler: Broadcasting large task binary with size 4.1 MiB\n",
      "23/06/04 20:29:49 WARN DAGScheduler: Broadcasting large task binary with size 4.1 MiB\n",
      "23/06/04 20:29:50 WARN DAGScheduler: Broadcasting large task binary with size 4.1 MiB\n",
      "23/06/04 20:29:50 WARN DAGScheduler: Broadcasting large task binary with size 4.1 MiB\n",
      "23/06/04 20:29:50 WARN DAGScheduler: Broadcasting large task binary with size 4.1 MiB\n",
      "23/06/04 20:29:51 WARN DAGScheduler: Broadcasting large task binary with size 4.1 MiB\n",
      "23/06/04 20:29:51 WARN DAGScheduler: Broadcasting large task binary with size 4.1 MiB\n",
      "23/06/04 20:29:52 WARN DAGScheduler: Broadcasting large task binary with size 4.1 MiB\n",
      "23/06/04 20:29:52 WARN DAGScheduler: Broadcasting large task binary with size 4.1 MiB\n",
      "23/06/04 20:29:53 WARN DAGScheduler: Broadcasting large task binary with size 4.1 MiB\n",
      "23/06/04 20:29:53 WARN DAGScheduler: Broadcasting large task binary with size 4.1 MiB\n",
      "23/06/04 20:29:53 WARN DAGScheduler: Broadcasting large task binary with size 4.1 MiB\n"
     ]
    },
    {
     "name": "stderr",
     "output_type": "stream",
     "text": [
      "                                                                                \r"
     ]
    },
    {
     "name": "stdout",
     "output_type": "stream",
     "text": [
      "23/06/04 20:29:54 WARN DAGScheduler: Broadcasting large task binary with size 4.1 MiB\n",
      "23/06/04 20:29:54 WARN DAGScheduler: Broadcasting large task binary with size 4.1 MiB\n",
      "23/06/04 20:29:55 WARN DAGScheduler: Broadcasting large task binary with size 4.1 MiB\n",
      "23/06/04 20:29:55 WARN DAGScheduler: Broadcasting large task binary with size 4.1 MiB\n",
      "23/06/04 20:29:56 WARN DAGScheduler: Broadcasting large task binary with size 4.1 MiB\n",
      "23/06/04 20:29:56 WARN DAGScheduler: Broadcasting large task binary with size 4.1 MiB\n",
      "23/06/04 20:29:57 WARN DAGScheduler: Broadcasting large task binary with size 4.1 MiB\n",
      "23/06/04 20:29:57 WARN DAGScheduler: Broadcasting large task binary with size 4.1 MiB\n",
      "23/06/04 20:29:58 WARN DAGScheduler: Broadcasting large task binary with size 4.1 MiB\n",
      "23/06/04 20:29:58 WARN DAGScheduler: Broadcasting large task binary with size 4.1 MiB\n",
      "23/06/04 20:29:58 WARN DAGScheduler: Broadcasting large task binary with size 4.1 MiB\n",
      "23/06/04 20:29:59 WARN DAGScheduler: Broadcasting large task binary with size 4.1 MiB\n",
      "23/06/04 20:29:59 WARN DAGScheduler: Broadcasting large task binary with size 4.1 MiB\n",
      "23/06/04 20:30:00 WARN DAGScheduler: Broadcasting large task binary with size 4.1 MiB\n",
      "23/06/04 20:30:00 WARN DAGScheduler: Broadcasting large task binary with size 4.1 MiB\n",
      "23/06/04 20:30:01 WARN DAGScheduler: Broadcasting large task binary with size 4.1 MiB\n",
      "23/06/04 20:30:01 WARN DAGScheduler: Broadcasting large task binary with size 4.1 MiB\n",
      "23/06/04 20:30:01 WARN DAGScheduler: Broadcasting large task binary with size 4.1 MiB\n",
      "23/06/04 20:30:02 WARN DAGScheduler: Broadcasting large task binary with size 4.1 MiB\n",
      "23/06/04 20:30:02 WARN DAGScheduler: Broadcasting large task binary with size 4.1 MiB\n",
      "23/06/04 20:30:03 WARN DAGScheduler: Broadcasting large task binary with size 4.1 MiB\n",
      "23/06/04 20:30:03 WARN DAGScheduler: Broadcasting large task binary with size 4.1 MiB\n",
      "23/06/04 20:30:04 WARN DAGScheduler: Broadcasting large task binary with size 4.1 MiB\n",
      "23/06/04 20:30:04 WARN DAGScheduler: Broadcasting large task binary with size 4.1 MiB\n",
      "23/06/04 20:30:05 WARN DAGScheduler: Broadcasting large task binary with size 4.1 MiB\n",
      "23/06/04 20:30:05 WARN DAGScheduler: Broadcasting large task binary with size 4.1 MiB\n",
      "23/06/04 20:30:06 WARN DAGScheduler: Broadcasting large task binary with size 4.1 MiB\n",
      "23/06/04 20:30:06 WARN DAGScheduler: Broadcasting large task binary with size 4.1 MiB\n",
      "23/06/04 20:30:07 WARN DAGScheduler: Broadcasting large task binary with size 4.1 MiB\n",
      "23/06/04 20:30:07 WARN DAGScheduler: Broadcasting large task binary with size 4.1 MiB\n",
      "23/06/04 20:30:07 WARN DAGScheduler: Broadcasting large task binary with size 4.1 MiB\n"
     ]
    },
    {
     "name": "stderr",
     "output_type": "stream",
     "text": [
      "[Stage 268:=====================================================> (49 + 1) / 50]\r"
     ]
    },
    {
     "name": "stdout",
     "output_type": "stream",
     "text": [
      "23/06/04 20:30:10 WARN DAGScheduler: Broadcasting large task binary with size 4.1 MiB\n"
     ]
    },
    {
     "name": "stderr",
     "output_type": "stream",
     "text": [
      "                                                                                \r"
     ]
    },
    {
     "name": "stdout",
     "output_type": "stream",
     "text": [
      "23/06/04 20:30:11 WARN DAGScheduler: Broadcasting large task binary with size 4.1 MiB\n",
      "23/06/04 20:30:11 WARN DAGScheduler: Broadcasting large task binary with size 4.1 MiB\n",
      "23/06/04 20:30:12 WARN DAGScheduler: Broadcasting large task binary with size 4.1 MiB\n",
      "23/06/04 20:30:12 WARN DAGScheduler: Broadcasting large task binary with size 4.1 MiB\n"
     ]
    },
    {
     "name": "stderr",
     "output_type": "stream",
     "text": [
      "                                                                                \r"
     ]
    },
    {
     "name": "stdout",
     "output_type": "stream",
     "text": [
      "23/06/04 20:30:13 WARN DAGScheduler: Broadcasting large task binary with size 4.1 MiB\n",
      "23/06/04 20:30:13 WARN DAGScheduler: Broadcasting large task binary with size 4.1 MiB\n",
      "23/06/04 20:30:14 WARN DAGScheduler: Broadcasting large task binary with size 4.1 MiB\n",
      "23/06/04 20:30:14 WARN DAGScheduler: Broadcasting large task binary with size 4.1 MiB\n",
      "23/06/04 20:30:15 WARN DAGScheduler: Broadcasting large task binary with size 4.1 MiB\n",
      "23/06/04 20:30:15 WARN DAGScheduler: Broadcasting large task binary with size 4.1 MiB\n",
      "23/06/04 20:30:15 WARN DAGScheduler: Broadcasting large task binary with size 4.1 MiB\n",
      "23/06/04 20:30:16 WARN DAGScheduler: Broadcasting large task binary with size 4.1 MiB\n",
      "23/06/04 20:30:16 WARN DAGScheduler: Broadcasting large task binary with size 4.1 MiB\n",
      "23/06/04 20:30:17 WARN DAGScheduler: Broadcasting large task binary with size 4.1 MiB\n",
      "23/06/04 20:30:17 WARN DAGScheduler: Broadcasting large task binary with size 4.1 MiB\n",
      "23/06/04 20:30:17 WARN DAGScheduler: Broadcasting large task binary with size 4.1 MiB\n",
      "23/06/04 20:30:18 WARN DAGScheduler: Broadcasting large task binary with size 4.1 MiB\n",
      "23/06/04 20:30:18 WARN DAGScheduler: Broadcasting large task binary with size 4.1 MiB\n",
      "23/06/04 20:30:19 WARN DAGScheduler: Broadcasting large task binary with size 4.1 MiB\n",
      "23/06/04 20:30:19 WARN DAGScheduler: Broadcasting large task binary with size 4.1 MiB\n",
      "23/06/04 20:30:20 WARN DAGScheduler: Broadcasting large task binary with size 4.1 MiB\n",
      "23/06/04 20:30:20 WARN DAGScheduler: Broadcasting large task binary with size 4.1 MiB\n",
      "23/06/04 20:30:21 WARN DAGScheduler: Broadcasting large task binary with size 4.1 MiB\n"
     ]
    },
    {
     "name": "stderr",
     "output_type": "stream",
     "text": [
      "[Stage 304:=====================================================> (49 + 1) / 50]\r"
     ]
    },
    {
     "name": "stdout",
     "output_type": "stream",
     "text": [
      "23/06/04 20:30:22 WARN DAGScheduler: Broadcasting large task binary with size 4.1 MiB\n"
     ]
    },
    {
     "name": "stderr",
     "output_type": "stream",
     "text": [
      "                                                                                \r"
     ]
    },
    {
     "name": "stdout",
     "output_type": "stream",
     "text": [
      "23/06/04 20:30:22 WARN DAGScheduler: Broadcasting large task binary with size 4.1 MiB\n",
      "23/06/04 20:30:22 WARN DAGScheduler: Broadcasting large task binary with size 4.1 MiB\n",
      "23/06/04 20:30:23 WARN DAGScheduler: Broadcasting large task binary with size 4.1 MiB\n",
      "23/06/04 20:30:23 WARN DAGScheduler: Broadcasting large task binary with size 4.1 MiB\n",
      "23/06/04 20:30:24 WARN DAGScheduler: Broadcasting large task binary with size 4.1 MiB\n",
      "23/06/04 20:30:24 WARN DAGScheduler: Broadcasting large task binary with size 4.1 MiB\n",
      "23/06/04 20:30:25 WARN DAGScheduler: Broadcasting large task binary with size 4.1 MiB\n",
      "23/06/04 20:30:25 WARN DAGScheduler: Broadcasting large task binary with size 4.1 MiB\n",
      "23/06/04 20:30:26 WARN DAGScheduler: Broadcasting large task binary with size 4.1 MiB\n",
      "23/06/04 20:30:26 WARN DAGScheduler: Broadcasting large task binary with size 4.1 MiB\n",
      "23/06/04 20:30:26 WARN DAGScheduler: Broadcasting large task binary with size 4.1 MiB\n",
      "23/06/04 20:30:27 WARN DAGScheduler: Broadcasting large task binary with size 4.1 MiB\n",
      "23/06/04 20:30:27 WARN DAGScheduler: Broadcasting large task binary with size 4.1 MiB\n",
      "23/06/04 20:30:27 WARN DAGScheduler: Broadcasting large task binary with size 4.1 MiB\n",
      "23/06/04 20:30:28 WARN DAGScheduler: Broadcasting large task binary with size 4.1 MiB\n",
      "23/06/04 20:30:28 WARN DAGScheduler: Broadcasting large task binary with size 4.1 MiB\n",
      "23/06/04 20:30:29 WARN DAGScheduler: Broadcasting large task binary with size 4.1 MiB\n",
      "23/06/04 20:30:29 WARN DAGScheduler: Broadcasting large task binary with size 4.1 MiB\n",
      "23/06/04 20:30:30 WARN DAGScheduler: Broadcasting large task binary with size 4.1 MiB\n",
      "23/06/04 20:30:30 WARN DAGScheduler: Broadcasting large task binary with size 4.1 MiB\n",
      "23/06/04 20:30:31 WARN DAGScheduler: Broadcasting large task binary with size 4.1 MiB\n",
      "23/06/04 20:30:31 WARN DAGScheduler: Broadcasting large task binary with size 4.1 MiB\n",
      "23/06/04 20:30:31 WARN DAGScheduler: Broadcasting large task binary with size 4.1 MiB\n",
      "23/06/04 20:30:32 WARN DAGScheduler: Broadcasting large task binary with size 4.1 MiB\n",
      "23/06/04 20:30:32 WARN DAGScheduler: Broadcasting large task binary with size 4.1 MiB\n",
      "23/06/04 20:30:33 WARN DAGScheduler: Broadcasting large task binary with size 4.1 MiB\n",
      "23/06/04 20:30:33 WARN DAGScheduler: Broadcasting large task binary with size 4.1 MiB\n",
      "23/06/04 20:30:34 WARN DAGScheduler: Broadcasting large task binary with size 4.1 MiB\n"
     ]
    },
    {
     "name": "stderr",
     "output_type": "stream",
     "text": [
      "                                                                                \r"
     ]
    },
    {
     "name": "stdout",
     "output_type": "stream",
     "text": [
      "23/06/04 20:30:34 WARN DAGScheduler: Broadcasting large task binary with size 4.1 MiB\n",
      "23/06/04 20:30:35 WARN DAGScheduler: Broadcasting large task binary with size 4.1 MiB\n",
      "23/06/04 20:30:35 WARN DAGScheduler: Broadcasting large task binary with size 4.1 MiB\n",
      "23/06/04 20:30:36 WARN DAGScheduler: Broadcasting large task binary with size 4.1 MiB\n"
     ]
    },
    {
     "name": "stderr",
     "output_type": "stream",
     "text": [
      "                                                                                \r"
     ]
    },
    {
     "name": "stdout",
     "output_type": "stream",
     "text": [
      "23/06/04 20:30:36 WARN DAGScheduler: Broadcasting large task binary with size 4.1 MiB\n",
      "23/06/04 20:30:37 WARN DAGScheduler: Broadcasting large task binary with size 4.1 MiB\n"
     ]
    },
    {
     "name": "stderr",
     "output_type": "stream",
     "text": [
      "                                                                                \r"
     ]
    },
    {
     "name": "stdout",
     "output_type": "stream",
     "text": [
      "23/06/04 20:30:38 WARN DAGScheduler: Broadcasting large task binary with size 4.1 MiB\n",
      "23/06/04 20:30:38 WARN DAGScheduler: Broadcasting large task binary with size 4.1 MiB\n",
      "23/06/04 20:30:38 WARN DAGScheduler: Broadcasting large task binary with size 4.1 MiB\n",
      "23/06/04 20:30:39 WARN DAGScheduler: Broadcasting large task binary with size 4.1 MiB\n"
     ]
    },
    {
     "name": "stderr",
     "output_type": "stream",
     "text": [
      "[Stage 363:=======================================>               (13 + 5) / 18]\r"
     ]
    }
   ],
   "source": [
    "from pyspark.ml.classification import LogisticRegression\n",
    "from pyspark.ml.evaluation import BinaryClassificationEvaluator, MulticlassClassificationEvaluator\n",
    "\n",
    "# Split the data into training and testing sets\n",
    "train_data, test_data = transformed_data.randomSplit([0.7, 0.3], seed=42)\n",
    "\n",
    "# Logistic Regression\n",
    "lr = LogisticRegression(labelCol=\"New_Column\", featuresCol=\"tfidf\", threshold=0.5)\n",
    "lr_model = lr.fit(train_data)\n",
    "lr_predictions = lr_model.transform(test_data)\n",
    "\n",
    "# Evaluation\n",
    "binary_evaluator = BinaryClassificationEvaluator(labelCol=\"New_Column\")\n",
    "auc_lr = binary_evaluator.evaluate(lr_predictions)\n",
    "\n",
    "multi_evaluator = MulticlassClassificationEvaluator(labelCol=\"New_Column\")\n",
    "accuracy_lr = multi_evaluator.evaluate(lr_predictions, {multi_evaluator.metricName: \"accuracy\"})\n",
    "precision_lr = multi_evaluator.evaluate(lr_predictions, {multi_evaluator.metricName: \"precisionByLabel\"})\n",
    "recall_lr = multi_evaluator.evaluate(lr_predictions, {multi_evaluator.metricName: \"recallByLabel\"})\n",
    "f1_score_lr = multi_evaluator.evaluate(lr_predictions, {multi_evaluator.metricName: \"f1\"})\n",
    "\n",
    "# Print the results\n",
    "print(\"Logistic Regression - AUC:\", auc_lr)\n",
    "print(\"Logistic Regression - Accuracy:\", accuracy_lr)\n",
    "print(\"Logistic Regression - Precision:\", precision_lr)\n",
    "print(\"Logistic Regression - Recall:\", recall_lr)\n",
    "print(\"Logistic Regression - F1 Score:\", f1_score_lr)\n",
    "\n",
    "# lr_model.save(\"hdfs://192.168.219.121:9000/crawling_stock_text_merge/lr_model\")\n"
   ]
  },
  {
   "cell_type": "code",
   "execution_count": 12,
   "id": "0ef570f0-4d3b-430f-948f-4b3623a9d259",
   "metadata": {},
   "outputs": [
    {
     "name": "stderr",
     "output_type": "stream",
     "text": [
      "[Stage 41:====================================================>   (17 + 1) / 18]\r"
     ]
    },
    {
     "name": "stdout",
     "output_type": "stream",
     "text": [
      "23/06/13 12:15:43 WARN DAGScheduler: Broadcasting large task binary with size 4.1 MiB\n"
     ]
    },
    {
     "name": "stderr",
     "output_type": "stream",
     "text": [
      "[Stage 43:====================================================>   (47 + 3) / 50]\r"
     ]
    },
    {
     "name": "stdout",
     "output_type": "stream",
     "text": [
      "23/06/13 12:16:11 WARN DAGScheduler: Broadcasting large task binary with size 4.1 MiB\n"
     ]
    },
    {
     "name": "stderr",
     "output_type": "stream",
     "text": [
      "                                                                                \r"
     ]
    },
    {
     "name": "stdout",
     "output_type": "stream",
     "text": [
      "23/06/13 12:16:12 WARN DAGScheduler: Broadcasting large task binary with size 4.1 MiB\n"
     ]
    },
    {
     "name": "stderr",
     "output_type": "stream",
     "text": [
      "[Stage 46:======================================================> (49 + 1) / 50]\r"
     ]
    },
    {
     "name": "stdout",
     "output_type": "stream",
     "text": [
      "23/06/13 12:16:42 WARN DAGScheduler: Broadcasting large task binary with size 4.1 MiB\n",
      "23/06/13 12:16:42 WARN InstanceBuilder$NativeBLAS: Failed to load implementation from:dev.ludovic.netlib.blas.JNIBLAS\n",
      "23/06/13 12:16:42 WARN InstanceBuilder$NativeBLAS: Failed to load implementation from:dev.ludovic.netlib.blas.ForeignLinkerBLAS\n"
     ]
    },
    {
     "name": "stderr",
     "output_type": "stream",
     "text": [
      "                                                                                \r"
     ]
    },
    {
     "name": "stdout",
     "output_type": "stream",
     "text": [
      "23/06/13 12:16:42 WARN BLAS: Failed to load implementation from: com.github.fommil.netlib.NativeSystemBLAS\n",
      "23/06/13 12:16:42 WARN BLAS: Failed to load implementation from: com.github.fommil.netlib.NativeRefBLAS\n",
      "23/06/13 12:16:43 WARN DAGScheduler: Broadcasting large task binary with size 4.1 MiB\n",
      "23/06/13 12:16:43 WARN DAGScheduler: Broadcasting large task binary with size 4.1 MiB\n",
      "23/06/13 12:16:44 WARN DAGScheduler: Broadcasting large task binary with size 4.1 MiB\n",
      "23/06/13 12:16:44 WARN DAGScheduler: Broadcasting large task binary with size 4.1 MiB\n",
      "23/06/13 12:16:44 WARN DAGScheduler: Broadcasting large task binary with size 4.1 MiB\n",
      "23/06/13 12:16:45 WARN DAGScheduler: Broadcasting large task binary with size 4.1 MiB\n",
      "23/06/13 12:16:45 WARN DAGScheduler: Broadcasting large task binary with size 4.1 MiB\n",
      "23/06/13 12:16:46 WARN DAGScheduler: Broadcasting large task binary with size 4.1 MiB\n",
      "23/06/13 12:16:46 WARN DAGScheduler: Broadcasting large task binary with size 4.1 MiB\n",
      "23/06/13 12:16:47 WARN DAGScheduler: Broadcasting large task binary with size 4.1 MiB\n",
      "23/06/13 12:16:47 WARN DAGScheduler: Broadcasting large task binary with size 4.1 MiB\n",
      "23/06/13 12:16:47 WARN DAGScheduler: Broadcasting large task binary with size 4.1 MiB\n",
      "23/06/13 12:16:48 WARN DAGScheduler: Broadcasting large task binary with size 4.1 MiB\n",
      "23/06/13 12:16:48 WARN DAGScheduler: Broadcasting large task binary with size 4.1 MiB\n",
      "23/06/13 12:16:49 WARN DAGScheduler: Broadcasting large task binary with size 4.1 MiB\n",
      "23/06/13 12:16:49 WARN DAGScheduler: Broadcasting large task binary with size 4.1 MiB\n",
      "23/06/13 12:16:50 WARN DAGScheduler: Broadcasting large task binary with size 4.1 MiB\n",
      "23/06/13 12:16:50 WARN DAGScheduler: Broadcasting large task binary with size 4.1 MiB\n",
      "23/06/13 12:16:51 WARN DAGScheduler: Broadcasting large task binary with size 4.1 MiB\n",
      "23/06/13 12:16:51 WARN DAGScheduler: Broadcasting large task binary with size 4.1 MiB\n",
      "23/06/13 12:16:51 WARN DAGScheduler: Broadcasting large task binary with size 4.1 MiB\n",
      "23/06/13 12:16:52 WARN DAGScheduler: Broadcasting large task binary with size 4.1 MiB\n",
      "23/06/13 12:16:52 WARN DAGScheduler: Broadcasting large task binary with size 4.1 MiB\n",
      "23/06/13 12:16:53 WARN DAGScheduler: Broadcasting large task binary with size 4.1 MiB\n",
      "23/06/13 12:16:53 WARN DAGScheduler: Broadcasting large task binary with size 4.1 MiB\n",
      "23/06/13 12:16:54 WARN DAGScheduler: Broadcasting large task binary with size 4.1 MiB\n",
      "23/06/13 12:16:54 WARN DAGScheduler: Broadcasting large task binary with size 4.1 MiB\n",
      "23/06/13 12:16:55 WARN DAGScheduler: Broadcasting large task binary with size 4.1 MiB\n",
      "23/06/13 12:16:55 WARN DAGScheduler: Broadcasting large task binary with size 4.1 MiB\n",
      "23/06/13 12:16:55 WARN DAGScheduler: Broadcasting large task binary with size 4.1 MiB\n",
      "23/06/13 12:16:56 WARN DAGScheduler: Broadcasting large task binary with size 4.1 MiB\n",
      "23/06/13 12:16:56 WARN DAGScheduler: Broadcasting large task binary with size 4.1 MiB\n",
      "23/06/13 12:16:57 WARN DAGScheduler: Broadcasting large task binary with size 4.1 MiB\n",
      "23/06/13 12:16:57 WARN DAGScheduler: Broadcasting large task binary with size 4.1 MiB\n",
      "23/06/13 12:16:58 WARN DAGScheduler: Broadcasting large task binary with size 4.1 MiB\n",
      "23/06/13 12:16:58 WARN DAGScheduler: Broadcasting large task binary with size 4.1 MiB\n",
      "23/06/13 12:16:59 WARN DAGScheduler: Broadcasting large task binary with size 4.1 MiB\n",
      "23/06/13 12:16:59 WARN DAGScheduler: Broadcasting large task binary with size 4.1 MiB\n",
      "23/06/13 12:16:59 WARN DAGScheduler: Broadcasting large task binary with size 4.1 MiB\n",
      "23/06/13 12:17:00 WARN DAGScheduler: Broadcasting large task binary with size 4.1 MiB\n"
     ]
    },
    {
     "name": "stderr",
     "output_type": "stream",
     "text": [
      "                                                                                \r"
     ]
    },
    {
     "name": "stdout",
     "output_type": "stream",
     "text": [
      "23/06/13 12:17:01 WARN DAGScheduler: Broadcasting large task binary with size 4.1 MiB\n",
      "23/06/13 12:17:01 WARN DAGScheduler: Broadcasting large task binary with size 4.1 MiB\n",
      "23/06/13 12:17:01 WARN DAGScheduler: Broadcasting large task binary with size 4.1 MiB\n",
      "23/06/13 12:17:02 WARN DAGScheduler: Broadcasting large task binary with size 4.1 MiB\n"
     ]
    },
    {
     "name": "stderr",
     "output_type": "stream",
     "text": [
      "                                                                                \r"
     ]
    },
    {
     "name": "stdout",
     "output_type": "stream",
     "text": [
      "23/06/13 12:17:03 WARN DAGScheduler: Broadcasting large task binary with size 4.1 MiB\n",
      "23/06/13 12:17:03 WARN DAGScheduler: Broadcasting large task binary with size 4.1 MiB\n",
      "23/06/13 12:17:03 WARN DAGScheduler: Broadcasting large task binary with size 4.1 MiB\n",
      "23/06/13 12:17:04 WARN DAGScheduler: Broadcasting large task binary with size 4.1 MiB\n",
      "23/06/13 12:17:04 WARN DAGScheduler: Broadcasting large task binary with size 4.1 MiB\n",
      "23/06/13 12:17:05 WARN DAGScheduler: Broadcasting large task binary with size 4.1 MiB\n",
      "23/06/13 12:17:05 WARN DAGScheduler: Broadcasting large task binary with size 4.1 MiB\n",
      "23/06/13 12:17:06 WARN DAGScheduler: Broadcasting large task binary with size 4.1 MiB\n",
      "23/06/13 12:17:06 WARN DAGScheduler: Broadcasting large task binary with size 4.1 MiB\n",
      "23/06/13 12:17:07 WARN DAGScheduler: Broadcasting large task binary with size 4.1 MiB\n",
      "23/06/13 12:17:07 WARN DAGScheduler: Broadcasting large task binary with size 4.1 MiB\n",
      "23/06/13 12:17:08 WARN DAGScheduler: Broadcasting large task binary with size 4.1 MiB\n",
      "23/06/13 12:17:08 WARN DAGScheduler: Broadcasting large task binary with size 4.1 MiB\n",
      "23/06/13 12:17:08 WARN DAGScheduler: Broadcasting large task binary with size 4.1 MiB\n",
      "23/06/13 12:17:09 WARN DAGScheduler: Broadcasting large task binary with size 4.1 MiB\n",
      "23/06/13 12:17:09 WARN DAGScheduler: Broadcasting large task binary with size 4.1 MiB\n",
      "23/06/13 12:17:10 WARN DAGScheduler: Broadcasting large task binary with size 4.1 MiB\n",
      "23/06/13 12:17:10 WARN DAGScheduler: Broadcasting large task binary with size 4.1 MiB\n",
      "23/06/13 12:17:11 WARN DAGScheduler: Broadcasting large task binary with size 4.1 MiB\n",
      "23/06/13 12:17:11 WARN DAGScheduler: Broadcasting large task binary with size 4.1 MiB\n",
      "23/06/13 12:17:11 WARN DAGScheduler: Broadcasting large task binary with size 4.1 MiB\n",
      "23/06/13 12:17:12 WARN DAGScheduler: Broadcasting large task binary with size 4.1 MiB\n",
      "23/06/13 12:17:12 WARN DAGScheduler: Broadcasting large task binary with size 4.1 MiB\n",
      "23/06/13 12:17:13 WARN DAGScheduler: Broadcasting large task binary with size 4.1 MiB\n",
      "23/06/13 12:17:13 WARN DAGScheduler: Broadcasting large task binary with size 4.1 MiB\n",
      "23/06/13 12:17:14 WARN DAGScheduler: Broadcasting large task binary with size 4.1 MiB\n",
      "23/06/13 12:17:14 WARN DAGScheduler: Broadcasting large task binary with size 4.1 MiB\n",
      "23/06/13 12:17:14 WARN DAGScheduler: Broadcasting large task binary with size 4.1 MiB\n",
      "23/06/13 12:17:15 WARN DAGScheduler: Broadcasting large task binary with size 4.1 MiB\n",
      "23/06/13 12:17:15 WARN DAGScheduler: Broadcasting large task binary with size 4.1 MiB\n",
      "23/06/13 12:17:16 WARN DAGScheduler: Broadcasting large task binary with size 4.1 MiB\n",
      "23/06/13 12:17:16 WARN DAGScheduler: Broadcasting large task binary with size 4.1 MiB\n",
      "23/06/13 12:17:17 WARN DAGScheduler: Broadcasting large task binary with size 4.1 MiB\n",
      "23/06/13 12:17:17 WARN DAGScheduler: Broadcasting large task binary with size 4.1 MiB\n",
      "23/06/13 12:17:17 WARN DAGScheduler: Broadcasting large task binary with size 4.1 MiB\n",
      "23/06/13 12:17:18 WARN DAGScheduler: Broadcasting large task binary with size 4.1 MiB\n",
      "23/06/13 12:17:18 WARN DAGScheduler: Broadcasting large task binary with size 4.1 MiB\n",
      "23/06/13 12:17:19 WARN DAGScheduler: Broadcasting large task binary with size 4.1 MiB\n"
     ]
    },
    {
     "name": "stderr",
     "output_type": "stream",
     "text": [
      "[Stage 171:===================================================>   (17 + 1) / 18]\r"
     ]
    },
    {
     "name": "stdout",
     "output_type": "stream",
     "text": [
      "23/06/13 12:17:55 WARN DAGScheduler: Broadcasting large task binary with size 6.1 MiB\n"
     ]
    },
    {
     "name": "stderr",
     "output_type": "stream",
     "text": [
      "[Stage 173:====================================================>  (48 + 2) / 50]\r"
     ]
    },
    {
     "name": "stdout",
     "output_type": "stream",
     "text": [
      "23/06/13 12:18:24 WARN DAGScheduler: Broadcasting large task binary with size 6.1 MiB\n"
     ]
    },
    {
     "name": "stderr",
     "output_type": "stream",
     "text": [
      "                                                                                \r"
     ]
    }
   ],
   "source": [
    "from pyspark.ml.regression import LinearRegression\n",
    "from pyspark.ml.evaluation import BinaryClassificationEvaluator, MulticlassClassificationEvaluator\n",
    "\n",
    "# Split the data into training and testing sets\n",
    "train_data, test_data = transformed_data.randomSplit([0.7, 0.3], seed=42)\n",
    "# Linear Regression\n",
    "lr = LinearRegression(labelCol=\"New_Column\", featuresCol=\"tfidf\")\n",
    "lr_model = lr.fit(train_data)\n",
    "lr_predictions = lr_model.transform(test_data)\n"
   ]
  },
  {
   "cell_type": "code",
   "execution_count": 13,
   "id": "ca6ad50f-96c1-46af-8a53-859476ceb0b3",
   "metadata": {},
   "outputs": [
    {
     "name": "stderr",
     "output_type": "stream",
     "text": [
      "[Stage 175:===================================================>   (17 + 1) / 18]\r"
     ]
    },
    {
     "name": "stdout",
     "output_type": "stream",
     "text": [
      "23/06/13 12:19:52 WARN DAGScheduler: Broadcasting large task binary with size 6.1 MiB\n"
     ]
    },
    {
     "name": "stderr",
     "output_type": "stream",
     "text": [
      "[Stage 177:=====================================================> (49 + 1) / 50]\r"
     ]
    },
    {
     "name": "stdout",
     "output_type": "stream",
     "text": [
      "23/06/13 12:20:20 WARN DAGScheduler: Broadcasting large task binary with size 6.1 MiB\n",
      "Root Mean Squared Error (RMSE): 0.17782740017005425\n"
     ]
    },
    {
     "name": "stderr",
     "output_type": "stream",
     "text": [
      "                                                                                \r"
     ]
    }
   ],
   "source": [
    "from pyspark.ml.evaluation import RegressionEvaluator\n",
    "\n",
    "# Evaluation\n",
    "evaluator = RegressionEvaluator(labelCol=\"New_Column\", predictionCol=\"prediction\", metricName=\"rmse\")\n",
    "rmse = evaluator.evaluate(lr_predictions)\n",
    "print(\"Root Mean Squared Error (RMSE):\", rmse)"
   ]
  },
  {
   "cell_type": "code",
   "execution_count": null,
   "id": "ea1be317-5d26-44c1-b6bb-51c7bdafa286",
   "metadata": {},
   "outputs": [],
   "source": [
    "lr_model.save(\"hdfs://192.168.219.121:9000/crawling_stock_text_merge/lr_model_linear\")"
   ]
  },
  {
   "cell_type": "code",
   "execution_count": 10,
   "id": "e14e1218-0843-4251-a09f-7455fa04e43c",
   "metadata": {},
   "outputs": [
    {
     "ename": "NameError",
     "evalue": "name 'lr_predictions' is not defined",
     "output_type": "error",
     "traceback": [
      "\u001b[0;31m---------------------------------------------------------------------------\u001b[0m",
      "\u001b[0;31mNameError\u001b[0m                                 Traceback (most recent call last)",
      "Cell \u001b[0;32mIn [10], line 21\u001b[0m\n\u001b[1;32m     18\u001b[0m calculate_difference_udf \u001b[38;5;241m=\u001b[39m udf(calculate_difference, DoubleType())\n\u001b[1;32m     20\u001b[0m \u001b[38;5;66;03m# 새로운 열 추가\u001b[39;00m\n\u001b[0;32m---> 21\u001b[0m df_with_difference \u001b[38;5;241m=\u001b[39m \u001b[43mlr_predictions\u001b[49m\u001b[38;5;241m.\u001b[39mwithColumn(\u001b[38;5;124m'\u001b[39m\u001b[38;5;124mdifference\u001b[39m\u001b[38;5;124m'\u001b[39m, calculate_difference_udf(\u001b[38;5;124m'\u001b[39m\u001b[38;5;124mprobability\u001b[39m\u001b[38;5;124m'\u001b[39m))\n\u001b[1;32m     23\u001b[0m \u001b[38;5;66;03m# 결과 출력\u001b[39;00m\n\u001b[1;32m     24\u001b[0m df_with_difference\u001b[38;5;241m.\u001b[39mshow()\n",
      "\u001b[0;31mNameError\u001b[0m: name 'lr_predictions' is not defined"
     ]
    }
   ],
   "source": [
    "from pyspark.ml.linalg import Vectors\n",
    "from pyspark.sql import SparkSession\n",
    "from pyspark.sql.functions import col\n",
    "import pyspark.sql.functions as F\n",
    "from pyspark.sql.types import DoubleType\n",
    "\n",
    "\n",
    "\n",
    "\n",
    "from pyspark.sql.functions import udf, col\n",
    "from pyspark.sql.types import ArrayType, DoubleType\n",
    "\n",
    "# UDF 정의\n",
    "extract_values_udf = udf(lambda probability: probability.values.tolist(), ArrayType(DoubleType()))\n",
    "\n",
    "# values 추출하여 새로운 열 추가\n",
    "df_with_values = lr_predictions.withColumn('values', extract_values_udf(col('probability')))\n",
    "\n",
    "# 결과 확인\n",
    "df_with_values.show()\n"
   ]
  },
  {
   "cell_type": "code",
   "execution_count": null,
   "id": "e5f12830-40bc-4c96-9289-1d1a211a744a",
   "metadata": {},
   "outputs": [],
   "source": [
    "from pyspark.sql.functions import col\n",
    "\n",
    "# values 열의 데이터 차 구하기\n",
    "df_with_diff = df_with_values.withColumn('diff', col('values')[0] - col('values')[1])\n",
    "\n",
    "# values 열에 재할당\n",
    "df_with_diff = df_with_diff.withColumn('values', col('diff'))\n",
    "\n",
    "# 결과 확인\n",
    "df_with_diff.show()"
   ]
  },
  {
   "cell_type": "code",
   "execution_count": null,
   "id": "c3b01f17-d703-4563-b867-712a577e3ec4",
   "metadata": {},
   "outputs": [],
   "source": [
    "from pyspark.sql.functions import abs\n",
    "\n",
    "# values 열의 값에 절대값 적용\n",
    "df_with_abs_values = df_with_diff.withColumn('values', abs(col('values')))\n",
    "\n",
    "# 결과 확인\n",
    "df_with_abs_values.show()"
   ]
  },
  {
   "cell_type": "code",
   "execution_count": null,
   "id": "4c8ad1db-5db0-460e-9823-4763ecaa397f",
   "metadata": {},
   "outputs": [],
   "source": [
    "from pyspark.sql.functions import when\n",
    "\n",
    "updated_df = df_with_abs_values.withColumn('prediction', when((df_with_abs_values['values'] <= 0.3) | (df_with_abs_values['values'] >= 0.7), df_with_abs_values['prediction']).otherwise(2))\n",
    "\n",
    "updated_df.show()"
   ]
  },
  {
   "cell_type": "code",
   "execution_count": 44,
   "id": "e5474eec-b002-4b84-93c6-796bee0f76d0",
   "metadata": {},
   "outputs": [
    {
     "name": "stdout",
     "output_type": "stream",
     "text": [
      "23/06/04 07:00:37 WARN ExecutorPodsWatchSnapshotSource: Kubernetes client has been closed.\n"
     ]
    }
   ],
   "source": [
    "spark.stop()"
   ]
  },
  {
   "cell_type": "code",
   "execution_count": 19,
   "id": "b65749b8-948b-4a60-ab3e-4e6894d2acdf",
   "metadata": {},
   "outputs": [
    {
     "name": "stderr",
     "output_type": "stream",
     "text": [
      "[Stage 807:===================================================>   (17 + 1) / 18]\r"
     ]
    },
    {
     "name": "stdout",
     "output_type": "stream",
     "text": [
      "23/06/04 02:13:45 WARN DAGScheduler: Broadcasting large task binary with size 4.7 MiB\n"
     ]
    },
    {
     "name": "stderr",
     "output_type": "stream",
     "text": [
      "[Stage 813:===================================================>   (17 + 1) / 18]\r"
     ]
    },
    {
     "name": "stdout",
     "output_type": "stream",
     "text": [
      "23/06/04 02:13:57 WARN DAGScheduler: Broadcasting large task binary with size 4.7 MiB\n"
     ]
    },
    {
     "name": "stderr",
     "output_type": "stream",
     "text": [
      "[Stage 815:>                                                        (0 + 1) / 1]\r"
     ]
    },
    {
     "name": "stdout",
     "output_type": "stream",
     "text": [
      "+------+----------+-------------------------------------+----------+------------------------------+-----------------------------+--------------------+--------------------+--------------------+--------------------+----------+\n",
      "|  code|      date|                                title|New_Column|                        tokens|              filtered_tokens|                  tf|               tfidf|       rawPrediction|         probability|prediction|\n",
      "+------+----------+-------------------------------------+----------+------------------------------+-----------------------------+--------------------+--------------------+--------------------+--------------------+----------+\n",
      "|000020|2020-06-12|                지금 파는 개미는 뭐지|         1|  [지금, 파는, 개미, 는, 뭐...|         [지금, 파는, 뭐, 지]|(262144,[106330,1...|(262144,[106330,1...|[-0.9883275585881...|[0.27124254268010...|       1.0|\n",
      "|000020|2020-07-29|                        대박들 나시길|         1|                [대박, 나시길]|               [대박, 나시길]|(262144,[46576,22...|(262144,[46576,22...|[-0.7174707456037...|[0.32795018495289...|       1.0|\n",
      "|000020|2020-08-10|                        원에 팔고나서|         1|              [원, 팔고, 나서]|                 [팔고, 나서]|(262144,[123211,1...|(262144,[123211,1...|[-0.5088036960444...|[0.37547400894973...|       1.0|\n",
      "|000020|2021-02-04|             기술적 반등도 안나오는  |         0|   [기술, 적, 반등, 도, 안,...|     [기술, 적, 반등, 나오는]|(262144,[106195,1...|(262144,[106195,1...|[0.72892927288910...|[0.67457026492435...|       0.0|\n",
      "|000020|2021-04-16|                             배부르네|         1|                    [배부르네]|                   [배부르네]|(262144,[234575],...|(262144,[234575],...|[-30.760137919329...|[4.37564257183442...|       1.0|\n",
      "|000020|2021-04-28|              코로나치료제 상중이니까|         1|  [코로나, 치료, 상중, 이니까]| [코로나, 치료, 상중, 이니까]|(262144,[2866,357...|(262144,[2866,357...|[-0.3999215519747...|[0.40133118801451...|       1.0|\n",
      "|000020|2021-11-15|                   알바들 덜 설치는게|         0|          [알바, 덜, 설치는게]|         [알바, 덜, 설치는게]|(262144,[94317,21...|(262144,[94317,21...|[0.90464705777708...|[0.71190353747441...|       0.0|\n",
      "|000020|2022-04-13|                      메디세이 잘가네|         0|        [메디, 세이, 잘, 가네]|       [메디, 세이, 잘, 가네]|(262144,[54110,99...|(262144,[54110,99...|[0.46874188037422...|[0.61508593315401...|       0.0|\n",
      "|000020|2022-05-13|분기 실적발표좋구먼 아주 좋구먼ㅎㅎㅎ|         0| [분기, 실적, 발표, 좋구먼,...|[분기, 실적, 발표, 좋구먼,...|(262144,[1259,364...|(262144,[1259,364...|[1.66795815809734...|[0.84130340072316...|       0.0|\n",
      "|000020|2022-07-21|    일동안 연속 이지랄하구  장종료...|         1|  [연속, 지랄, 하구, 장, 종...| [연속, 지랄, 하구, 장, 종...|(262144,[7844,200...|(262144,[7844,200...|[-0.8946524096677...|[0.29015066728038...|       1.0|\n",
      "|000040|2017-07-12|                             잘될거야|         1|                  [잘, 될거야]|                 [잘, 될거야]|(262144,[165556,2...|(262144,[165556,2...|[-1.8946168561323...|[0.13071895408194...|       1.0|\n",
      "|000040|2018-04-26|                  저 믿고 시초가 몰빵|         1|          [믿고, 시초, 몰, 빵]|         [믿고, 시초, 몰, 빵]|(262144,[116409,1...|(262144,[116409,1...|[-0.7758242860428...|[0.31522054503825...|       1.0|\n",
      "|000040|2020-04-14|                    언제 튈 지 모른다|         1|              [튈, 지, 모른다]|             [튈, 지, 모른다]|(262144,[106330,2...|(262144,[106330,2...|[-1.0790989273705...|[0.25367657416287...|       1.0|\n",
      "|000040|2020-04-23|                   다른거 잘 모르겠고|         1|        [다른거, 잘, 모르겠고]|       [다른거, 잘, 모르겠고]|(262144,[31261,12...|(262144,[31261,12...|[-1.0800948403792...|[0.25348806942062...|       1.0|\n",
      "|000040|2021-06-17|                 유일한 마이너스 종목|         1|      [유일한, 마이너스, 종목]|     [유일한, 마이너스, 종목]|(262144,[71393,13...|(262144,[71393,13...|[-0.4133794043685...|[0.39810208087344...|       1.0|\n",
      "|000040|2022-02-03|  의 진짜 가치는 코라오를 보면 나온다|         0|  [진짜, 가치, 는, 코, 라오...| [진짜, 가치, 코, 라오, 보...|(262144,[14225,28...|(262144,[14225,28...|[0.02874211379337...|[0.50718503381999...|       0.0|\n",
      "|000070|2021-01-28|                       만원 이상 만주|         1|                  [만원, 만주]|                       [만주]|(262144,[111568],...|(262144,[111568],...|[-0.8522229159711...|[0.29896675817060...|       1.0|\n",
      "|000070|2021-04-27|     고점에서 첫 음봉 일선 깨짐 내...|         1|   [고, 점, 첫, 음봉, 일선,...| [점, 첫, 음봉, 일선, 깨짐...|(262144,[102248,1...|(262144,[102248,1...|[-1.6245035074463...|[0.16458471756087...|       1.0|\n",
      "|000080|2021-09-08|                    기관이랑 연기금이|         1|          [기관, 이랑, 연기금]|         [기관, 이랑, 연기금]|(262144,[138177,1...|(262144,[138177,1...|[-0.6028878421280...|[0.35368327925710...|       1.0|\n",
      "|000080|2021-09-08|               소주도 중국 전통주라고|         1|[소주, 도, 중국, 전통주, 라고]|   [소주, 중국, 전통주, 라고]|(262144,[35168,53...|(262144,[35168,53...|[-0.4372428073485...|[0.39239814881541...|       1.0|\n",
      "+------+----------+-------------------------------------+----------+------------------------------+-----------------------------+--------------------+--------------------+--------------------+--------------------+----------+\n",
      "only showing top 20 rows\n",
      "\n",
      "Filtered Rows Count: 159402\n"
     ]
    },
    {
     "name": "stderr",
     "output_type": "stream",
     "text": [
      "                                                                                \r"
     ]
    }
   ],
   "source": [
    "from pyspark.sql.functions import col\n",
    "\n",
    "# New_Column과 prediction이 같은 값을 가지는 행 필터링\n",
    "lr_filtered_data = lr_predictions.filter(col(\"New_Column\") == col(\"prediction\"))\n",
    "\n",
    "# 필터링된 행의 갯수 계산\n",
    "count = lr_filtered_data.count()\n",
    "\n",
    "# 결과 출력\n",
    "lr_filtered_data.show()\n",
    "print(\"Filtered Rows Count:\", count)\n"
   ]
  },
  {
   "cell_type": "code",
   "execution_count": 32,
   "id": "0d4db1f3-7b85-43bd-9ad3-19a267a7f92e",
   "metadata": {},
   "outputs": [
    {
     "name": "stderr",
     "output_type": "stream",
     "text": [
      "[Stage 828:===================================================>   (17 + 1) / 18]\r"
     ]
    },
    {
     "name": "stdout",
     "output_type": "stream",
     "text": [
      "23/06/04 02:27:27 WARN DAGScheduler: Broadcasting large task binary with size 4.7 MiB\n",
      "Row(title='근데 동화약품 부채표 마스크는', New_Column=0, probability=DenseVector([0.2183, 0.7817]), prediction=1.0)\n"
     ]
    },
    {
     "name": "stderr",
     "output_type": "stream",
     "text": [
      "                                                                                \r"
     ]
    }
   ],
   "source": [
    "import pyspark.sql.functions as F\n",
    "\n",
    "first_row = lr_predictions.select(\"title\",\"New_Column\",\"probability\",\"prediction\").first()\n",
    "probability_value = first_row\n",
    "print(probability_value)"
   ]
  },
  {
   "cell_type": "code",
   "execution_count": 10,
   "id": "529f3aa8-cc7b-4cea-ad06-37f548a70bf5",
   "metadata": {},
   "outputs": [
    {
     "name": "stderr",
     "output_type": "stream",
     "text": [
      "[Stage 354:===================================================>   (17 + 1) / 18]\r"
     ]
    },
    {
     "name": "stdout",
     "output_type": "stream",
     "text": [
      "23/06/04 01:34:38 WARN DAGScheduler: Broadcasting large task binary with size 4.1 MiB\n"
     ]
    },
    {
     "name": "stderr",
     "output_type": "stream",
     "text": [
      "[Stage 360:===================================================>   (17 + 1) / 18]\r"
     ]
    },
    {
     "name": "stdout",
     "output_type": "stream",
     "text": [
      "23/06/04 01:34:48 WARN DAGScheduler: Broadcasting large task binary with size 4.1 MiB\n"
     ]
    },
    {
     "name": "stderr",
     "output_type": "stream",
     "text": [
      "                                                                                \r"
     ]
    },
    {
     "name": "stdout",
     "output_type": "stream",
     "text": [
      "23/06/04 01:34:49 WARN DAGScheduler: Broadcasting large task binary with size 4.1 MiB\n"
     ]
    },
    {
     "name": "stderr",
     "output_type": "stream",
     "text": [
      "                                                                                \r"
     ]
    },
    {
     "name": "stdout",
     "output_type": "stream",
     "text": [
      "23/06/04 01:34:51 WARN DAGScheduler: Broadcasting large task binary with size 6.7 MiB\n"
     ]
    },
    {
     "name": "stderr",
     "output_type": "stream",
     "text": [
      "[Stage 366:===================================================>   (16 + 1) / 17]\r"
     ]
    },
    {
     "name": "stdout",
     "output_type": "stream",
     "text": [
      "23/06/04 01:35:06 WARN DAGScheduler: Broadcasting large task binary with size 1033.7 KiB\n"
     ]
    },
    {
     "name": "stderr",
     "output_type": "stream",
     "text": [
      "                                                                                \r"
     ]
    },
    {
     "name": "stdout",
     "output_type": "stream",
     "text": [
      "23/06/04 01:35:06 WARN DAGScheduler: Broadcasting large task binary with size 7.5 MiB\n"
     ]
    },
    {
     "name": "stderr",
     "output_type": "stream",
     "text": [
      "                                                                                \r"
     ]
    },
    {
     "name": "stdout",
     "output_type": "stream",
     "text": [
      "23/06/04 01:38:55 WARN DAGScheduler: Broadcasting large task binary with size 7.6 MiB\n"
     ]
    },
    {
     "name": "stderr",
     "output_type": "stream",
     "text": [
      "                                                                                \r"
     ]
    },
    {
     "name": "stdout",
     "output_type": "stream",
     "text": [
      "23/06/04 01:40:38 WARN DAGScheduler: Broadcasting large task binary with size 7.6 MiB\n"
     ]
    },
    {
     "name": "stderr",
     "output_type": "stream",
     "text": [
      "                                                                                \r"
     ]
    },
    {
     "name": "stdout",
     "output_type": "stream",
     "text": [
      "23/06/04 01:42:23 WARN DAGScheduler: Broadcasting large task binary with size 7.6 MiB\n"
     ]
    },
    {
     "name": "stderr",
     "output_type": "stream",
     "text": [
      "                                                                                \r"
     ]
    },
    {
     "name": "stdout",
     "output_type": "stream",
     "text": [
      "23/06/04 01:44:08 WARN DAGScheduler: Broadcasting large task binary with size 7.7 MiB\n"
     ]
    },
    {
     "name": "stderr",
     "output_type": "stream",
     "text": [
      "[Stage 385:===================================================>   (17 + 1) / 18]\r"
     ]
    },
    {
     "name": "stdout",
     "output_type": "stream",
     "text": [
      "23/06/04 01:46:23 WARN DAGScheduler: Broadcasting large task binary with size 4.2 MiB\n"
     ]
    },
    {
     "name": "stderr",
     "output_type": "stream",
     "text": [
      "[Stage 401:===================================================>   (17 + 1) / 18]\r"
     ]
    },
    {
     "name": "stdout",
     "output_type": "stream",
     "text": [
      "23/06/04 01:46:35 WARN DAGScheduler: Broadcasting large task binary with size 4.2 MiB\n"
     ]
    },
    {
     "name": "stderr",
     "output_type": "stream",
     "text": [
      "[Stage 405:===================================================>   (17 + 1) / 18]\r"
     ]
    },
    {
     "name": "stdout",
     "output_type": "stream",
     "text": [
      "23/06/04 01:46:46 WARN DAGScheduler: Broadcasting large task binary with size 4.2 MiB\n"
     ]
    },
    {
     "name": "stderr",
     "output_type": "stream",
     "text": [
      "[Stage 409:===================================================>   (17 + 1) / 18]\r"
     ]
    },
    {
     "name": "stdout",
     "output_type": "stream",
     "text": [
      "23/06/04 01:46:56 WARN DAGScheduler: Broadcasting large task binary with size 4.2 MiB\n"
     ]
    },
    {
     "name": "stderr",
     "output_type": "stream",
     "text": [
      "[Stage 413:===================================================>   (17 + 1) / 18]\r"
     ]
    },
    {
     "name": "stdout",
     "output_type": "stream",
     "text": [
      "23/06/04 01:47:09 WARN DAGScheduler: Broadcasting large task binary with size 4.2 MiB\n"
     ]
    },
    {
     "name": "stderr",
     "output_type": "stream",
     "text": [
      "[Stage 415:================================>                      (10 + 7) / 17]\r"
     ]
    },
    {
     "name": "stdout",
     "output_type": "stream",
     "text": [
      "Random Forest - AUC: 0.5201668185830378\n",
      "Random Forest - Accuracy: 0.6548109126430366\n",
      "Random Forest - Precision: 0.0\n",
      "Random Forest - Recall: 0.0\n",
      "Random Forest - F1 Score: 0.5173611280701105\n"
     ]
    },
    {
     "name": "stderr",
     "output_type": "stream",
     "text": [
      "                                                                                \r"
     ]
    }
   ],
   "source": [
    "from pyspark.ml.classification import RandomForestClassifier\n",
    "from pyspark.ml.evaluation import BinaryClassificationEvaluator, MulticlassClassificationEvaluator\n",
    "\n",
    "# Split the data into training and testing sets\n",
    "train_data, test_data = transformed_data.randomSplit([0.7, 0.3], seed=42)\n",
    "\n",
    "# Random Forest\n",
    "rf = RandomForestClassifier(labelCol=\"New_Column\", featuresCol=\"tfidf\")\n",
    "rf_model = rf.fit(train_data)\n",
    "rf_predictions = rf_model.transform(test_data)\n",
    "\n",
    "# Evaluation\n",
    "binary_evaluator = BinaryClassificationEvaluator(labelCol=\"New_Column\")\n",
    "auc_rf = binary_evaluator.evaluate(rf_predictions)\n",
    "\n",
    "multi_evaluator = MulticlassClassificationEvaluator(labelCol=\"New_Column\")\n",
    "accuracy_rf = multi_evaluator.evaluate(rf_predictions, {multi_evaluator.metricName: \"accuracy\"})\n",
    "precision_rf = multi_evaluator.evaluate(rf_predictions, {multi_evaluator.metricName: \"precisionByLabel\"})\n",
    "recall_rf = multi_evaluator.evaluate(rf_predictions, {multi_evaluator.metricName: \"recallByLabel\"})\n",
    "f1_score_rf = multi_evaluator.evaluate(rf_predictions, {multi_evaluator.metricName: \"f1\"})\n",
    "\n",
    "# Print the results\n",
    "print(\"Random Forest - AUC:\", auc_rf)\n",
    "print(\"Random Forest - Accuracy:\", accuracy_rf)\n",
    "print(\"Random Forest - Precision:\", precision_rf)\n",
    "print(\"Random Forest - Recall:\", recall_rf)\n",
    "print(\"Random Forest - F1 Score:\", f1_score_rf)"
   ]
  },
  {
   "cell_type": "code",
   "execution_count": 22,
   "id": "b814c677-1d6a-41d3-8028-d8e02e2d647d",
   "metadata": {},
   "outputs": [
    {
     "name": "stderr",
     "output_type": "stream",
     "text": [
      "[Stage 1166:===================================================>  (17 + 1) / 18]\r"
     ]
    },
    {
     "name": "stdout",
     "output_type": "stream",
     "text": [
      "23/06/04 00:50:47 WARN DAGScheduler: Broadcasting large task binary with size 4.1 MiB\n"
     ]
    },
    {
     "name": "stderr",
     "output_type": "stream",
     "text": [
      "[Stage 1172:===================================================>  (17 + 1) / 18]\r"
     ]
    },
    {
     "name": "stdout",
     "output_type": "stream",
     "text": [
      "23/06/04 00:50:57 WARN DAGScheduler: Broadcasting large task binary with size 4.1 MiB\n"
     ]
    },
    {
     "name": "stderr",
     "output_type": "stream",
     "text": [
      "                                                                                \r"
     ]
    },
    {
     "name": "stdout",
     "output_type": "stream",
     "text": [
      "23/06/04 00:50:58 WARN DAGScheduler: Broadcasting large task binary with size 4.1 MiB\n"
     ]
    },
    {
     "name": "stderr",
     "output_type": "stream",
     "text": [
      "                                                                                \r"
     ]
    },
    {
     "name": "stdout",
     "output_type": "stream",
     "text": [
      "23/06/04 00:50:59 WARN DAGScheduler: Broadcasting large task binary with size 6.7 MiB\n"
     ]
    },
    {
     "name": "stderr",
     "output_type": "stream",
     "text": [
      "[Stage 1178:===================================================>  (17 + 1) / 18]\r"
     ]
    },
    {
     "name": "stdout",
     "output_type": "stream",
     "text": [
      "23/06/04 00:51:13 WARN DAGScheduler: Broadcasting large task binary with size 1033.7 KiB\n"
     ]
    },
    {
     "name": "stderr",
     "output_type": "stream",
     "text": [
      "                                                                                \r"
     ]
    },
    {
     "name": "stdout",
     "output_type": "stream",
     "text": [
      "23/06/04 00:51:14 WARN DAGScheduler: Broadcasting large task binary with size 7.5 MiB\n"
     ]
    },
    {
     "name": "stderr",
     "output_type": "stream",
     "text": [
      "                                                                                \r"
     ]
    },
    {
     "name": "stdout",
     "output_type": "stream",
     "text": [
      "23/06/04 00:52:02 WARN DAGScheduler: Broadcasting large task binary with size 7.5 MiB\n"
     ]
    },
    {
     "name": "stderr",
     "output_type": "stream",
     "text": [
      "                                                                                \r"
     ]
    },
    {
     "name": "stdout",
     "output_type": "stream",
     "text": [
      "23/06/04 00:52:25 WARN DAGScheduler: Broadcasting large task binary with size 7.5 MiB\n"
     ]
    },
    {
     "name": "stderr",
     "output_type": "stream",
     "text": [
      "                                                                                \r"
     ]
    },
    {
     "name": "stdout",
     "output_type": "stream",
     "text": [
      "23/06/04 00:52:49 WARN DAGScheduler: Broadcasting large task binary with size 7.5 MiB\n"
     ]
    },
    {
     "name": "stderr",
     "output_type": "stream",
     "text": [
      "                                                                                \r"
     ]
    },
    {
     "name": "stdout",
     "output_type": "stream",
     "text": [
      "23/06/04 00:53:12 WARN DAGScheduler: Broadcasting large task binary with size 7.5 MiB\n"
     ]
    },
    {
     "name": "stderr",
     "output_type": "stream",
     "text": [
      "[Stage 1195:===================================================>  (17 + 1) / 18]\r"
     ]
    },
    {
     "name": "stdout",
     "output_type": "stream",
     "text": [
      "23/06/04 00:53:44 WARN DAGScheduler: Broadcasting large task binary with size 4.1 MiB\n"
     ]
    },
    {
     "name": "stderr",
     "output_type": "stream",
     "text": [
      "[Stage 1211:===================================================>  (17 + 1) / 18]\r"
     ]
    },
    {
     "name": "stdout",
     "output_type": "stream",
     "text": [
      "23/06/04 00:53:54 WARN DAGScheduler: Broadcasting large task binary with size 4.1 MiB\n"
     ]
    },
    {
     "name": "stderr",
     "output_type": "stream",
     "text": [
      "[Stage 1215:===================================================>  (17 + 1) / 18]\r"
     ]
    },
    {
     "name": "stdout",
     "output_type": "stream",
     "text": [
      "23/06/04 00:54:05 WARN DAGScheduler: Broadcasting large task binary with size 4.1 MiB\n"
     ]
    },
    {
     "name": "stderr",
     "output_type": "stream",
     "text": [
      "[Stage 1219:===================================================>  (17 + 1) / 18]\r"
     ]
    },
    {
     "name": "stdout",
     "output_type": "stream",
     "text": [
      "23/06/04 00:54:12 WARN DAGScheduler: Broadcasting large task binary with size 4.1 MiB\n"
     ]
    },
    {
     "name": "stderr",
     "output_type": "stream",
     "text": [
      "[Stage 1223:===================================================>  (17 + 1) / 18]\r"
     ]
    },
    {
     "name": "stdout",
     "output_type": "stream",
     "text": [
      "23/06/04 00:54:22 WARN DAGScheduler: Broadcasting large task binary with size 4.1 MiB\n",
      "Decision Tree - AUC: 0.5017252840414712\n",
      "Decision Tree - Accuracy: 0.5057991418610888\n",
      "Decision Tree - Precision: 0.7615571776155717\n",
      "Decision Tree - Recall: 0.020928055629847554\n",
      "Decision Tree - F1 Score: 0.3532147270868981\n"
     ]
    },
    {
     "name": "stderr",
     "output_type": "stream",
     "text": [
      "                                                                                \r"
     ]
    }
   ],
   "source": [
    "from pyspark.ml.classification import DecisionTreeClassifier\n",
    "from pyspark.ml.evaluation import BinaryClassificationEvaluator, MulticlassClassificationEvaluator\n",
    "\n",
    "# Split the data into training and testing sets\n",
    "train_data, test_data = transformed_data.randomSplit([0.7, 0.3], seed=42)\n",
    "\n",
    "# Decision Tree\n",
    "dt = DecisionTreeClassifier(labelCol=\"New_Column\", featuresCol=\"tfidf\")\n",
    "dt_model = dt.fit(train_data)\n",
    "dt_predictions = dt_model.transform(test_data)\n",
    "\n",
    "# Evaluation\n",
    "binary_evaluator = BinaryClassificationEvaluator(labelCol=\"New_Column\")\n",
    "auc_dt = binary_evaluator.evaluate(dt_predictions)\n",
    "\n",
    "multi_evaluator = MulticlassClassificationEvaluator(labelCol=\"New_Column\")\n",
    "accuracy_dt = multi_evaluator.evaluate(dt_predictions, {multi_evaluator.metricName: \"accuracy\"})\n",
    "precision_dt = multi_evaluator.evaluate(dt_predictions, {multi_evaluator.metricName: \"precisionByLabel\"})\n",
    "recall_dt = multi_evaluator.evaluate(dt_predictions, {multi_evaluator.metricName: \"recallByLabel\"})\n",
    "f1_score_dt = multi_evaluator.evaluate(dt_predictions, {multi_evaluator.metricName: \"f1\"})\n",
    "\n",
    "# Print the results\n",
    "print(\"Decision Tree - AUC:\", auc_dt)\n",
    "print(\"Decision Tree - Accuracy:\", accuracy_dt)\n",
    "print(\"Decision Tree - Precision:\", precision_dt)\n",
    "print(\"Decision Tree - Recall:\", recall_dt)\n",
    "print(\"Decision Tree - F1 Score:\", f1_score_dt)\n"
   ]
  },
  {
   "cell_type": "code",
   "execution_count": 20,
   "id": "ff85745f-756d-43dc-9351-1965ff0e7d90",
   "metadata": {},
   "outputs": [
    {
     "name": "stderr",
     "output_type": "stream",
     "text": [
      "[Stage 476:===================================================>   (17 + 1) / 18]\r"
     ]
    },
    {
     "name": "stdout",
     "output_type": "stream",
     "text": [
      "23/06/04 00:45:37 WARN DAGScheduler: Broadcasting large task binary with size 4.1 MiB\n"
     ]
    },
    {
     "name": "stderr",
     "output_type": "stream",
     "text": [
      "[Stage 478:==========================================>            (14 + 4) / 18]\r"
     ]
    },
    {
     "name": "stdout",
     "output_type": "stream",
     "text": [
      "23/06/04 00:45:37 WARN DAGScheduler: Broadcasting large task binary with size 4.1 MiB\n"
     ]
    },
    {
     "name": "stderr",
     "output_type": "stream",
     "text": [
      "                                                                                \r"
     ]
    },
    {
     "name": "stdout",
     "output_type": "stream",
     "text": [
      "23/06/04 00:45:38 WARN DAGScheduler: Broadcasting large task binary with size 4.1 MiB\n"
     ]
    },
    {
     "name": "stderr",
     "output_type": "stream",
     "text": [
      "[Stage 481:================================================>      (16 + 2) / 18]\r"
     ]
    },
    {
     "name": "stdout",
     "output_type": "stream",
     "text": [
      "23/06/04 00:45:39 WARN DAGScheduler: Broadcasting large task binary with size 4.1 MiB\n"
     ]
    },
    {
     "name": "stderr",
     "output_type": "stream",
     "text": [
      "                                                                                \r"
     ]
    },
    {
     "name": "stdout",
     "output_type": "stream",
     "text": [
      "23/06/04 00:45:39 WARN DAGScheduler: Broadcasting large task binary with size 4.1 MiB\n",
      "23/06/04 00:45:39 WARN DAGScheduler: Broadcasting large task binary with size 4.1 MiB\n",
      "23/06/04 00:45:39 WARN DAGScheduler: Broadcasting large task binary with size 4.1 MiB\n",
      "23/06/04 00:45:40 WARN DAGScheduler: Broadcasting large task binary with size 4.1 MiB\n",
      "23/06/04 00:45:40 WARN DAGScheduler: Broadcasting large task binary with size 4.1 MiB\n",
      "23/06/04 00:45:40 WARN DAGScheduler: Broadcasting large task binary with size 4.1 MiB\n",
      "23/06/04 00:45:40 WARN DAGScheduler: Broadcasting large task binary with size 4.1 MiB\n",
      "23/06/04 00:45:40 WARN DAGScheduler: Broadcasting large task binary with size 4.1 MiB\n",
      "23/06/04 00:45:40 WARN DAGScheduler: Broadcasting large task binary with size 4.1 MiB\n",
      "23/06/04 00:45:41 WARN DAGScheduler: Broadcasting large task binary with size 4.1 MiB\n",
      "23/06/04 00:45:41 WARN DAGScheduler: Broadcasting large task binary with size 4.1 MiB\n",
      "23/06/04 00:45:41 WARN DAGScheduler: Broadcasting large task binary with size 4.1 MiB\n",
      "23/06/04 00:45:41 WARN DAGScheduler: Broadcasting large task binary with size 4.1 MiB\n",
      "23/06/04 00:45:41 WARN DAGScheduler: Broadcasting large task binary with size 4.1 MiB\n",
      "23/06/04 00:45:42 WARN DAGScheduler: Broadcasting large task binary with size 4.1 MiB\n",
      "23/06/04 00:45:42 WARN DAGScheduler: Broadcasting large task binary with size 4.1 MiB\n",
      "23/06/04 00:45:42 WARN DAGScheduler: Broadcasting large task binary with size 4.1 MiB\n",
      "23/06/04 00:45:42 WARN DAGScheduler: Broadcasting large task binary with size 4.1 MiB\n",
      "23/06/04 00:45:42 WARN DAGScheduler: Broadcasting large task binary with size 4.1 MiB\n",
      "23/06/04 00:45:42 WARN DAGScheduler: Broadcasting large task binary with size 4.1 MiB\n",
      "23/06/04 00:45:43 WARN DAGScheduler: Broadcasting large task binary with size 4.1 MiB\n",
      "23/06/04 00:45:43 WARN DAGScheduler: Broadcasting large task binary with size 4.1 MiB\n",
      "23/06/04 00:45:43 WARN DAGScheduler: Broadcasting large task binary with size 4.1 MiB\n",
      "23/06/04 00:45:43 WARN DAGScheduler: Broadcasting large task binary with size 4.1 MiB\n",
      "23/06/04 00:45:43 WARN DAGScheduler: Broadcasting large task binary with size 4.1 MiB\n",
      "23/06/04 00:45:43 WARN DAGScheduler: Broadcasting large task binary with size 4.1 MiB\n",
      "23/06/04 00:45:43 WARN DAGScheduler: Broadcasting large task binary with size 4.1 MiB\n",
      "23/06/04 00:45:44 WARN DAGScheduler: Broadcasting large task binary with size 4.1 MiB\n",
      "23/06/04 00:45:44 WARN DAGScheduler: Broadcasting large task binary with size 4.1 MiB\n",
      "23/06/04 00:45:44 WARN DAGScheduler: Broadcasting large task binary with size 4.1 MiB\n",
      "23/06/04 00:45:44 WARN DAGScheduler: Broadcasting large task binary with size 4.1 MiB\n",
      "23/06/04 00:45:44 WARN DAGScheduler: Broadcasting large task binary with size 4.1 MiB\n",
      "23/06/04 00:45:45 WARN DAGScheduler: Broadcasting large task binary with size 4.1 MiB\n",
      "23/06/04 00:45:45 WARN DAGScheduler: Broadcasting large task binary with size 4.1 MiB\n",
      "23/06/04 00:45:45 WARN DAGScheduler: Broadcasting large task binary with size 4.1 MiB\n",
      "23/06/04 00:45:45 WARN DAGScheduler: Broadcasting large task binary with size 4.1 MiB\n",
      "23/06/04 00:45:45 WARN DAGScheduler: Broadcasting large task binary with size 4.1 MiB\n",
      "23/06/04 00:45:45 WARN DAGScheduler: Broadcasting large task binary with size 4.1 MiB\n",
      "23/06/04 00:45:45 WARN DAGScheduler: Broadcasting large task binary with size 4.1 MiB\n",
      "23/06/04 00:45:46 WARN DAGScheduler: Broadcasting large task binary with size 4.1 MiB\n",
      "23/06/04 00:45:46 WARN DAGScheduler: Broadcasting large task binary with size 4.1 MiB\n",
      "23/06/04 00:45:46 WARN DAGScheduler: Broadcasting large task binary with size 4.1 MiB\n",
      "23/06/04 00:45:46 WARN DAGScheduler: Broadcasting large task binary with size 4.1 MiB\n",
      "23/06/04 00:45:46 WARN DAGScheduler: Broadcasting large task binary with size 4.1 MiB\n",
      "23/06/04 00:45:47 WARN DAGScheduler: Broadcasting large task binary with size 4.1 MiB\n",
      "23/06/04 00:45:47 WARN DAGScheduler: Broadcasting large task binary with size 4.1 MiB\n",
      "23/06/04 00:45:47 WARN DAGScheduler: Broadcasting large task binary with size 4.1 MiB\n",
      "23/06/04 00:45:47 WARN DAGScheduler: Broadcasting large task binary with size 4.1 MiB\n",
      "23/06/04 00:45:47 WARN DAGScheduler: Broadcasting large task binary with size 4.1 MiB\n",
      "23/06/04 00:45:47 WARN DAGScheduler: Broadcasting large task binary with size 4.1 MiB\n",
      "23/06/04 00:45:48 WARN DAGScheduler: Broadcasting large task binary with size 4.1 MiB\n",
      "23/06/04 00:45:48 WARN DAGScheduler: Broadcasting large task binary with size 4.1 MiB\n",
      "23/06/04 00:45:48 WARN DAGScheduler: Broadcasting large task binary with size 4.1 MiB\n",
      "23/06/04 00:45:48 WARN DAGScheduler: Broadcasting large task binary with size 4.1 MiB\n",
      "23/06/04 00:45:48 WARN DAGScheduler: Broadcasting large task binary with size 4.1 MiB\n",
      "23/06/04 00:45:48 WARN DAGScheduler: Broadcasting large task binary with size 4.1 MiB\n",
      "23/06/04 00:45:49 WARN DAGScheduler: Broadcasting large task binary with size 4.1 MiB\n",
      "23/06/04 00:45:49 WARN DAGScheduler: Broadcasting large task binary with size 4.1 MiB\n",
      "23/06/04 00:45:49 WARN DAGScheduler: Broadcasting large task binary with size 4.1 MiB\n",
      "23/06/04 00:45:49 WARN DAGScheduler: Broadcasting large task binary with size 4.1 MiB\n",
      "23/06/04 00:45:49 WARN DAGScheduler: Broadcasting large task binary with size 4.1 MiB\n",
      "23/06/04 00:45:49 WARN DAGScheduler: Broadcasting large task binary with size 4.1 MiB\n",
      "23/06/04 00:45:50 WARN DAGScheduler: Broadcasting large task binary with size 4.1 MiB\n"
     ]
    },
    {
     "name": "stderr",
     "output_type": "stream",
     "text": [
      "[Stage 577:================================================>      (16 + 2) / 18]\r"
     ]
    },
    {
     "name": "stdout",
     "output_type": "stream",
     "text": [
      "23/06/04 00:45:50 WARN DAGScheduler: Broadcasting large task binary with size 4.1 MiB\n"
     ]
    },
    {
     "name": "stderr",
     "output_type": "stream",
     "text": [
      "                                                                                \r"
     ]
    },
    {
     "name": "stdout",
     "output_type": "stream",
     "text": [
      "23/06/04 00:45:50 WARN DAGScheduler: Broadcasting large task binary with size 4.1 MiB\n",
      "23/06/04 00:45:51 WARN DAGScheduler: Broadcasting large task binary with size 4.1 MiB\n",
      "23/06/04 00:45:51 WARN DAGScheduler: Broadcasting large task binary with size 4.1 MiB\n",
      "23/06/04 00:45:51 WARN DAGScheduler: Broadcasting large task binary with size 4.1 MiB\n",
      "23/06/04 00:45:51 WARN DAGScheduler: Broadcasting large task binary with size 4.1 MiB\n",
      "23/06/04 00:45:51 WARN DAGScheduler: Broadcasting large task binary with size 4.1 MiB\n",
      "23/06/04 00:45:51 WARN DAGScheduler: Broadcasting large task binary with size 4.1 MiB\n"
     ]
    },
    {
     "name": "stderr",
     "output_type": "stream",
     "text": [
      "[Stage 589:================================================>      (16 + 2) / 18]\r"
     ]
    },
    {
     "name": "stdout",
     "output_type": "stream",
     "text": [
      "23/06/04 00:45:52 WARN DAGScheduler: Broadcasting large task binary with size 4.1 MiB\n"
     ]
    },
    {
     "name": "stderr",
     "output_type": "stream",
     "text": [
      "                                                                                \r"
     ]
    },
    {
     "name": "stdout",
     "output_type": "stream",
     "text": [
      "23/06/04 00:45:52 WARN DAGScheduler: Broadcasting large task binary with size 4.1 MiB\n",
      "23/06/04 00:45:52 WARN DAGScheduler: Broadcasting large task binary with size 4.1 MiB\n",
      "23/06/04 00:45:53 WARN DAGScheduler: Broadcasting large task binary with size 4.1 MiB\n",
      "23/06/04 00:45:53 WARN DAGScheduler: Broadcasting large task binary with size 4.1 MiB\n",
      "23/06/04 00:45:53 WARN DAGScheduler: Broadcasting large task binary with size 4.1 MiB\n",
      "23/06/04 00:45:53 WARN DAGScheduler: Broadcasting large task binary with size 4.1 MiB\n",
      "23/06/04 00:45:53 WARN DAGScheduler: Broadcasting large task binary with size 4.1 MiB\n",
      "23/06/04 00:45:53 WARN DAGScheduler: Broadcasting large task binary with size 4.1 MiB\n",
      "23/06/04 00:45:54 WARN DAGScheduler: Broadcasting large task binary with size 4.1 MiB\n",
      "23/06/04 00:45:54 WARN DAGScheduler: Broadcasting large task binary with size 4.1 MiB\n",
      "23/06/04 00:45:54 WARN DAGScheduler: Broadcasting large task binary with size 4.1 MiB\n",
      "23/06/04 00:45:54 WARN DAGScheduler: Broadcasting large task binary with size 4.1 MiB\n",
      "23/06/04 00:45:54 WARN DAGScheduler: Broadcasting large task binary with size 4.1 MiB\n",
      "23/06/04 00:45:54 WARN DAGScheduler: Broadcasting large task binary with size 4.1 MiB\n",
      "23/06/04 00:45:55 WARN DAGScheduler: Broadcasting large task binary with size 4.1 MiB\n",
      "23/06/04 00:45:55 WARN DAGScheduler: Broadcasting large task binary with size 4.1 MiB\n",
      "23/06/04 00:45:55 WARN DAGScheduler: Broadcasting large task binary with size 4.1 MiB\n",
      "23/06/04 00:45:55 WARN DAGScheduler: Broadcasting large task binary with size 4.1 MiB\n",
      "23/06/04 00:45:55 WARN DAGScheduler: Broadcasting large task binary with size 4.1 MiB\n",
      "23/06/04 00:45:55 WARN DAGScheduler: Broadcasting large task binary with size 4.1 MiB\n",
      "23/06/04 00:45:55 WARN DAGScheduler: Broadcasting large task binary with size 4.1 MiB\n",
      "23/06/04 00:45:56 WARN DAGScheduler: Broadcasting large task binary with size 4.1 MiB\n",
      "23/06/04 00:45:56 WARN DAGScheduler: Broadcasting large task binary with size 4.1 MiB\n",
      "23/06/04 00:45:56 WARN DAGScheduler: Broadcasting large task binary with size 4.1 MiB\n",
      "23/06/04 00:45:56 WARN DAGScheduler: Broadcasting large task binary with size 4.1 MiB\n",
      "23/06/04 00:45:56 WARN DAGScheduler: Broadcasting large task binary with size 4.1 MiB\n",
      "23/06/04 00:45:56 WARN DAGScheduler: Broadcasting large task binary with size 4.1 MiB\n",
      "23/06/04 00:45:56 WARN DAGScheduler: Broadcasting large task binary with size 4.1 MiB\n",
      "23/06/04 00:45:57 WARN DAGScheduler: Broadcasting large task binary with size 4.1 MiB\n",
      "23/06/04 00:45:57 WARN DAGScheduler: Broadcasting large task binary with size 4.1 MiB\n",
      "23/06/04 00:45:57 WARN DAGScheduler: Broadcasting large task binary with size 4.1 MiB\n",
      "23/06/04 00:45:57 WARN DAGScheduler: Broadcasting large task binary with size 4.1 MiB\n",
      "23/06/04 00:45:57 WARN DAGScheduler: Broadcasting large task binary with size 4.1 MiB\n",
      "23/06/04 00:45:57 WARN DAGScheduler: Broadcasting large task binary with size 4.1 MiB\n",
      "23/06/04 00:45:58 WARN DAGScheduler: Broadcasting large task binary with size 4.1 MiB\n"
     ]
    },
    {
     "name": "stderr",
     "output_type": "stream",
     "text": [
      "[Stage 643:===================================================>   (17 + 1) / 18]\r"
     ]
    },
    {
     "name": "stdout",
     "output_type": "stream",
     "text": [
      "23/06/04 00:45:59 WARN DAGScheduler: Broadcasting large task binary with size 4.1 MiB\n",
      "23/06/04 00:45:59 WARN DAGScheduler: Broadcasting large task binary with size 4.1 MiB\n"
     ]
    },
    {
     "name": "stderr",
     "output_type": "stream",
     "text": [
      "                                                                                \r"
     ]
    },
    {
     "name": "stdout",
     "output_type": "stream",
     "text": [
      "23/06/04 00:45:59 WARN DAGScheduler: Broadcasting large task binary with size 4.1 MiB\n",
      "23/06/04 00:45:59 WARN DAGScheduler: Broadcasting large task binary with size 4.1 MiB\n",
      "23/06/04 00:45:59 WARN DAGScheduler: Broadcasting large task binary with size 4.1 MiB\n",
      "23/06/04 00:46:00 WARN DAGScheduler: Broadcasting large task binary with size 4.1 MiB\n",
      "23/06/04 00:46:00 WARN DAGScheduler: Broadcasting large task binary with size 4.1 MiB\n",
      "23/06/04 00:46:00 WARN DAGScheduler: Broadcasting large task binary with size 4.1 MiB\n",
      "23/06/04 00:46:00 WARN DAGScheduler: Broadcasting large task binary with size 4.1 MiB\n",
      "23/06/04 00:46:00 WARN DAGScheduler: Broadcasting large task binary with size 4.1 MiB\n",
      "23/06/04 00:46:00 WARN DAGScheduler: Broadcasting large task binary with size 4.1 MiB\n",
      "23/06/04 00:46:01 WARN DAGScheduler: Broadcasting large task binary with size 4.1 MiB\n",
      "23/06/04 00:46:01 WARN DAGScheduler: Broadcasting large task binary with size 4.1 MiB\n",
      "23/06/04 00:46:01 WARN DAGScheduler: Broadcasting large task binary with size 4.1 MiB\n",
      "23/06/04 00:46:01 WARN DAGScheduler: Broadcasting large task binary with size 4.1 MiB\n",
      "23/06/04 00:46:01 WARN DAGScheduler: Broadcasting large task binary with size 4.1 MiB\n",
      "23/06/04 00:46:02 WARN DAGScheduler: Broadcasting large task binary with size 4.1 MiB\n",
      "23/06/04 00:46:02 WARN DAGScheduler: Broadcasting large task binary with size 4.1 MiB\n",
      "23/06/04 00:46:02 WARN DAGScheduler: Broadcasting large task binary with size 4.1 MiB\n",
      "23/06/04 00:46:02 WARN DAGScheduler: Broadcasting large task binary with size 4.1 MiB\n",
      "23/06/04 00:46:03 WARN DAGScheduler: Broadcasting large task binary with size 4.1 MiB\n",
      "23/06/04 00:46:03 WARN DAGScheduler: Broadcasting large task binary with size 4.1 MiB\n",
      "23/06/04 00:46:03 WARN DAGScheduler: Broadcasting large task binary with size 4.1 MiB\n",
      "23/06/04 00:46:03 WARN DAGScheduler: Broadcasting large task binary with size 4.1 MiB\n",
      "23/06/04 00:46:03 WARN DAGScheduler: Broadcasting large task binary with size 4.1 MiB\n",
      "23/06/04 00:46:03 WARN DAGScheduler: Broadcasting large task binary with size 4.1 MiB\n",
      "23/06/04 00:46:03 WARN DAGScheduler: Broadcasting large task binary with size 4.1 MiB\n",
      "23/06/04 00:46:04 WARN DAGScheduler: Broadcasting large task binary with size 4.1 MiB\n",
      "23/06/04 00:46:04 WARN DAGScheduler: Broadcasting large task binary with size 4.1 MiB\n",
      "23/06/04 00:46:04 WARN DAGScheduler: Broadcasting large task binary with size 4.1 MiB\n",
      "23/06/04 00:46:04 WARN DAGScheduler: Broadcasting large task binary with size 4.1 MiB\n",
      "23/06/04 00:46:04 WARN DAGScheduler: Broadcasting large task binary with size 4.1 MiB\n",
      "23/06/04 00:46:04 WARN DAGScheduler: Broadcasting large task binary with size 4.1 MiB\n",
      "23/06/04 00:46:04 WARN DAGScheduler: Broadcasting large task binary with size 4.1 MiB\n",
      "23/06/04 00:46:04 WARN DAGScheduler: Broadcasting large task binary with size 4.1 MiB\n",
      "23/06/04 00:46:05 WARN DAGScheduler: Broadcasting large task binary with size 4.1 MiB\n",
      "23/06/04 00:46:05 WARN DAGScheduler: Broadcasting large task binary with size 4.1 MiB\n",
      "23/06/04 00:46:05 WARN DAGScheduler: Broadcasting large task binary with size 4.1 MiB\n",
      "23/06/04 00:46:05 WARN DAGScheduler: Broadcasting large task binary with size 4.1 MiB\n",
      "23/06/04 00:46:05 WARN DAGScheduler: Broadcasting large task binary with size 4.1 MiB\n",
      "23/06/04 00:46:05 WARN DAGScheduler: Broadcasting large task binary with size 4.1 MiB\n",
      "23/06/04 00:46:05 WARN DAGScheduler: Broadcasting large task binary with size 4.1 MiB\n",
      "23/06/04 00:46:06 WARN DAGScheduler: Broadcasting large task binary with size 4.1 MiB\n",
      "23/06/04 00:46:06 WARN DAGScheduler: Broadcasting large task binary with size 4.1 MiB\n",
      "23/06/04 00:46:06 WARN DAGScheduler: Broadcasting large task binary with size 4.1 MiB\n",
      "23/06/04 00:46:06 WARN DAGScheduler: Broadcasting large task binary with size 4.1 MiB\n",
      "23/06/04 00:46:06 WARN DAGScheduler: Broadcasting large task binary with size 4.1 MiB\n",
      "23/06/04 00:46:06 WARN DAGScheduler: Broadcasting large task binary with size 4.1 MiB\n",
      "23/06/04 00:46:06 WARN DAGScheduler: Broadcasting large task binary with size 4.1 MiB\n",
      "23/06/04 00:46:07 WARN DAGScheduler: Broadcasting large task binary with size 4.1 MiB\n",
      "23/06/04 00:46:07 WARN DAGScheduler: Broadcasting large task binary with size 4.1 MiB\n",
      "23/06/04 00:46:07 WARN DAGScheduler: Broadcasting large task binary with size 4.1 MiB\n",
      "23/06/04 00:46:07 WARN DAGScheduler: Broadcasting large task binary with size 4.1 MiB\n",
      "23/06/04 00:46:07 WARN DAGScheduler: Broadcasting large task binary with size 4.1 MiB\n",
      "23/06/04 00:46:07 WARN DAGScheduler: Broadcasting large task binary with size 4.1 MiB\n",
      "23/06/04 00:46:08 WARN DAGScheduler: Broadcasting large task binary with size 4.1 MiB\n",
      "23/06/04 00:46:08 WARN DAGScheduler: Broadcasting large task binary with size 4.1 MiB\n",
      "23/06/04 00:46:08 WARN DAGScheduler: Broadcasting large task binary with size 4.1 MiB\n",
      "23/06/04 00:46:08 WARN DAGScheduler: Broadcasting large task binary with size 4.1 MiB\n",
      "23/06/04 00:46:08 WARN DAGScheduler: Broadcasting large task binary with size 4.1 MiB\n",
      "23/06/04 00:46:08 WARN DAGScheduler: Broadcasting large task binary with size 4.1 MiB\n",
      "23/06/04 00:46:09 WARN DAGScheduler: Broadcasting large task binary with size 4.1 MiB\n",
      "23/06/04 00:46:09 WARN DAGScheduler: Broadcasting large task binary with size 4.1 MiB\n",
      "23/06/04 00:46:09 WARN DAGScheduler: Broadcasting large task binary with size 4.1 MiB\n",
      "23/06/04 00:46:09 WARN DAGScheduler: Broadcasting large task binary with size 4.1 MiB\n",
      "23/06/04 00:46:09 WARN DAGScheduler: Broadcasting large task binary with size 4.1 MiB\n",
      "23/06/04 00:46:09 WARN DAGScheduler: Broadcasting large task binary with size 4.1 MiB\n",
      "23/06/04 00:46:10 WARN DAGScheduler: Broadcasting large task binary with size 4.1 MiB\n",
      "23/06/04 00:46:10 WARN DAGScheduler: Broadcasting large task binary with size 4.1 MiB\n",
      "23/06/04 00:46:10 WARN DAGScheduler: Broadcasting large task binary with size 4.1 MiB\n",
      "23/06/04 00:46:10 WARN DAGScheduler: Broadcasting large task binary with size 4.1 MiB\n",
      "23/06/04 00:46:10 WARN DAGScheduler: Broadcasting large task binary with size 4.1 MiB\n",
      "23/06/04 00:46:11 WARN DAGScheduler: Broadcasting large task binary with size 4.1 MiB\n",
      "23/06/04 00:46:11 WARN DAGScheduler: Broadcasting large task binary with size 4.1 MiB\n",
      "23/06/04 00:46:11 WARN DAGScheduler: Broadcasting large task binary with size 4.1 MiB\n",
      "23/06/04 00:46:12 WARN DAGScheduler: Broadcasting large task binary with size 4.1 MiB\n",
      "23/06/04 00:46:12 WARN DAGScheduler: Broadcasting large task binary with size 4.1 MiB\n",
      "23/06/04 00:46:12 WARN DAGScheduler: Broadcasting large task binary with size 4.1 MiB\n",
      "23/06/04 00:46:12 WARN DAGScheduler: Broadcasting large task binary with size 4.1 MiB\n",
      "23/06/04 00:46:12 WARN DAGScheduler: Broadcasting large task binary with size 4.1 MiB\n",
      "23/06/04 00:46:12 WARN DAGScheduler: Broadcasting large task binary with size 4.1 MiB\n",
      "23/06/04 00:46:12 WARN DAGScheduler: Broadcasting large task binary with size 4.1 MiB\n",
      "23/06/04 00:46:13 WARN DAGScheduler: Broadcasting large task binary with size 4.1 MiB\n",
      "23/06/04 00:46:13 WARN DAGScheduler: Broadcasting large task binary with size 4.1 MiB\n",
      "23/06/04 00:46:13 WARN DAGScheduler: Broadcasting large task binary with size 4.1 MiB\n",
      "23/06/04 00:46:13 WARN DAGScheduler: Broadcasting large task binary with size 4.1 MiB\n",
      "23/06/04 00:46:13 WARN DAGScheduler: Broadcasting large task binary with size 4.1 MiB\n",
      "23/06/04 00:46:14 WARN DAGScheduler: Broadcasting large task binary with size 4.1 MiB\n",
      "23/06/04 00:46:14 WARN DAGScheduler: Broadcasting large task binary with size 4.1 MiB\n",
      "23/06/04 00:46:14 WARN DAGScheduler: Broadcasting large task binary with size 4.1 MiB\n",
      "23/06/04 00:46:14 WARN DAGScheduler: Broadcasting large task binary with size 4.1 MiB\n",
      "23/06/04 00:46:14 WARN DAGScheduler: Broadcasting large task binary with size 4.1 MiB\n",
      "23/06/04 00:46:14 WARN DAGScheduler: Broadcasting large task binary with size 4.1 MiB\n",
      "23/06/04 00:46:14 WARN DAGScheduler: Broadcasting large task binary with size 4.1 MiB\n",
      "23/06/04 00:46:15 WARN DAGScheduler: Broadcasting large task binary with size 4.1 MiB\n",
      "23/06/04 00:46:15 WARN DAGScheduler: Broadcasting large task binary with size 4.1 MiB\n",
      "23/06/04 00:46:15 WARN DAGScheduler: Broadcasting large task binary with size 4.1 MiB\n",
      "23/06/04 00:46:15 WARN DAGScheduler: Broadcasting large task binary with size 4.1 MiB\n",
      "23/06/04 00:46:15 WARN DAGScheduler: Broadcasting large task binary with size 4.1 MiB\n",
      "23/06/04 00:46:15 WARN DAGScheduler: Broadcasting large task binary with size 4.1 MiB\n",
      "23/06/04 00:46:16 WARN DAGScheduler: Broadcasting large task binary with size 4.1 MiB\n",
      "23/06/04 00:46:16 WARN DAGScheduler: Broadcasting large task binary with size 4.1 MiB\n",
      "23/06/04 00:46:16 WARN DAGScheduler: Broadcasting large task binary with size 4.1 MiB\n",
      "23/06/04 00:46:17 WARN DAGScheduler: Broadcasting large task binary with size 4.1 MiB\n",
      "23/06/04 00:46:17 WARN DAGScheduler: Broadcasting large task binary with size 4.1 MiB\n",
      "23/06/04 00:46:17 WARN DAGScheduler: Broadcasting large task binary with size 4.1 MiB\n",
      "23/06/04 00:46:17 WARN DAGScheduler: Broadcasting large task binary with size 4.1 MiB\n",
      "23/06/04 00:46:17 WARN DAGScheduler: Broadcasting large task binary with size 4.1 MiB\n",
      "23/06/04 00:46:17 WARN DAGScheduler: Broadcasting large task binary with size 4.1 MiB\n",
      "23/06/04 00:46:18 WARN DAGScheduler: Broadcasting large task binary with size 4.1 MiB\n",
      "23/06/04 00:46:18 WARN DAGScheduler: Broadcasting large task binary with size 4.1 MiB\n",
      "23/06/04 00:46:18 WARN DAGScheduler: Broadcasting large task binary with size 4.1 MiB\n",
      "23/06/04 00:46:18 WARN DAGScheduler: Broadcasting large task binary with size 4.1 MiB\n",
      "23/06/04 00:46:18 WARN DAGScheduler: Broadcasting large task binary with size 4.1 MiB\n",
      "23/06/04 00:46:18 WARN DAGScheduler: Broadcasting large task binary with size 4.1 MiB\n",
      "23/06/04 00:46:18 WARN DAGScheduler: Broadcasting large task binary with size 4.1 MiB\n",
      "23/06/04 00:46:18 WARN DAGScheduler: Broadcasting large task binary with size 4.1 MiB\n",
      "23/06/04 00:46:19 WARN DAGScheduler: Broadcasting large task binary with size 4.1 MiB\n",
      "23/06/04 00:46:19 WARN DAGScheduler: Broadcasting large task binary with size 4.1 MiB\n",
      "23/06/04 00:46:19 WARN DAGScheduler: Broadcasting large task binary with size 4.1 MiB\n",
      "23/06/04 00:46:19 WARN DAGScheduler: Broadcasting large task binary with size 4.1 MiB\n",
      "23/06/04 00:46:19 WARN DAGScheduler: Broadcasting large task binary with size 4.1 MiB\n",
      "23/06/04 00:46:20 WARN DAGScheduler: Broadcasting large task binary with size 4.1 MiB\n",
      "23/06/04 00:46:20 WARN DAGScheduler: Broadcasting large task binary with size 4.1 MiB\n",
      "23/06/04 00:46:20 WARN DAGScheduler: Broadcasting large task binary with size 4.1 MiB\n",
      "23/06/04 00:46:20 WARN DAGScheduler: Broadcasting large task binary with size 4.1 MiB\n",
      "23/06/04 00:46:20 WARN DAGScheduler: Broadcasting large task binary with size 4.1 MiB\n",
      "23/06/04 00:46:20 WARN DAGScheduler: Broadcasting large task binary with size 4.1 MiB\n",
      "23/06/04 00:46:21 WARN DAGScheduler: Broadcasting large task binary with size 4.1 MiB\n",
      "23/06/04 00:46:21 WARN DAGScheduler: Broadcasting large task binary with size 4.1 MiB\n",
      "23/06/04 00:46:21 WARN DAGScheduler: Broadcasting large task binary with size 4.1 MiB\n",
      "23/06/04 00:46:21 WARN DAGScheduler: Broadcasting large task binary with size 4.1 MiB\n",
      "23/06/04 00:46:21 WARN DAGScheduler: Broadcasting large task binary with size 4.1 MiB\n",
      "23/06/04 00:46:21 WARN DAGScheduler: Broadcasting large task binary with size 4.1 MiB\n",
      "23/06/04 00:46:21 WARN DAGScheduler: Broadcasting large task binary with size 4.1 MiB\n",
      "23/06/04 00:46:22 WARN DAGScheduler: Broadcasting large task binary with size 4.1 MiB\n",
      "23/06/04 00:46:22 WARN DAGScheduler: Broadcasting large task binary with size 4.1 MiB\n",
      "23/06/04 00:46:22 WARN DAGScheduler: Broadcasting large task binary with size 4.1 MiB\n",
      "23/06/04 00:46:22 WARN DAGScheduler: Broadcasting large task binary with size 4.1 MiB\n",
      "23/06/04 00:46:22 WARN DAGScheduler: Broadcasting large task binary with size 4.1 MiB\n",
      "23/06/04 00:46:22 WARN DAGScheduler: Broadcasting large task binary with size 4.1 MiB\n",
      "23/06/04 00:46:22 WARN DAGScheduler: Broadcasting large task binary with size 4.1 MiB\n",
      "23/06/04 00:46:23 WARN DAGScheduler: Broadcasting large task binary with size 4.1 MiB\n",
      "23/06/04 00:46:23 WARN DAGScheduler: Broadcasting large task binary with size 4.1 MiB\n",
      "23/06/04 00:46:23 WARN DAGScheduler: Broadcasting large task binary with size 4.1 MiB\n",
      "23/06/04 00:46:23 WARN DAGScheduler: Broadcasting large task binary with size 4.1 MiB\n",
      "23/06/04 00:46:23 WARN DAGScheduler: Broadcasting large task binary with size 4.1 MiB\n",
      "23/06/04 00:46:23 WARN DAGScheduler: Broadcasting large task binary with size 4.1 MiB\n",
      "23/06/04 00:46:23 WARN DAGScheduler: Broadcasting large task binary with size 4.1 MiB\n",
      "23/06/04 00:46:24 WARN DAGScheduler: Broadcasting large task binary with size 4.1 MiB\n",
      "23/06/04 00:46:24 WARN DAGScheduler: Broadcasting large task binary with size 4.1 MiB\n",
      "23/06/04 00:46:24 WARN DAGScheduler: Broadcasting large task binary with size 4.1 MiB\n",
      "23/06/04 00:46:24 WARN DAGScheduler: Broadcasting large task binary with size 4.1 MiB\n",
      "23/06/04 00:46:24 WARN DAGScheduler: Broadcasting large task binary with size 4.1 MiB\n",
      "23/06/04 00:46:24 WARN DAGScheduler: Broadcasting large task binary with size 4.1 MiB\n",
      "23/06/04 00:46:25 WARN DAGScheduler: Broadcasting large task binary with size 4.1 MiB\n",
      "23/06/04 00:46:25 WARN DAGScheduler: Broadcasting large task binary with size 4.1 MiB\n",
      "23/06/04 00:46:25 WARN DAGScheduler: Broadcasting large task binary with size 4.1 MiB\n",
      "23/06/04 00:46:25 WARN DAGScheduler: Broadcasting large task binary with size 4.1 MiB\n",
      "23/06/04 00:46:25 WARN DAGScheduler: Broadcasting large task binary with size 4.1 MiB\n",
      "23/06/04 00:46:25 WARN DAGScheduler: Broadcasting large task binary with size 4.1 MiB\n",
      "23/06/04 00:46:26 WARN DAGScheduler: Broadcasting large task binary with size 4.1 MiB\n",
      "23/06/04 00:46:26 WARN DAGScheduler: Broadcasting large task binary with size 4.1 MiB\n",
      "23/06/04 00:46:26 WARN DAGScheduler: Broadcasting large task binary with size 4.1 MiB\n",
      "23/06/04 00:46:26 WARN DAGScheduler: Broadcasting large task binary with size 4.1 MiB\n",
      "23/06/04 00:46:26 WARN DAGScheduler: Broadcasting large task binary with size 4.1 MiB\n",
      "23/06/04 00:46:26 WARN DAGScheduler: Broadcasting large task binary with size 4.1 MiB\n",
      "23/06/04 00:46:26 WARN DAGScheduler: Broadcasting large task binary with size 4.1 MiB\n",
      "23/06/04 00:46:26 WARN DAGScheduler: Broadcasting large task binary with size 4.1 MiB\n",
      "23/06/04 00:46:27 WARN DAGScheduler: Broadcasting large task binary with size 4.1 MiB\n",
      "23/06/04 00:46:27 WARN DAGScheduler: Broadcasting large task binary with size 4.1 MiB\n",
      "23/06/04 00:46:27 WARN DAGScheduler: Broadcasting large task binary with size 4.1 MiB\n",
      "23/06/04 00:46:27 WARN DAGScheduler: Broadcasting large task binary with size 4.1 MiB\n",
      "23/06/04 00:46:28 WARN DAGScheduler: Broadcasting large task binary with size 4.1 MiB\n",
      "23/06/04 00:46:28 WARN DAGScheduler: Broadcasting large task binary with size 4.1 MiB\n",
      "23/06/04 00:46:28 WARN DAGScheduler: Broadcasting large task binary with size 4.1 MiB\n",
      "23/06/04 00:46:28 WARN DAGScheduler: Broadcasting large task binary with size 4.1 MiB\n",
      "23/06/04 00:46:28 WARN DAGScheduler: Broadcasting large task binary with size 4.1 MiB\n",
      "23/06/04 00:46:28 WARN DAGScheduler: Broadcasting large task binary with size 4.1 MiB\n",
      "23/06/04 00:46:28 WARN DAGScheduler: Broadcasting large task binary with size 4.1 MiB\n",
      "23/06/04 00:46:28 WARN DAGScheduler: Broadcasting large task binary with size 4.1 MiB\n",
      "23/06/04 00:46:29 WARN DAGScheduler: Broadcasting large task binary with size 4.1 MiB\n",
      "23/06/04 00:46:29 WARN DAGScheduler: Broadcasting large task binary with size 4.1 MiB\n",
      "23/06/04 00:46:29 WARN DAGScheduler: Broadcasting large task binary with size 4.1 MiB\n",
      "23/06/04 00:46:29 WARN DAGScheduler: Broadcasting large task binary with size 4.1 MiB\n",
      "23/06/04 00:46:29 WARN DAGScheduler: Broadcasting large task binary with size 4.1 MiB\n",
      "23/06/04 00:46:29 WARN DAGScheduler: Broadcasting large task binary with size 4.1 MiB\n",
      "23/06/04 00:46:30 WARN DAGScheduler: Broadcasting large task binary with size 4.1 MiB\n",
      "23/06/04 00:46:30 WARN DAGScheduler: Broadcasting large task binary with size 4.1 MiB\n",
      "23/06/04 00:46:30 WARN DAGScheduler: Broadcasting large task binary with size 4.1 MiB\n",
      "23/06/04 00:46:30 WARN DAGScheduler: Broadcasting large task binary with size 4.1 MiB\n",
      "23/06/04 00:46:30 WARN DAGScheduler: Broadcasting large task binary with size 4.1 MiB\n",
      "23/06/04 00:46:30 WARN DAGScheduler: Broadcasting large task binary with size 4.1 MiB\n",
      "23/06/04 00:46:31 WARN DAGScheduler: Broadcasting large task binary with size 4.1 MiB\n",
      "23/06/04 00:46:31 WARN DAGScheduler: Broadcasting large task binary with size 4.1 MiB\n",
      "23/06/04 00:46:31 WARN DAGScheduler: Broadcasting large task binary with size 4.1 MiB\n",
      "23/06/04 00:46:31 WARN DAGScheduler: Broadcasting large task binary with size 4.1 MiB\n",
      "23/06/04 00:46:31 WARN DAGScheduler: Broadcasting large task binary with size 4.1 MiB\n",
      "23/06/04 00:46:31 WARN DAGScheduler: Broadcasting large task binary with size 4.1 MiB\n",
      "23/06/04 00:46:32 WARN DAGScheduler: Broadcasting large task binary with size 4.1 MiB\n",
      "23/06/04 00:46:32 WARN DAGScheduler: Broadcasting large task binary with size 4.1 MiB\n",
      "23/06/04 00:46:32 WARN DAGScheduler: Broadcasting large task binary with size 4.1 MiB\n",
      "23/06/04 00:46:32 WARN DAGScheduler: Broadcasting large task binary with size 4.1 MiB\n",
      "23/06/04 00:46:32 WARN DAGScheduler: Broadcasting large task binary with size 4.1 MiB\n",
      "23/06/04 00:46:32 WARN DAGScheduler: Broadcasting large task binary with size 4.1 MiB\n",
      "23/06/04 00:46:33 WARN DAGScheduler: Broadcasting large task binary with size 4.1 MiB\n",
      "23/06/04 00:46:33 WARN DAGScheduler: Broadcasting large task binary with size 4.1 MiB\n",
      "23/06/04 00:46:33 WARN DAGScheduler: Broadcasting large task binary with size 4.1 MiB\n",
      "23/06/04 00:46:33 WARN DAGScheduler: Broadcasting large task binary with size 4.1 MiB\n",
      "23/06/04 00:46:34 WARN DAGScheduler: Broadcasting large task binary with size 4.1 MiB\n",
      "23/06/04 00:46:34 WARN DAGScheduler: Broadcasting large task binary with size 4.1 MiB\n",
      "23/06/04 00:46:34 WARN DAGScheduler: Broadcasting large task binary with size 4.1 MiB\n",
      "23/06/04 00:46:34 WARN DAGScheduler: Broadcasting large task binary with size 4.1 MiB\n",
      "23/06/04 00:46:34 WARN DAGScheduler: Broadcasting large task binary with size 4.1 MiB\n",
      "23/06/04 00:46:34 WARN DAGScheduler: Broadcasting large task binary with size 4.1 MiB\n",
      "23/06/04 00:46:34 WARN DAGScheduler: Broadcasting large task binary with size 4.1 MiB\n",
      "23/06/04 00:46:35 WARN DAGScheduler: Broadcasting large task binary with size 4.1 MiB\n",
      "23/06/04 00:46:35 WARN DAGScheduler: Broadcasting large task binary with size 4.1 MiB\n",
      "23/06/04 00:46:35 WARN DAGScheduler: Broadcasting large task binary with size 4.1 MiB\n",
      "23/06/04 00:46:35 WARN DAGScheduler: Broadcasting large task binary with size 4.1 MiB\n",
      "23/06/04 00:46:35 WARN DAGScheduler: Broadcasting large task binary with size 4.1 MiB\n",
      "23/06/04 00:46:36 WARN DAGScheduler: Broadcasting large task binary with size 4.1 MiB\n",
      "23/06/04 00:46:36 WARN DAGScheduler: Broadcasting large task binary with size 4.1 MiB\n",
      "23/06/04 00:46:36 WARN DAGScheduler: Broadcasting large task binary with size 4.1 MiB\n",
      "23/06/04 00:46:36 WARN DAGScheduler: Broadcasting large task binary with size 4.1 MiB\n",
      "23/06/04 00:46:36 WARN DAGScheduler: Broadcasting large task binary with size 4.1 MiB\n",
      "23/06/04 00:46:36 WARN DAGScheduler: Broadcasting large task binary with size 4.1 MiB\n",
      "23/06/04 00:46:36 WARN DAGScheduler: Broadcasting large task binary with size 4.1 MiB\n",
      "23/06/04 00:46:36 WARN DAGScheduler: Broadcasting large task binary with size 4.1 MiB\n",
      "23/06/04 00:46:37 WARN DAGScheduler: Broadcasting large task binary with size 4.1 MiB\n",
      "23/06/04 00:46:37 WARN DAGScheduler: Broadcasting large task binary with size 4.1 MiB\n",
      "23/06/04 00:46:37 WARN DAGScheduler: Broadcasting large task binary with size 4.1 MiB\n",
      "23/06/04 00:46:37 WARN DAGScheduler: Broadcasting large task binary with size 4.1 MiB\n",
      "23/06/04 00:46:37 WARN DAGScheduler: Broadcasting large task binary with size 4.1 MiB\n",
      "23/06/04 00:46:37 WARN DAGScheduler: Broadcasting large task binary with size 4.1 MiB\n",
      "23/06/04 00:46:38 WARN DAGScheduler: Broadcasting large task binary with size 4.1 MiB\n",
      "23/06/04 00:46:38 WARN DAGScheduler: Broadcasting large task binary with size 4.1 MiB\n",
      "23/06/04 00:46:38 WARN DAGScheduler: Broadcasting large task binary with size 4.1 MiB\n",
      "23/06/04 00:46:38 WARN DAGScheduler: Broadcasting large task binary with size 4.1 MiB\n",
      "23/06/04 00:46:38 WARN DAGScheduler: Broadcasting large task binary with size 4.1 MiB\n",
      "23/06/04 00:46:38 WARN DAGScheduler: Broadcasting large task binary with size 4.1 MiB\n",
      "23/06/04 00:46:38 WARN DAGScheduler: Broadcasting large task binary with size 4.1 MiB\n",
      "23/06/04 00:46:39 WARN DAGScheduler: Broadcasting large task binary with size 4.1 MiB\n",
      "23/06/04 00:46:39 WARN DAGScheduler: Broadcasting large task binary with size 4.1 MiB\n",
      "23/06/04 00:46:39 WARN DAGScheduler: Broadcasting large task binary with size 4.1 MiB\n",
      "23/06/04 00:46:39 WARN DAGScheduler: Broadcasting large task binary with size 4.1 MiB\n",
      "23/06/04 00:46:39 WARN DAGScheduler: Broadcasting large task binary with size 4.1 MiB\n",
      "23/06/04 00:46:39 WARN DAGScheduler: Broadcasting large task binary with size 4.1 MiB\n",
      "23/06/04 00:46:40 WARN DAGScheduler: Broadcasting large task binary with size 4.1 MiB\n",
      "23/06/04 00:46:40 WARN DAGScheduler: Broadcasting large task binary with size 4.1 MiB\n",
      "23/06/04 00:46:40 WARN DAGScheduler: Broadcasting large task binary with size 4.1 MiB\n",
      "23/06/04 00:46:40 WARN DAGScheduler: Broadcasting large task binary with size 4.1 MiB\n",
      "23/06/04 00:46:40 WARN DAGScheduler: Broadcasting large task binary with size 4.1 MiB\n",
      "23/06/04 00:46:40 WARN DAGScheduler: Broadcasting large task binary with size 4.1 MiB\n",
      "23/06/04 00:46:40 WARN DAGScheduler: Broadcasting large task binary with size 4.1 MiB\n",
      "23/06/04 00:46:41 WARN DAGScheduler: Broadcasting large task binary with size 4.1 MiB\n",
      "23/06/04 00:46:41 WARN DAGScheduler: Broadcasting large task binary with size 4.1 MiB\n",
      "23/06/04 00:46:41 WARN DAGScheduler: Broadcasting large task binary with size 4.1 MiB\n",
      "23/06/04 00:46:41 WARN DAGScheduler: Broadcasting large task binary with size 4.1 MiB\n",
      "23/06/04 00:46:42 WARN DAGScheduler: Broadcasting large task binary with size 4.1 MiB\n",
      "23/06/04 00:46:42 WARN DAGScheduler: Broadcasting large task binary with size 4.1 MiB\n",
      "23/06/04 00:46:42 WARN DAGScheduler: Broadcasting large task binary with size 4.1 MiB\n",
      "23/06/04 00:46:42 WARN DAGScheduler: Broadcasting large task binary with size 4.1 MiB\n",
      "23/06/04 00:46:42 WARN DAGScheduler: Broadcasting large task binary with size 4.1 MiB\n",
      "23/06/04 00:46:42 WARN DAGScheduler: Broadcasting large task binary with size 4.1 MiB\n",
      "23/06/04 00:46:42 WARN DAGScheduler: Broadcasting large task binary with size 4.1 MiB\n",
      "23/06/04 00:46:43 WARN DAGScheduler: Broadcasting large task binary with size 4.1 MiB\n",
      "23/06/04 00:46:43 WARN DAGScheduler: Broadcasting large task binary with size 4.1 MiB\n",
      "23/06/04 00:46:43 WARN DAGScheduler: Broadcasting large task binary with size 4.1 MiB\n",
      "23/06/04 00:46:43 WARN DAGScheduler: Broadcasting large task binary with size 4.1 MiB\n",
      "23/06/04 00:46:43 WARN DAGScheduler: Broadcasting large task binary with size 4.1 MiB\n",
      "23/06/04 00:46:43 WARN DAGScheduler: Broadcasting large task binary with size 4.1 MiB\n",
      "23/06/04 00:46:43 WARN DAGScheduler: Broadcasting large task binary with size 4.1 MiB\n",
      "23/06/04 00:46:44 WARN DAGScheduler: Broadcasting large task binary with size 4.1 MiB\n",
      "23/06/04 00:46:44 WARN DAGScheduler: Broadcasting large task binary with size 4.1 MiB\n",
      "23/06/04 00:46:44 WARN DAGScheduler: Broadcasting large task binary with size 4.1 MiB\n",
      "23/06/04 00:46:44 WARN DAGScheduler: Broadcasting large task binary with size 4.1 MiB\n",
      "23/06/04 00:46:45 WARN DAGScheduler: Broadcasting large task binary with size 4.1 MiB\n",
      "23/06/04 00:46:45 WARN DAGScheduler: Broadcasting large task binary with size 4.1 MiB\n",
      "23/06/04 00:46:45 WARN DAGScheduler: Broadcasting large task binary with size 4.1 MiB\n",
      "23/06/04 00:46:45 WARN DAGScheduler: Broadcasting large task binary with size 4.1 MiB\n",
      "23/06/04 00:46:45 WARN DAGScheduler: Broadcasting large task binary with size 4.1 MiB\n",
      "23/06/04 00:46:45 WARN DAGScheduler: Broadcasting large task binary with size 4.1 MiB\n",
      "23/06/04 00:46:45 WARN DAGScheduler: Broadcasting large task binary with size 4.1 MiB\n",
      "23/06/04 00:46:46 WARN DAGScheduler: Broadcasting large task binary with size 4.1 MiB\n",
      "23/06/04 00:46:46 WARN DAGScheduler: Broadcasting large task binary with size 4.1 MiB\n",
      "23/06/04 00:46:46 WARN DAGScheduler: Broadcasting large task binary with size 4.1 MiB\n",
      "23/06/04 00:46:46 WARN DAGScheduler: Broadcasting large task binary with size 4.1 MiB\n",
      "23/06/04 00:46:46 WARN DAGScheduler: Broadcasting large task binary with size 4.1 MiB\n",
      "23/06/04 00:46:46 WARN DAGScheduler: Broadcasting large task binary with size 4.1 MiB\n",
      "23/06/04 00:46:47 WARN DAGScheduler: Broadcasting large task binary with size 4.1 MiB\n",
      "23/06/04 00:46:47 WARN DAGScheduler: Broadcasting large task binary with size 4.1 MiB\n",
      "23/06/04 00:46:47 WARN DAGScheduler: Broadcasting large task binary with size 4.1 MiB\n",
      "23/06/04 00:46:47 WARN DAGScheduler: Broadcasting large task binary with size 4.1 MiB\n",
      "23/06/04 00:46:47 WARN DAGScheduler: Broadcasting large task binary with size 4.1 MiB\n",
      "23/06/04 00:46:47 WARN DAGScheduler: Broadcasting large task binary with size 4.1 MiB\n",
      "23/06/04 00:46:47 WARN DAGScheduler: Broadcasting large task binary with size 4.1 MiB\n",
      "23/06/04 00:46:48 WARN DAGScheduler: Broadcasting large task binary with size 4.1 MiB\n",
      "23/06/04 00:46:48 WARN DAGScheduler: Broadcasting large task binary with size 4.1 MiB\n"
     ]
    },
    {
     "name": "stderr",
     "output_type": "stream",
     "text": [
      "[Stage 1094:===================================================>  (17 + 1) / 18]\r"
     ]
    },
    {
     "name": "stdout",
     "output_type": "stream",
     "text": [
      "23/06/04 00:47:17 WARN DAGScheduler: Broadcasting large task binary with size 6.1 MiB\n"
     ]
    },
    {
     "name": "stderr",
     "output_type": "stream",
     "text": [
      "[Stage 1110:===================================================>  (17 + 1) / 18]\r"
     ]
    },
    {
     "name": "stdout",
     "output_type": "stream",
     "text": [
      "23/06/04 00:47:30 WARN DAGScheduler: Broadcasting large task binary with size 6.1 MiB\n"
     ]
    },
    {
     "name": "stderr",
     "output_type": "stream",
     "text": [
      "[Stage 1114:===================================================>  (17 + 1) / 18]\r"
     ]
    },
    {
     "name": "stdout",
     "output_type": "stream",
     "text": [
      "23/06/04 00:47:39 WARN DAGScheduler: Broadcasting large task binary with size 6.1 MiB\n"
     ]
    },
    {
     "name": "stderr",
     "output_type": "stream",
     "text": [
      "[Stage 1118:===================================================>  (17 + 1) / 18]\r"
     ]
    },
    {
     "name": "stdout",
     "output_type": "stream",
     "text": [
      "23/06/04 00:47:51 WARN DAGScheduler: Broadcasting large task binary with size 6.1 MiB\n"
     ]
    },
    {
     "name": "stderr",
     "output_type": "stream",
     "text": [
      "[Stage 1122:===================================================>  (17 + 1) / 18]\r"
     ]
    },
    {
     "name": "stdout",
     "output_type": "stream",
     "text": [
      "23/06/04 00:48:02 WARN DAGScheduler: Broadcasting large task binary with size 6.1 MiB\n"
     ]
    },
    {
     "name": "stderr",
     "output_type": "stream",
     "text": [
      "[Stage 1124:===================================================>  (17 + 1) / 18]\r"
     ]
    },
    {
     "name": "stdout",
     "output_type": "stream",
     "text": [
      "SVM - AUC: 0.6014182571050931\n",
      "SVM - Accuracy: 0.5732148843446195\n",
      "SVM - Precision: 0.5795258620689655\n",
      "SVM - Recall: 0.5394543266015782\n",
      "SVM - F1 Score: 0.5728820535507173\n"
     ]
    },
    {
     "name": "stderr",
     "output_type": "stream",
     "text": [
      "                                                                                \r"
     ]
    }
   ],
   "source": [
    "from pyspark.ml.classification import LinearSVC\n",
    "from pyspark.ml.evaluation import BinaryClassificationEvaluator, MulticlassClassificationEvaluator\n",
    "\n",
    "# Split the data into training and testing sets\n",
    "train_data, test_data = transformed_data.randomSplit([0.7, 0.3], seed=42)\n",
    "\n",
    "# SVM\n",
    "svm = LinearSVC(labelCol=\"New_Column\", featuresCol=\"tfidf\")\n",
    "svm_model = svm.fit(train_data)\n",
    "svm_predictions = svm_model.transform(test_data)\n",
    "\n",
    "# Evaluation\n",
    "binary_evaluator = BinaryClassificationEvaluator(labelCol=\"New_Column\")\n",
    "auc_svm = binary_evaluator.evaluate(svm_predictions)\n",
    "\n",
    "multi_evaluator = MulticlassClassificationEvaluator(labelCol=\"New_Column\")\n",
    "accuracy_svm = multi_evaluator.evaluate(svm_predictions, {multi_evaluator.metricName: \"accuracy\"})\n",
    "precision_svm = multi_evaluator.evaluate(svm_predictions, {multi_evaluator.metricName: \"precisionByLabel\"})\n",
    "recall_svm = multi_evaluator.evaluate(svm_predictions, {multi_evaluator.metricName: \"recallByLabel\"})\n",
    "f1_score_svm = multi_evaluator.evaluate(svm_predictions, {multi_evaluator.metricName: \"f1\"})\n",
    "\n",
    "# Print the results\n",
    "print(\"SVM - AUC:\", auc_svm)\n",
    "print(\"SVM - Accuracy:\", accuracy_svm)\n",
    "print(\"SVM - Precision:\", precision_svm)\n",
    "print(\"SVM - Recall:\", recall_svm)\n",
    "print(\"SVM - F1 Score:\", f1_score_svm)\n"
   ]
  },
  {
   "cell_type": "code",
   "execution_count": 11,
   "id": "d3f4bce2-90c7-4cdb-8302-5fdadb1d90ca",
   "metadata": {},
   "outputs": [
    {
     "name": "stderr",
     "output_type": "stream",
     "text": [
      "[Stage 418:=============================================>         (15 + 3) / 18]\r"
     ]
    },
    {
     "name": "stdout",
     "output_type": "stream",
     "text": [
      "23/06/04 01:49:31 WARN DAGScheduler: Broadcasting large task binary with size 4.1 MiB\n"
     ]
    },
    {
     "name": "stderr",
     "output_type": "stream",
     "text": [
      "[Stage 420:================================================>      (15 + 2) / 17]\r"
     ]
    },
    {
     "name": "stdout",
     "output_type": "stream",
     "text": [
      "23/06/04 01:49:34 WARN DAGScheduler: Broadcasting large task binary with size 4.1 MiB\n"
     ]
    },
    {
     "name": "stderr",
     "output_type": "stream",
     "text": [
      "[Stage 424:===================================================>   (17 + 1) / 18]\r"
     ]
    },
    {
     "name": "stdout",
     "output_type": "stream",
     "text": [
      "23/06/04 01:49:43 WARN DAGScheduler: Broadcasting large task binary with size 8.1 MiB\n"
     ]
    },
    {
     "name": "stderr",
     "output_type": "stream",
     "text": [
      "[Stage 440:===================================================>   (17 + 1) / 18]\r"
     ]
    },
    {
     "name": "stdout",
     "output_type": "stream",
     "text": [
      "23/06/04 01:49:53 WARN DAGScheduler: Broadcasting large task binary with size 8.1 MiB\n"
     ]
    },
    {
     "name": "stderr",
     "output_type": "stream",
     "text": [
      "[Stage 444:===================================================>   (17 + 1) / 18]\r"
     ]
    },
    {
     "name": "stdout",
     "output_type": "stream",
     "text": [
      "23/06/04 01:50:05 WARN DAGScheduler: Broadcasting large task binary with size 8.1 MiB\n"
     ]
    },
    {
     "name": "stderr",
     "output_type": "stream",
     "text": [
      "[Stage 448:===================================================>   (17 + 1) / 18]\r"
     ]
    },
    {
     "name": "stdout",
     "output_type": "stream",
     "text": [
      "23/06/04 01:50:18 WARN DAGScheduler: Broadcasting large task binary with size 8.1 MiB\n"
     ]
    },
    {
     "name": "stderr",
     "output_type": "stream",
     "text": [
      "[Stage 452:================================================>      (16 + 2) / 18]\r"
     ]
    },
    {
     "name": "stdout",
     "output_type": "stream",
     "text": [
      "23/06/04 01:50:28 WARN DAGScheduler: Broadcasting large task binary with size 8.1 MiB\n"
     ]
    },
    {
     "name": "stderr",
     "output_type": "stream",
     "text": [
      "[Stage 454:===================================================>   (16 + 1) / 17]\r"
     ]
    },
    {
     "name": "stdout",
     "output_type": "stream",
     "text": [
      "NaiveBayes - AUC: 0.5237183911285037\n",
      "NaiveBayes - Accuracy: 0.6613522188110522\n",
      "NaiveBayes - Precision: 0.5101899449487769\n",
      "NaiveBayes - Recall: 0.5283852162172393\n",
      "NaiveBayes - F1 Score: 0.6623427509329021\n"
     ]
    },
    {
     "name": "stderr",
     "output_type": "stream",
     "text": [
      "                                                                                \r"
     ]
    }
   ],
   "source": [
    "from pyspark.ml.classification import NaiveBayes\n",
    "from pyspark.ml.evaluation import BinaryClassificationEvaluator, MulticlassClassificationEvaluator\n",
    "\n",
    "# Split the data into training and testing sets\n",
    "train_data, test_data = transformed_data.randomSplit([0.7, 0.3], seed=42)\n",
    "\n",
    "# NaiveBayes\n",
    "nb = NaiveBayes(labelCol=\"New_Column\", featuresCol=\"tfidf\")\n",
    "nb_model = nb.fit(train_data)\n",
    "nb_predictions = nb_model.transform(test_data)\n",
    "\n",
    "# Evaluation\n",
    "binary_evaluator = BinaryClassificationEvaluator(labelCol=\"New_Column\")\n",
    "auc_nb = binary_evaluator.evaluate(nb_predictions)\n",
    "\n",
    "multi_evaluator = MulticlassClassificationEvaluator(labelCol=\"New_Column\")\n",
    "accuracy_nb = multi_evaluator.evaluate(nb_predictions, {multi_evaluator.metricName: \"accuracy\"})\n",
    "precision_nb = multi_evaluator.evaluate(nb_predictions, {multi_evaluator.metricName: \"precisionByLabel\"})\n",
    "recall_nb = multi_evaluator.evaluate(nb_predictions, {multi_evaluator.metricName: \"recallByLabel\"})\n",
    "f1_score_nb = multi_evaluator.evaluate(nb_predictions, {multi_evaluator.metricName: \"f1\"})\n",
    "\n",
    "# Print the results\n",
    "print(\"NaiveBayes - AUC:\", auc_nb)\n",
    "print(\"NaiveBayes - Accuracy:\", accuracy_nb)\n",
    "print(\"NaiveBayes - Precision:\", precision_nb)\n",
    "print(\"NaiveBayes - Recall:\", recall_nb)\n",
    "print(\"NaiveBayes - F1 Score:\", f1_score_nb)\n"
   ]
  },
  {
   "cell_type": "code",
   "execution_count": 17,
   "id": "937b1049-5333-47fb-866d-247ce361625a",
   "metadata": {},
   "outputs": [
    {
     "name": "stderr",
     "output_type": "stream",
     "text": [
      "[Stage 474:===================================================>   (17 + 1) / 18]\r"
     ]
    },
    {
     "name": "stdout",
     "output_type": "stream",
     "text": [
      "23/06/04 02:01:44 WARN DAGScheduler: Broadcasting large task binary with size 8.1 MiB\n",
      "+------+----------+-------------------------------------+----------+------------------------------+------------------------------+--------------------+--------------------+--------------------+--------------------+----------+\n",
      "|  code|      date|                                title|New_Column|                        tokens|               filtered_tokens|                  tf|               tfidf|       rawPrediction|         probability|prediction|\n",
      "+------+----------+-------------------------------------+----------+------------------------------+------------------------------+--------------------+--------------------+--------------------+--------------------+----------+\n",
      "|000020|2020-04-29|    연휴중  치료목적 응급임상승인 ...|         1|  [연휴, 중, 치료, 목적, 응...|  [연휴, 중, 치료, 목적, 응...|(262144,[26959,85...|(262144,[26959,85...|[-595.26066104592...|[6.00232519820964...|       1.0|\n",
      "|000020|2020-07-29|   달넘게 있었던 사람으로서 말하자...|         1|  [달, 넘게, 있었던, 사람, ...|  [달, 넘게, 있었던, 사람, ...|(262144,[31399,61...|(262144,[31399,61...|[-613.17932962295...|[9.07056911832838...|       1.0|\n",
      "|000020|2020-07-29|    삭제된 게시물의 답글원 본전 오면 |         1|  [삭제, 된, 게시, 물의, 답...|                  [본전, 오면]|(262144,[59999,20...|(262144,[59999,20...|[-118.06501707847...|[0.99712529737432...|       0.0|\n",
      "|000020|2020-07-29|    삭제된 게시물의 답글종가는  원...|         1|  [삭제, 된, 게시, 물의, 답...|                [종가, 입니다]|(262144,[246058,2...|(262144,[246058,2...|[-66.350406104235...|[0.07895022845237...|       1.0|\n",
      "|000020|2020-10-30|             동화약품 악질 찬티세력들|         0|  [동화약품, 악질, 찬티, 세력]|  [동화약품, 악질, 찬티, 세력]|(262144,[135285,1...|(262144,[135285,1...|[-257.75714249557...|[1.85171285395870...|       1.0|\n",
      "|000020|2020-10-30|      삭제된 게시물의 답글승인은 개뿔|         0|  [삭제, 된, 게시, 물의, 답...|                  [승인, 개뿔]|(262144,[47518,59...|(262144,[47518,59...|[-131.39275238544...|[0.00105851114436...|       1.0|\n",
      "|000020|2020-10-30|              이건 머하는 놈이냐 진짜|         0|  [이건, 머, 하는, 놈, 이냐...|  [이건, 머, 하는, 놈, 이냐...|(262144,[3739,859...|(262144,[3739,859...|[-227.78971520264...|[0.25266507888085...|       1.0|\n",
      "|000020|2021-01-25|                          층 탑승완료|         0|              [층, 탑승, 완료]|              [층, 탑승, 완료]|(262144,[28285,85...|(262144,[28285,85...|[-163.11057961760...|[1.97753322412839...|       1.0|\n",
      "|000020|2021-02-04|             기술적 반등도 안나오는  |         0|   [기술, 적, 반등, 도, 안,...|      [기술, 적, 반등, 나오는]|(262144,[106195,1...|(262144,[106195,1...|[-192.71408658240...|[0.99957330834525...|       0.0|\n",
      "|000020|2021-02-04|    무슨 미련 때문에 여기서 이러고...|         0|  [미련, 때문, 서, 이러고, ...|  [미련, 때문, 서, 이러고, ...|(262144,[7088,203...|(262144,[7088,203...|[-321.92362094350...|[0.20286842526635...|       1.0|\n",
      "|000020|2021-02-04|             오후장 지수빠지면서 이거|         0|[오후, 장, 지수, 빠지면서, 거]|[오후, 장, 지수, 빠지면서, 거]|(262144,[4850,110...|(262144,[4850,110...|[-277.08585301735...|[0.01586531311314...|       1.0|\n",
      "|000020|2021-04-16|                             배부르네|         1|                    [배부르네]|                    [배부르네]|(262144,[234575],...|(262144,[234575],...|[-190.46392610306...|[5.16464597375836...|       1.0|\n",
      "|000020|2021-04-28|              코로나치료제 상중이니까|         1|  [코로나, 치료, 상중, 이니까]|  [코로나, 치료, 상중, 이니까]|(262144,[2866,357...|(262144,[2866,357...|[-262.55928854070...|[0.00321619694243...|       1.0|\n",
      "|000020|2021-07-29|                        웃기는 이야기|         0|              [웃기는, 이야기]|              [웃기는, 이야기]|(262144,[90767,16...|(262144,[90767,16...|[-153.73403155560...|[0.88339380699876...|       0.0|\n",
      "|000020|2021-07-29|                              퍼가 면|         0|                      [퍼, 면]|                      [퍼, 면]|(262144,[98752,13...|(262144,[98752,13...|[-74.294002532225...|[0.09222069589319...|       1.0|\n",
      "|000020|2021-11-15|                   알바들 덜 설치는게|         0|          [알바, 덜, 설치는게]|          [알바, 덜, 설치는게]|(262144,[94317,21...|(262144,[94317,21...|[-255.45317331498...|[0.20371332291515...|       1.0|\n",
      "|000020|2021-11-25|                           시외상가면|         0|              [시외, 상, 가면]|                  [시외, 가면]|(262144,[54397,57...|(262144,[54397,57...|[-88.570292833703...|[0.00222689951400...|       1.0|\n",
      "|000020|2022-04-13|                      메디세이 잘가네|         0|        [메디, 세이, 잘, 가네]|        [메디, 세이, 잘, 가네]|(262144,[54110,99...|(262144,[54110,99...|[-269.26233108613...|[0.98743709942536...|       0.0|\n",
      "|000020|2022-05-13|분기 실적발표좋구먼 아주 좋구먼ㅎㅎㅎ|         0| [분기, 실적, 발표, 좋구먼,...| [분기, 실적, 발표, 좋구먼,...|(262144,[1259,364...|(262144,[1259,364...|[-473.18324971968...|[0.99999996227610...|       0.0|\n",
      "|000020|2022-07-21|    일동안 연속 이지랄하구  장종료...|         1|  [연속, 지랄, 하구, 장, 종...|  [연속, 지랄, 하구, 장, 종...|(262144,[7844,200...|(262144,[7844,200...|[-434.74681812571...|[8.93000032224533...|       1.0|\n",
      "+------+----------+-------------------------------------+----------+------------------------------+------------------------------+--------------------+--------------------+--------------------+--------------------+----------+\n",
      "only showing top 20 rows\n",
      "\n"
     ]
    },
    {
     "name": "stderr",
     "output_type": "stream",
     "text": [
      "                                                                                \r"
     ]
    }
   ],
   "source": [
    "nb_predictions.show()"
   ]
  },
  {
   "cell_type": "code",
   "execution_count": 13,
   "id": "812ad806-3ce8-471e-a3fb-ee0fd930fd3e",
   "metadata": {},
   "outputs": [
    {
     "name": "stdout",
     "output_type": "stream",
     "text": [
      "23/06/04 12:34:21 WARN ExecutorPodsWatchSnapshotSource: Kubernetes client has been closed.\n"
     ]
    }
   ],
   "source": [
    "spark.stop()"
   ]
  },
  {
   "cell_type": "code",
   "execution_count": null,
   "id": "bfafda0a-7fec-4e33-a6c9-10a38fcfb8ac",
   "metadata": {},
   "outputs": [],
   "source": []
  },
  {
   "cell_type": "code",
   "execution_count": null,
   "id": "588376c6-db99-43a0-bb01-aa73bc28686e",
   "metadata": {},
   "outputs": [],
   "source": []
  }
 ],
 "metadata": {
  "kernelspec": {
   "display_name": "Python 3 (ipykernel)",
   "language": "python",
   "name": "python3"
  },
  "language_info": {
   "codemirror_mode": {
    "name": "ipython",
    "version": 3
   },
   "file_extension": ".py",
   "mimetype": "text/x-python",
   "name": "python",
   "nbconvert_exporter": "python",
   "pygments_lexer": "ipython3",
   "version": "3.9.14"
  }
 },
 "nbformat": 4,
 "nbformat_minor": 5
}
