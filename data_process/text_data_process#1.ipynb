{
 "cells": [
  {
   "cell_type": "code",
   "execution_count": 4,
   "id": "5b2389ef-fce8-4130-841f-100a05d265ea",
   "metadata": {},
   "outputs": [],
   "source": [
    "from pyspark import SparkConf, SparkContext\n",
    "from pyspark.sql import SparkSession\n",
    "from pyspark.sql.functions import input_file_name\n",
    "\n",
    "conf = (SparkConf().setMaster(\"k8s://https://192.168.219.100:6443\") # Your master address name\n",
    "        .set(\"spark.kubernetes.container.image\", \"joron1827/pyspark:latest\") # Spark image name\n",
    "        .set(\"spark.driver.port\", \"2222\") # Needs to match svc\n",
    "        .set(\"spark.driver.blockManager.port\", \"7777\")\n",
    "        .set(\"spark.driver.host\", \"driver-service.jupyterhub.svc.cluster.local\") # Needs to match svc\n",
    "        .set(\"spark.driver.bindAddress\", \"0.0.0.0\")\n",
    "        .set(\"spark.kubernetes.namespace\", \"spark\")\n",
    "        .set(\"spark.kubernetes.authenticate.driver.serviceAccountName\", \"spark\")\n",
    "        .set(\"spark.kubernetes.authenticate.serviceAccountName\", \"spark\")\n",
    "        .set(\"spark.executor.instances\", \"4\")\n",
    "        .set(\"spark.kubernetes.container.image.pullPolicy\", \"IfNotPresent\")\n",
    "        .set(\"spark.app.name\", \"joronSpark\")\n",
    "        .set(\"spark.executor.cores\", \"4\")\n",
    "        .set(\"spark.executor.memory\", \"16g\"))"
   ]
  },
  {
   "cell_type": "code",
   "execution_count": 5,
   "id": "3ddcdb70-c555-4e10-a255-09d00faa208b",
   "metadata": {},
   "outputs": [],
   "source": [
    "spark = SparkSession.builder.config(conf=conf).getOrCreate()"
   ]
  },
  {
   "cell_type": "code",
   "execution_count": 60,
   "id": "6b24b113-9067-4e6d-abc0-a6934d3c16ac",
   "metadata": {},
   "outputs": [
    {
     "name": "stderr",
     "output_type": "stream",
     "text": [
      "                                                                                \r"
     ]
    }
   ],
   "source": [
    "df1=spark.read.parquet(\"hdfs://192.168.219.121:9000/crawling/23-05-15*.parquet\")\n",
    "## 파일 병합하여 저장하기\n",
    "\n",
    "\n",
    "save_path = \"hdfs://192.168.219.121:9000/crawling_stock_text_merge/text_merged.parquet\"\n",
    "\n",
    "df1.write.mode(\"append\").parquet(save_path)"
   ]
  },
  {
   "cell_type": "code",
   "execution_count": 36,
   "id": "bb9cd271-b7f2-49cd-8706-1ddf3b829fae",
   "metadata": {},
   "outputs": [
    {
     "name": "stdout",
     "output_type": "stream",
     "text": [
      "+------+----------------+-----------------------------------+-----+---+---+-----------------+\n",
      "|  code|            date|                              title|views|pos|neg|__index_level_0__|\n",
      "+------+----------------+-----------------------------------+-----+---+---+-----------------+\n",
      "|005930|2017.11.27 20:06|            여기 안좋게 시황 올릴때|  626|  3|  6|                0|\n",
      "|005930|2017.11.27 20:04|                  문상하고 갑니다..|  536|  3|  5|                0|\n",
      "|005930|2017.11.27 20:03|모간리포트와 이건희 회장 차명계좌는|  654|  1|  2|                0|\n",
      "|005930|2017.11.27 20:03|  드디어 떴다.차명계좌.이자,배당...|  864|  5|  1|                0|\n",
      "|005930|2017.11.27 19:58|                  조금 늦긴했는데..|  809|  8|  5|                0|\n",
      "|005930|2017.11.27 19:57|                                 신|  486|  2|  3|                0|\n",
      "|005930|2017.11.27 19:54|             모건이 문제가 아니라..|  876|  4|  4|                0|\n",
      "|005930|2017.11.27 19:51|세계적으로 가장 인정해주는 모건이를|  895|  2|  2|                0|\n",
      "|005930|2017.11.27 19:50|     대세상승기 마지막.. 폭락의전조|  817|  5| 10|                0|\n",
      "|005930|2017.11.27 19:42|                       잡아죽일방법| 1059| 16|  6|                0|\n",
      "|005930|2017.11.27 19:40|                        어 이상하다|  950|  5|  2|                0|\n",
      "|005930|2017.11.27 19:37|     모건이 우습게보지마라 폭락할듯|  925|  5| 10|                0|\n",
      "|005930|2017.11.27 19:34|          삼전까지 공매도 치는 구나|  815| 12|  4|                0|\n",
      "|005930|2017.11.27 19:34|  [삭제된 게시물의 답글]틀림없이...|  624|  3|  3|                0|\n",
      "|005930|2017.11.27 19:28|   연기금,기관놈들이 더 개쉐이들!!!|  700|  6|  6|                0|\n",
      "|005930|2017.11.27 19:25|   옛날에 제일모직 삼성물산합병할때|  882|  0|  2|                0|\n",
      "|005930|2017.11.27 19:24|      6연속 매도해도 안 떨어지니...| 1141| 15|  3|                0|\n",
      "|005930|2017.11.27 19:21|           모건  ~ 삼전 몇%가지고??|  909|  1|  2|                0|\n",
      "|005930|2017.11.27 19:21| 내가 보는 삼성전자와 전반적인 시황| 1210|  6|  7|                0|\n",
      "|005930|2017.11.27 19:20|                   노트8줘도안쓴다 |  678|  2|  4|                0|\n",
      "+------+----------------+-----------------------------------+-----+---+---+-----------------+\n",
      "only showing top 20 rows\n",
      "\n"
     ]
    }
   ],
   "source": [
    "df1.show()"
   ]
  },
  {
   "cell_type": "code",
   "execution_count": 62,
   "id": "97efefd6-fc36-41fb-a78e-267edea5107e",
   "metadata": {},
   "outputs": [
    {
     "name": "stdout",
     "output_type": "stream",
     "text": [
      "+------+----------------+------------------------------------+-----+---+---+-----------------+\n",
      "|  code|            date|                               title|views|pos|neg|__index_level_0__|\n",
      "+------+----------------+------------------------------------+-----+---+---+-----------------+\n",
      "|005930|2023.04.06 14:35|                              여러분|  230|  0|  0|                0|\n",
      "|005930|2023.04.06 14:34|     나라가  공매도  개망조 들었다. |  246|  1|  0|                0|\n",
      "|005930|2023.04.06 14:34|     삼성전자 직원 5분의 1 감축 단행|  296|  5|  0|                0|\n",
      "|005930|2023.04.06 14:33|                    분위기 좋고 좋고|  250|  1|  0|                0|\n",
      "|005930|2023.04.06 14:33|        삼성전자는 허구한날 왜이래요|  268|  1|  0|                0|\n",
      "|005930|2023.04.06 14:32|                         공매도 전자|  242|  1|  0|                0|\n",
      "|005930|2023.04.06 14:32|     외국인 선물매도 2.1조 넘은거...|  292|  2|  0|                0|\n",
      "|005930|2023.04.06 14:32|                    순종 못해 망했다|  233|  0|  0|                0|\n",
      "|005930|2023.04.06 14:31|                     삼성전자 1분기 |  305|  1|  1|                0|\n",
      "|005930|2023.04.06 14:31|                  공매도 잘 생각해라|  263|  1|  0|                0|\n",
      "|005930|2023.04.06 14:31|                    내일 5천원 이상 |  292|  4|  1|                0|\n",
      "|005930|2023.04.06 14:31|          감산 안하다고 뻘짓하더니..|  262|  2|  0|                0|\n",
      "|005930|2023.04.06 14:31|                             성렬아~|  258|  9|  0|                0|\n",
      "|005930|2023.04.06 14:31|                      삼전만 문젠가?|  253|  3|  0|                0|\n",
      "|005930|2023.04.06 14:30|         윤성렬, 경제,외교는 잘 하네|  293|  0| 12|                0|\n",
      "|005930|2023.04.06 14:30|                     떨어진다 흐아앙|  224|  0|  0|                0|\n",
      "|005930|2023.04.06 14:30|이젠 삼전보단 에코가 더 안전종목이군|  244|  1|  1|                0|\n",
      "|005930|2023.04.06 14:29|                          꼴통전자  |  240|  0|  1|                0|\n",
      "|005930|2023.04.06 14:29|                       개 언론, 조심|  239|  0|  0|                0|\n",
      "|005930|2023.04.06 14:28|                          리세션온다|  276|  0|  0|                0|\n",
      "+------+----------------+------------------------------------+-----+---+---+-----------------+\n",
      "only showing top 20 rows\n",
      "\n"
     ]
    }
   ],
   "source": [
    "temp = spark.read.parquet(\"hdfs://192.168.219.121:9000/crawling_stock_text_merge/text_merged.parquet\")\n",
    "temp.show()"
   ]
  },
  {
   "cell_type": "code",
   "execution_count": 3,
   "id": "d20d360b-63f1-4053-a5a6-9951d3f49674",
   "metadata": {},
   "outputs": [
    {
     "name": "stdout",
     "output_type": "stream",
     "text": [
      "23/05/31 22:59:44 WARN ExecutorPodsWatchSnapshotSource: Kubernetes client has been closed.\n"
     ]
    }
   ],
   "source": [
    "df1=spark.read.parquet(\"hdfs://192.168.219.121:9000/stock_processed/stock_df_processed.parquet\")"
   ]
  },
  {
   "cell_type": "code",
   "execution_count": 6,
   "id": "48926aa4-279f-4740-ae9a-ba231f2a4cd8",
   "metadata": {},
   "outputs": [
    {
     "name": "stdout",
     "output_type": "stream",
     "text": [
      "23/05/31 23:06:29 WARN ExecutorPodsWatchSnapshotSource: Kubernetes client has been closed.\n"
     ]
    }
   ],
   "source": [
    "spark.stop()"
   ]
  },
  {
   "cell_type": "code",
   "execution_count": null,
   "id": "ad0e7061-1cd4-4762-8852-9355f4bd2082",
   "metadata": {},
   "outputs": [],
   "source": []
  }
 ],
 "metadata": {
  "kernelspec": {
   "display_name": "Python 3 (ipykernel)",
   "language": "python",
   "name": "python3"
  },
  "language_info": {
   "codemirror_mode": {
    "name": "ipython",
    "version": 3
   },
   "file_extension": ".py",
   "mimetype": "text/x-python",
   "name": "python",
   "nbconvert_exporter": "python",
   "pygments_lexer": "ipython3",
   "version": "3.9.14"
  }
 },
 "nbformat": 4,
 "nbformat_minor": 5
}
